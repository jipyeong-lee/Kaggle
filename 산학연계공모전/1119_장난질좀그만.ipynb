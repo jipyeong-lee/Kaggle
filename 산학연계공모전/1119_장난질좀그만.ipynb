{
 "cells": [
  {
   "cell_type": "code",
   "execution_count": 1,
   "metadata": {},
   "outputs": [],
   "source": [
    "### General ###\n",
    "import os\n",
    "import sys\n",
    "import copy\n",
    "from tqdm import tqdm\n",
    "import pickle\n",
    "import random\n",
    "import warnings\n",
    "warnings.filterwarnings(\"ignore\")\n",
    "\n",
    "### Data Wrangling ###\n",
    "import numpy as np\n",
    "import pandas as pd\n",
    "from scipy import stats\n",
    "from datetime import datetime, timedelta\n",
    "\n",
    "### Data Visualization ###\n",
    "import seaborn as sns\n",
    "import matplotlib.pyplot as plt\n",
    "plt.style.use(\"fivethirtyeight\")\n",
    "\n",
    "### Machine Learning ###\n",
    "from sklearn.decomposition import PCA\n",
    "from sklearn.preprocessing import LabelEncoder\n",
    "from sklearn.metrics import roc_auc_score, log_loss\n",
    "from sklearn.preprocessing import QuantileTransformer\n",
    "from sklearn.feature_selection import VarianceThreshold\n",
    "#from iterstrat.ml_stratifiers import MultilabelStratifiedKFold\n",
    "import lightgbm as lgb\n",
    "import xgboost as xgb\n",
    "\n",
    "### Deep Learning ###\n",
    "import torch\n",
    "from torch import nn\n",
    "import torch.optim as optim\n",
    "from torch.nn import functional as F\n",
    "from torch.nn.modules.loss import _WeightedLoss\n",
    "from torch.utils.data import DataLoader, Dataset\n",
    "from torch.optim.lr_scheduler import ReduceLROnPlateau\n",
    "# Tabnet \n",
    "from pytorch_tabnet.metrics import Metric\n",
    "from pytorch_tabnet.tab_model import TabNetRegressor\n",
    "\n",
    "# 한글 폰트 설정\n",
    "from statsmodels import robust\n",
    "from matplotlib import font_manager, rc\n",
    "%matplotlib inline\n",
    "\n",
    "import platform\n",
    "your_os = platform.system()\n",
    "if your_os == 'Linux':\n",
    "    rc('font', family='NanumGothic')\n",
    "elif your_os == 'Windows':\n",
    "    ttf = \"c:/Windows/Fonts/malgun.ttf\"\n",
    "    font_name = font_manager.FontProperties(fname=ttf).get_name()\n",
    "    rc('font', family=font_name)\n",
    "elif your_os == 'Darwin':\n",
    "    rc('font', family='AppleGothic')\n",
    "rc('axes', unicode_minus=False)"
   ]
  },
  {
   "cell_type": "code",
   "execution_count": 2,
   "metadata": {},
   "outputs": [],
   "source": [
    "# 데이터 불러오기\n",
    "train = pd.read_csv('data/trainset.csv')\n",
    "test = pd.read_csv('data/testset_final.csv')\n",
    "\n",
    "# susbmssion\n",
    "submission = pd.read_csv('data/sample_submission_final.csv')"
   ]
  },
  {
   "cell_type": "code",
   "execution_count": 3,
   "metadata": {},
   "outputs": [],
   "source": [
    "train = train.drop(['매니저주소', '매니저최초가입일', '매니저최초서비스일'], axis=1)"
   ]
  },
  {
   "cell_type": "code",
   "execution_count": 4,
   "metadata": {},
   "outputs": [
    {
     "data": {
      "text/plain": [
       "((23009, 30), (4244, 29), (4244, 2))"
      ]
     },
     "execution_count": 4,
     "metadata": {},
     "output_type": "execute_result"
    }
   ],
   "source": [
    "train.shape, test.shape, submission.shape"
   ]
  },
  {
   "cell_type": "code",
   "execution_count": 5,
   "metadata": {},
   "outputs": [
    {
     "data": {
      "text/html": [
       "<div>\n",
       "<style scoped>\n",
       "    .dataframe tbody tr th:only-of-type {\n",
       "        vertical-align: middle;\n",
       "    }\n",
       "\n",
       "    .dataframe tbody tr th {\n",
       "        vertical-align: top;\n",
       "    }\n",
       "\n",
       "    .dataframe thead th {\n",
       "        text-align: right;\n",
       "    }\n",
       "</style>\n",
       "<table border=\"1\" class=\"dataframe\">\n",
       "  <thead>\n",
       "    <tr style=\"text-align: right;\">\n",
       "      <th></th>\n",
       "      <th>SEQ</th>\n",
       "      <th>접수일</th>\n",
       "      <th>접수시각</th>\n",
       "      <th>장기서비스여부</th>\n",
       "      <th>최초서비스일</th>\n",
       "      <th>전체회차</th>\n",
       "      <th>현재회차</th>\n",
       "      <th>서비스일자</th>\n",
       "      <th>서비스시작시간</th>\n",
       "      <th>서비스종료시간</th>\n",
       "      <th>...</th>\n",
       "      <th>매니저생년월일</th>\n",
       "      <th>매니저성별</th>\n",
       "      <th>매니저사용휴대폰</th>\n",
       "      <th>매니저이동방법</th>\n",
       "      <th>근무가능지역</th>\n",
       "      <th>CS교육이수여부</th>\n",
       "      <th>청소교육이수여부</th>\n",
       "      <th>부재중서비스가능여부</th>\n",
       "      <th>추천인여부</th>\n",
       "      <th>매칭성공여부</th>\n",
       "    </tr>\n",
       "  </thead>\n",
       "  <tbody>\n",
       "    <tr>\n",
       "      <th>0</th>\n",
       "      <td>T06420</td>\n",
       "      <td>2019-07-09</td>\n",
       "      <td>NaN</td>\n",
       "      <td>1</td>\n",
       "      <td>2019-07-15</td>\n",
       "      <td>3</td>\n",
       "      <td>3</td>\n",
       "      <td>2019-07-29</td>\n",
       "      <td>9:00:00</td>\n",
       "      <td>13:00:00</td>\n",
       "      <td>...</td>\n",
       "      <td>1956-04-19</td>\n",
       "      <td>0</td>\n",
       "      <td>안드로이드</td>\n",
       "      <td>대중교통</td>\n",
       "      <td>서울</td>\n",
       "      <td>0.0</td>\n",
       "      <td>0.0</td>\n",
       "      <td>1</td>\n",
       "      <td>0</td>\n",
       "      <td>0</td>\n",
       "    </tr>\n",
       "    <tr>\n",
       "      <th>1</th>\n",
       "      <td>T15430</td>\n",
       "      <td>2019-07-12</td>\n",
       "      <td>NaN</td>\n",
       "      <td>1</td>\n",
       "      <td>2019-07-15</td>\n",
       "      <td>4</td>\n",
       "      <td>3</td>\n",
       "      <td>2019-08-20</td>\n",
       "      <td>10:00:00</td>\n",
       "      <td>16:00:00</td>\n",
       "      <td>...</td>\n",
       "      <td>1976-06-10</td>\n",
       "      <td>0</td>\n",
       "      <td>안드로이드</td>\n",
       "      <td>대중교통</td>\n",
       "      <td>천안/아산</td>\n",
       "      <td>1.0</td>\n",
       "      <td>1.0</td>\n",
       "      <td>1</td>\n",
       "      <td>0</td>\n",
       "      <td>0</td>\n",
       "    </tr>\n",
       "    <tr>\n",
       "      <th>2</th>\n",
       "      <td>T23790</td>\n",
       "      <td>2020-11-18</td>\n",
       "      <td>NaN</td>\n",
       "      <td>1</td>\n",
       "      <td>2020-11-23</td>\n",
       "      <td>10</td>\n",
       "      <td>6</td>\n",
       "      <td>2020-12-11</td>\n",
       "      <td>9:00:00</td>\n",
       "      <td>13:00:00</td>\n",
       "      <td>...</td>\n",
       "      <td>1970-04-05</td>\n",
       "      <td>0</td>\n",
       "      <td>안드로이드</td>\n",
       "      <td>대중교통</td>\n",
       "      <td>천안/아산</td>\n",
       "      <td>0.0</td>\n",
       "      <td>0.0</td>\n",
       "      <td>0</td>\n",
       "      <td>0</td>\n",
       "      <td>0</td>\n",
       "    </tr>\n",
       "    <tr>\n",
       "      <th>3</th>\n",
       "      <td>T18740</td>\n",
       "      <td>2020-11-09</td>\n",
       "      <td>NaN</td>\n",
       "      <td>1</td>\n",
       "      <td>2020-11-09</td>\n",
       "      <td>4</td>\n",
       "      <td>4</td>\n",
       "      <td>2020-11-30</td>\n",
       "      <td>9:00:00</td>\n",
       "      <td>14:00:00</td>\n",
       "      <td>...</td>\n",
       "      <td>1956-04-19</td>\n",
       "      <td>0</td>\n",
       "      <td>안드로이드</td>\n",
       "      <td>대중교통</td>\n",
       "      <td>서울</td>\n",
       "      <td>0.0</td>\n",
       "      <td>0.0</td>\n",
       "      <td>1</td>\n",
       "      <td>0</td>\n",
       "      <td>0</td>\n",
       "    </tr>\n",
       "    <tr>\n",
       "      <th>4</th>\n",
       "      <td>T08451</td>\n",
       "      <td>2020-02-25</td>\n",
       "      <td>NaN</td>\n",
       "      <td>1</td>\n",
       "      <td>2020-03-31</td>\n",
       "      <td>2</td>\n",
       "      <td>2</td>\n",
       "      <td>2020-04-07</td>\n",
       "      <td>9:00:00</td>\n",
       "      <td>13:00:00</td>\n",
       "      <td>...</td>\n",
       "      <td>1966-03-24</td>\n",
       "      <td>0</td>\n",
       "      <td>안드로이드</td>\n",
       "      <td>대중교통</td>\n",
       "      <td>천안/아산</td>\n",
       "      <td>0.0</td>\n",
       "      <td>0.0</td>\n",
       "      <td>1</td>\n",
       "      <td>0</td>\n",
       "      <td>1</td>\n",
       "    </tr>\n",
       "  </tbody>\n",
       "</table>\n",
       "<p>5 rows × 30 columns</p>\n",
       "</div>"
      ],
      "text/plain": [
       "      SEQ         접수일 접수시각  장기서비스여부      최초서비스일  전체회차  현재회차       서비스일자  \\\n",
       "0  T06420  2019-07-09  NaN        1  2019-07-15     3     3  2019-07-29   \n",
       "1  T15430  2019-07-12  NaN        1  2019-07-15     4     3  2019-08-20   \n",
       "2  T23790  2020-11-18  NaN        1  2020-11-23    10     6  2020-12-11   \n",
       "3  T18740  2020-11-09  NaN        1  2020-11-09     4     4  2020-11-30   \n",
       "4  T08451  2020-02-25  NaN        1  2020-03-31     2     2  2020-04-07   \n",
       "\n",
       "    서비스시작시간   서비스종료시간  ...     매니저생년월일 매니저성별 매니저사용휴대폰 매니저이동방법 근무가능지역 CS교육이수여부  \\\n",
       "0   9:00:00  13:00:00  ...  1956-04-19     0    안드로이드    대중교통     서울      0.0   \n",
       "1  10:00:00  16:00:00  ...  1976-06-10     0    안드로이드    대중교통  천안/아산      1.0   \n",
       "2   9:00:00  13:00:00  ...  1970-04-05     0    안드로이드    대중교통  천안/아산      0.0   \n",
       "3   9:00:00  14:00:00  ...  1956-04-19     0    안드로이드    대중교통     서울      0.0   \n",
       "4   9:00:00  13:00:00  ...  1966-03-24     0    안드로이드    대중교통  천안/아산      0.0   \n",
       "\n",
       "  청소교육이수여부  부재중서비스가능여부 추천인여부  매칭성공여부  \n",
       "0      0.0           1     0       0  \n",
       "1      1.0           1     0       0  \n",
       "2      0.0           0     0       0  \n",
       "3      0.0           1     0       0  \n",
       "4      0.0           1     0       1  \n",
       "\n",
       "[5 rows x 30 columns]"
      ]
     },
     "execution_count": 5,
     "metadata": {},
     "output_type": "execute_result"
    }
   ],
   "source": [
    "train.head(5)"
   ]
  },
  {
   "cell_type": "code",
   "execution_count": 6,
   "metadata": {},
   "outputs": [
    {
     "data": {
      "text/html": [
       "<div>\n",
       "<style scoped>\n",
       "    .dataframe tbody tr th:only-of-type {\n",
       "        vertical-align: middle;\n",
       "    }\n",
       "\n",
       "    .dataframe tbody tr th {\n",
       "        vertical-align: top;\n",
       "    }\n",
       "\n",
       "    .dataframe thead th {\n",
       "        text-align: right;\n",
       "    }\n",
       "</style>\n",
       "<table border=\"1\" class=\"dataframe\">\n",
       "  <thead>\n",
       "    <tr style=\"text-align: right;\">\n",
       "      <th></th>\n",
       "      <th>SEQ</th>\n",
       "      <th>pred</th>\n",
       "    </tr>\n",
       "  </thead>\n",
       "  <tbody>\n",
       "    <tr>\n",
       "      <th>0</th>\n",
       "      <td>T54370</td>\n",
       "      <td>0.5</td>\n",
       "    </tr>\n",
       "    <tr>\n",
       "      <th>1</th>\n",
       "      <td>T47892</td>\n",
       "      <td>0.5</td>\n",
       "    </tr>\n",
       "    <tr>\n",
       "      <th>2</th>\n",
       "      <td>T56637</td>\n",
       "      <td>0.5</td>\n",
       "    </tr>\n",
       "    <tr>\n",
       "      <th>3</th>\n",
       "      <td>T45487</td>\n",
       "      <td>0.5</td>\n",
       "    </tr>\n",
       "    <tr>\n",
       "      <th>4</th>\n",
       "      <td>T41995</td>\n",
       "      <td>0.5</td>\n",
       "    </tr>\n",
       "  </tbody>\n",
       "</table>\n",
       "</div>"
      ],
      "text/plain": [
       "      SEQ  pred\n",
       "0  T54370   0.5\n",
       "1  T47892   0.5\n",
       "2  T56637   0.5\n",
       "3  T45487   0.5\n",
       "4  T41995   0.5"
      ]
     },
     "execution_count": 6,
     "metadata": {},
     "output_type": "execute_result"
    }
   ],
   "source": [
    "submission.head()"
   ]
  },
  {
   "cell_type": "code",
   "execution_count": 7,
   "metadata": {},
   "outputs": [
    {
     "data": {
      "text/plain": [
       "('2019-04-09', '2021-09-29', '2019-04-09', '2021-11-12')"
      ]
     },
     "execution_count": 7,
     "metadata": {},
     "output_type": "execute_result"
    }
   ],
   "source": [
    "train['접수일'].min(), train['접수일'].max(), test['접수일'].min(), test['접수일'].max()"
   ]
  },
  {
   "cell_type": "code",
   "execution_count": 8,
   "metadata": {},
   "outputs": [
    {
     "data": {
      "text/plain": [
       "(1    20726\n",
       " 0     2283\n",
       " Name: 장기서비스여부, dtype: int64,\n",
       " 1    3666\n",
       " 0     578\n",
       " Name: 장기서비스여부, dtype: int64)"
      ]
     },
     "execution_count": 8,
     "metadata": {},
     "output_type": "execute_result"
    }
   ],
   "source": [
    "train['장기서비스여부'].value_counts(), test['장기서비스여부'].value_counts()"
   ]
  },
  {
   "cell_type": "code",
   "execution_count": 9,
   "metadata": {},
   "outputs": [
    {
     "data": {
      "text/plain": [
       "(1    20084\n",
       " 0     2925\n",
       " Name: 기존고객여부, dtype: int64,\n",
       " 1    3643\n",
       " 0     601\n",
       " Name: 기존고객여부, dtype: int64)"
      ]
     },
     "execution_count": 9,
     "metadata": {},
     "output_type": "execute_result"
    }
   ],
   "source": [
    "train['기존고객여부'].value_counts(), test['기존고객여부'].value_counts()"
   ]
  },
  {
   "cell_type": "code",
   "execution_count": 10,
   "metadata": {},
   "outputs": [
    {
     "data": {
      "text/plain": [
       "(신용카드     15428\n",
       " 무통장입금     5961\n",
       " 가상계좌      1609\n",
       " 미수          11\n",
       " Name: 결재형태, dtype: int64,\n",
       " 신용카드     2904\n",
       " 무통장입금    1014\n",
       " 가상계좌      320\n",
       " Name: 결재형태, dtype: int64)"
      ]
     },
     "execution_count": 10,
     "metadata": {},
     "output_type": "execute_result"
    }
   ],
   "source": [
    "train['결재형태'].value_counts(), test['결재형태'].value_counts()"
   ]
  },
  {
   "cell_type": "code",
   "execution_count": 11,
   "metadata": {},
   "outputs": [
    {
     "data": {
      "text/plain": [
       "(일반주택       19655\n",
       " 오피스텔/원룸     3354\n",
       " Name: 주거형태, dtype: int64,\n",
       " 일반주택       3304\n",
       " 오피스텔/원룸     940\n",
       " Name: 주거형태, dtype: int64)"
      ]
     },
     "execution_count": 11,
     "metadata": {},
     "output_type": "execute_result"
    }
   ],
   "source": [
    "train['주거형태'].value_counts(), test['주거형태'].value_counts()"
   ]
  },
  {
   "cell_type": "code",
   "execution_count": 12,
   "metadata": {},
   "outputs": [
    {
     "data": {
      "text/plain": [
       "(40평대이상    5831\n",
       " 30평대      5357\n",
       " 20평대      1772\n",
       " 10평대       896\n",
       " Name: 평수, dtype: int64,\n",
       " 30평대      1153\n",
       " 40평대이상     958\n",
       " 20평대       446\n",
       " 10평대       389\n",
       " Name: 평수, dtype: int64)"
      ]
     },
     "execution_count": 12,
     "metadata": {},
     "output_type": "execute_result"
    }
   ],
   "source": [
    "train['평수'].value_counts(), test['평수'].value_counts()"
   ]
  },
  {
   "cell_type": "code",
   "execution_count": 13,
   "metadata": {},
   "outputs": [
    {
     "data": {
      "text/plain": [
       "(0    23009\n",
       " Name: 매니저성별, dtype: int64,\n",
       " 0    4243\n",
       " 1       1\n",
       " Name: 매니저성별, dtype: int64)"
      ]
     },
     "execution_count": 13,
     "metadata": {},
     "output_type": "execute_result"
    }
   ],
   "source": [
    "train['매니저성별'].value_counts(), test['매니저성별'].value_counts()"
   ]
  },
  {
   "cell_type": "code",
   "execution_count": 14,
   "metadata": {},
   "outputs": [
    {
     "data": {
      "text/plain": [
       "(안드로이드    17971\n",
       " 기타        1705\n",
       " ios        534\n",
       " Name: 매니저사용휴대폰, dtype: int64,\n",
       " 안드로이드    3429\n",
       " 기타        300\n",
       " ios        85\n",
       " Name: 매니저사용휴대폰, dtype: int64)"
      ]
     },
     "execution_count": 14,
     "metadata": {},
     "output_type": "execute_result"
    }
   ],
   "source": [
    "train['매니저사용휴대폰'].value_counts(), test['매니저사용휴대폰'].value_counts()"
   ]
  },
  {
   "cell_type": "code",
   "execution_count": 15,
   "metadata": {},
   "outputs": [
    {
     "data": {
      "text/plain": [
       "(대중교통    17249\n",
       " 자차       5510\n",
       " Name: 매니저이동방법, dtype: int64,\n",
       " 대중교통    3245\n",
       " 자차       927\n",
       " Name: 매니저이동방법, dtype: int64)"
      ]
     },
     "execution_count": 15,
     "metadata": {},
     "output_type": "execute_result"
    }
   ],
   "source": [
    "train['매니저이동방법'].value_counts(), test['매니저이동방법'].value_counts()"
   ]
  },
  {
   "cell_type": "code",
   "execution_count": 16,
   "metadata": {},
   "outputs": [
    {
     "data": {
      "text/plain": [
       "(천안/아산    14332\n",
       " 기타        2352\n",
       " 서울        2154\n",
       " 원주/춘천     2137\n",
       " 부산         824\n",
       " 광주         714\n",
       " 수도권        286\n",
       " 평택         210\n",
       " Name: 근무가능지역, dtype: int64,\n",
       " 천안/아산    2307\n",
       " 서울        610\n",
       " 원주/춘천     487\n",
       " 기타        444\n",
       " 광주        144\n",
       " 부산        107\n",
       " 수도권        93\n",
       " 평택         52\n",
       " Name: 근무가능지역, dtype: int64)"
      ]
     },
     "execution_count": 16,
     "metadata": {},
     "output_type": "execute_result"
    }
   ],
   "source": [
    "train['근무가능지역'].value_counts(), test['근무가능지역'].value_counts()"
   ]
  },
  {
   "cell_type": "code",
   "execution_count": 17,
   "metadata": {},
   "outputs": [
    {
     "data": {
      "text/plain": [
       "(0.0    16450\n",
       " 1.0     3760\n",
       " Name: CS교육이수여부, dtype: int64,\n",
       " 0.0    2922\n",
       " 1.0     893\n",
       " Name: CS교육이수여부, dtype: int64)"
      ]
     },
     "execution_count": 17,
     "metadata": {},
     "output_type": "execute_result"
    }
   ],
   "source": [
    "train['CS교육이수여부'].value_counts(), test['CS교육이수여부'].value_counts()"
   ]
  },
  {
   "cell_type": "code",
   "execution_count": 18,
   "metadata": {},
   "outputs": [
    {
     "data": {
      "text/plain": [
       "(0.0    15897\n",
       " 1.0     4313\n",
       " Name: 청소교육이수여부, dtype: int64,\n",
       " 0.0    2822\n",
       " 1.0     993\n",
       " Name: 청소교육이수여부, dtype: int64)"
      ]
     },
     "execution_count": 18,
     "metadata": {},
     "output_type": "execute_result"
    }
   ],
   "source": [
    "train['청소교육이수여부'].value_counts(), test['청소교육이수여부'].value_counts()"
   ]
  },
  {
   "cell_type": "code",
   "execution_count": 19,
   "metadata": {},
   "outputs": [
    {
     "data": {
      "text/plain": [
       "(1    19081\n",
       " 0     3928\n",
       " Name: 부재중서비스가능여부, dtype: int64,\n",
       " 1    3618\n",
       " 0     626\n",
       " Name: 부재중서비스가능여부, dtype: int64)"
      ]
     },
     "execution_count": 19,
     "metadata": {},
     "output_type": "execute_result"
    }
   ],
   "source": [
    "train['부재중서비스가능여부'].value_counts(), test['부재중서비스가능여부'].value_counts()"
   ]
  },
  {
   "cell_type": "code",
   "execution_count": 20,
   "metadata": {},
   "outputs": [
    {
     "data": {
      "text/plain": [
       "(0    22848\n",
       " 1      161\n",
       " Name: 추천인여부, dtype: int64,\n",
       " 0    4189\n",
       " 1      55\n",
       " Name: 추천인여부, dtype: int64)"
      ]
     },
     "execution_count": 20,
     "metadata": {},
     "output_type": "execute_result"
    }
   ],
   "source": [
    "train['추천인여부'].value_counts(), test['추천인여부'].value_counts()"
   ]
  },
  {
   "cell_type": "markdown",
   "metadata": {},
   "source": [
    "## 기본 전처리 및 feature 생성"
   ]
  },
  {
   "cell_type": "code",
   "execution_count": 58,
   "metadata": {},
   "outputs": [
    {
     "ename": "AttributeError",
     "evalue": "Can only use .dt accessor with datetimelike values",
     "output_type": "error",
     "traceback": [
      "\u001b[1;31m---------------------------------------------------------------------------\u001b[0m",
      "\u001b[1;31mAttributeError\u001b[0m                            Traceback (most recent call last)",
      "\u001b[1;32m<ipython-input-58-a891849302d5>\u001b[0m in \u001b[0;36m<module>\u001b[1;34m\u001b[0m\n\u001b[0;32m      9\u001b[0m \u001b[0mtrain\u001b[0m\u001b[1;33m[\u001b[0m\u001b[1;34m'서비스시작시간'\u001b[0m\u001b[1;33m]\u001b[0m \u001b[1;33m=\u001b[0m \u001b[0mpd\u001b[0m\u001b[1;33m.\u001b[0m\u001b[0mto_datetime\u001b[0m\u001b[1;33m(\u001b[0m\u001b[0mtrain\u001b[0m\u001b[1;33m[\u001b[0m\u001b[1;34m'서비스시작시간'\u001b[0m\u001b[1;33m]\u001b[0m\u001b[1;33m,\u001b[0m \u001b[0mformat\u001b[0m\u001b[1;33m=\u001b[0m\u001b[1;34m'%H:%M:%S'\u001b[0m\u001b[1;33m)\u001b[0m\u001b[1;33m.\u001b[0m\u001b[0mdt\u001b[0m\u001b[1;33m.\u001b[0m\u001b[0mhour\u001b[0m\u001b[1;33m\u001b[0m\u001b[1;33m\u001b[0m\u001b[0m\n\u001b[0;32m     10\u001b[0m \u001b[0mtrain\u001b[0m\u001b[1;33m[\u001b[0m\u001b[1;34m'서비스종료시간'\u001b[0m\u001b[1;33m]\u001b[0m \u001b[1;33m=\u001b[0m \u001b[0mpd\u001b[0m\u001b[1;33m.\u001b[0m\u001b[0mto_datetime\u001b[0m\u001b[1;33m(\u001b[0m\u001b[0mtrain\u001b[0m\u001b[1;33m[\u001b[0m\u001b[1;34m'서비스종료시간'\u001b[0m\u001b[1;33m]\u001b[0m\u001b[1;33m,\u001b[0m \u001b[0mformat\u001b[0m\u001b[1;33m=\u001b[0m\u001b[1;34m'%H:%M:%S'\u001b[0m\u001b[1;33m)\u001b[0m\u001b[1;33m.\u001b[0m\u001b[0mdt\u001b[0m\u001b[1;33m.\u001b[0m\u001b[0mhour\u001b[0m\u001b[1;33m\u001b[0m\u001b[1;33m\u001b[0m\u001b[0m\n\u001b[1;32m---> 11\u001b[1;33m \u001b[0mtrain\u001b[0m\u001b[1;33m[\u001b[0m\u001b[1;34m'서비스시작시간2'\u001b[0m\u001b[1;33m]\u001b[0m \u001b[1;33m=\u001b[0m \u001b[0mtrain\u001b[0m\u001b[1;33m[\u001b[0m\u001b[1;34m'서비스시작시간'\u001b[0m\u001b[1;33m]\u001b[0m\u001b[1;33m.\u001b[0m\u001b[0mdt\u001b[0m\u001b[1;33m.\u001b[0m\u001b[0mhour\u001b[0m\u001b[1;33m\u001b[0m\u001b[1;33m\u001b[0m\u001b[0m\n\u001b[0m\u001b[0;32m     12\u001b[0m \u001b[0mtrain\u001b[0m\u001b[1;33m[\u001b[0m\u001b[1;34m'서비스종료시간2'\u001b[0m\u001b[1;33m]\u001b[0m \u001b[1;33m=\u001b[0m \u001b[0mtrain\u001b[0m\u001b[1;33m[\u001b[0m\u001b[1;34m'서비스종료시간'\u001b[0m\u001b[1;33m]\u001b[0m\u001b[1;33m.\u001b[0m\u001b[0mdt\u001b[0m\u001b[1;33m.\u001b[0m\u001b[0mhour\u001b[0m\u001b[1;33m\u001b[0m\u001b[1;33m\u001b[0m\u001b[0m\n\u001b[0;32m     13\u001b[0m \u001b[1;33m\u001b[0m\u001b[0m\n",
      "\u001b[1;32m~\\anaconda3\\lib\\site-packages\\pandas\\core\\generic.py\u001b[0m in \u001b[0;36m__getattr__\u001b[1;34m(self, name)\u001b[0m\n\u001b[0;32m   5459\u001b[0m             \u001b[1;32mor\u001b[0m \u001b[0mname\u001b[0m \u001b[1;32min\u001b[0m \u001b[0mself\u001b[0m\u001b[1;33m.\u001b[0m\u001b[0m_accessors\u001b[0m\u001b[1;33m\u001b[0m\u001b[1;33m\u001b[0m\u001b[0m\n\u001b[0;32m   5460\u001b[0m         ):\n\u001b[1;32m-> 5461\u001b[1;33m             \u001b[1;32mreturn\u001b[0m \u001b[0mobject\u001b[0m\u001b[1;33m.\u001b[0m\u001b[0m__getattribute__\u001b[0m\u001b[1;33m(\u001b[0m\u001b[0mself\u001b[0m\u001b[1;33m,\u001b[0m \u001b[0mname\u001b[0m\u001b[1;33m)\u001b[0m\u001b[1;33m\u001b[0m\u001b[1;33m\u001b[0m\u001b[0m\n\u001b[0m\u001b[0;32m   5462\u001b[0m         \u001b[1;32melse\u001b[0m\u001b[1;33m:\u001b[0m\u001b[1;33m\u001b[0m\u001b[1;33m\u001b[0m\u001b[0m\n\u001b[0;32m   5463\u001b[0m             \u001b[1;32mif\u001b[0m \u001b[0mself\u001b[0m\u001b[1;33m.\u001b[0m\u001b[0m_info_axis\u001b[0m\u001b[1;33m.\u001b[0m\u001b[0m_can_hold_identifiers_and_holds_name\u001b[0m\u001b[1;33m(\u001b[0m\u001b[0mname\u001b[0m\u001b[1;33m)\u001b[0m\u001b[1;33m:\u001b[0m\u001b[1;33m\u001b[0m\u001b[1;33m\u001b[0m\u001b[0m\n",
      "\u001b[1;32m~\\anaconda3\\lib\\site-packages\\pandas\\core\\accessor.py\u001b[0m in \u001b[0;36m__get__\u001b[1;34m(self, obj, cls)\u001b[0m\n\u001b[0;32m    178\u001b[0m             \u001b[1;31m# we're accessing the attribute of the class, i.e., Dataset.geo\u001b[0m\u001b[1;33m\u001b[0m\u001b[1;33m\u001b[0m\u001b[1;33m\u001b[0m\u001b[0m\n\u001b[0;32m    179\u001b[0m             \u001b[1;32mreturn\u001b[0m \u001b[0mself\u001b[0m\u001b[1;33m.\u001b[0m\u001b[0m_accessor\u001b[0m\u001b[1;33m\u001b[0m\u001b[1;33m\u001b[0m\u001b[0m\n\u001b[1;32m--> 180\u001b[1;33m         \u001b[0maccessor_obj\u001b[0m \u001b[1;33m=\u001b[0m \u001b[0mself\u001b[0m\u001b[1;33m.\u001b[0m\u001b[0m_accessor\u001b[0m\u001b[1;33m(\u001b[0m\u001b[0mobj\u001b[0m\u001b[1;33m)\u001b[0m\u001b[1;33m\u001b[0m\u001b[1;33m\u001b[0m\u001b[0m\n\u001b[0m\u001b[0;32m    181\u001b[0m         \u001b[1;31m# Replace the property with the accessor object. Inspired by:\u001b[0m\u001b[1;33m\u001b[0m\u001b[1;33m\u001b[0m\u001b[1;33m\u001b[0m\u001b[0m\n\u001b[0;32m    182\u001b[0m         \u001b[1;31m# https://www.pydanny.com/cached-property.html\u001b[0m\u001b[1;33m\u001b[0m\u001b[1;33m\u001b[0m\u001b[1;33m\u001b[0m\u001b[0m\n",
      "\u001b[1;32m~\\anaconda3\\lib\\site-packages\\pandas\\core\\indexes\\accessors.py\u001b[0m in \u001b[0;36m__new__\u001b[1;34m(cls, data)\u001b[0m\n\u001b[0;32m    492\u001b[0m             \u001b[1;32mreturn\u001b[0m \u001b[0mPeriodProperties\u001b[0m\u001b[1;33m(\u001b[0m\u001b[0mdata\u001b[0m\u001b[1;33m,\u001b[0m \u001b[0morig\u001b[0m\u001b[1;33m)\u001b[0m\u001b[1;33m\u001b[0m\u001b[1;33m\u001b[0m\u001b[0m\n\u001b[0;32m    493\u001b[0m \u001b[1;33m\u001b[0m\u001b[0m\n\u001b[1;32m--> 494\u001b[1;33m         \u001b[1;32mraise\u001b[0m \u001b[0mAttributeError\u001b[0m\u001b[1;33m(\u001b[0m\u001b[1;34m\"Can only use .dt accessor with datetimelike values\"\u001b[0m\u001b[1;33m)\u001b[0m\u001b[1;33m\u001b[0m\u001b[1;33m\u001b[0m\u001b[0m\n\u001b[0m",
      "\u001b[1;31mAttributeError\u001b[0m: Can only use .dt accessor with datetimelike values"
     ]
    }
   ],
   "source": [
    "# 날짜 처리\n",
    "train['접수일'] = pd.to_datetime(train['접수일'])\n",
    "train['최초서비스일'] = pd.to_datetime(train['최초서비스일'])\n",
    "train['서비스일자'] = pd.to_datetime(train['서비스일자'])\n",
    "train['고객가입일'] = pd.to_datetime(train['고객가입일'])\n",
    "train['매니저생년월일'] = pd.to_datetime(train['매니저생년월일']).dt.year\n",
    "\n",
    "# 시간 처리\n",
    "train['서비스시작시간'] = pd.to_datetime(train['서비스시작시간'], format='%H:%M:%S').dt.hour\n",
    "train['서비스종료시간'] = pd.to_datetime(train['서비스종료시간'], format='%H:%M:%S').dt.hour\n",
    "\n",
    "train['서비스소요시간'] = train['서비스종료시간'] - train['서비스시작시간']\n",
    "train['회차사용비율'] = train['현재회차'] / train['전체회차']\n",
    "\n",
    "# 기간 관련 피처\n",
    "#train['접수일기준_고객가입기간'] = train['접수일'] - train['고객가입일']\n",
    "train['접수후최초서비스걸린시일'] = train['최초서비스일'] - train['접수일']\n",
    "train['접수후서비스걸린시일'] = train['서비스일자'] - train['접수일']\n",
    "train['최초서비스_서비스_시일'] = train['서비스일자'] - train['최초서비스일']"
   ]
  },
  {
   "cell_type": "code",
   "execution_count": 22,
   "metadata": {},
   "outputs": [],
   "source": [
    "# 날짜 처리\n",
    "test['접수일'] = pd.to_datetime(test['접수일'])\n",
    "test['최초서비스일'] = pd.to_datetime(test['최초서비스일'])\n",
    "test['서비스일자'] = pd.to_datetime(test['서비스일자'])\n",
    "test['고객가입일'] = pd.to_datetime(test['고객가입일'])\n",
    "#test['매니저생년월일'] = pd.to_datetime(test['매니저생년월일'])\n",
    "\n",
    "# 시간 처리\n",
    "test['서비스시작시간'] = pd.to_datetime(test['서비스시작시간'], format='%H:%M:%S').dt.hour\n",
    "test['서비스종료시간'] = pd.to_datetime(test['서비스종료시간'], format='%H:%M:%S').dt.hour\n",
    "\n",
    "test['서비스소요시간'] = test['서비스종료시간'] - test['서비스시작시간']\n",
    "test['회차사용비율'] = test['현재회차'] / test['전체회차']\n",
    "\n",
    "# 기간 관련 피처\n",
    "#test['접수일기준_고객가입기간'] = test['접수일'] - test['고객가입일']\n",
    "test['접수후최초서비스걸린시일'] = test['최초서비스일'] - test['접수일']\n",
    "test['접수후서비스걸린시일'] = test['서비스일자'] - test['접수일']\n",
    "test['최초서비스_서비스_시일'] = test['서비스일자'] - test['최초서비스일']"
   ]
  },
  {
   "cell_type": "code",
   "execution_count": 23,
   "metadata": {},
   "outputs": [],
   "source": [
    "# timedelta 형식 feature -> int형식으로\n",
    "#train['접수일기준_고객가입기간'] = train['접수일기준_고객가입기간'].dt.days.astype('int16')\n",
    "train['접수후최초서비스걸린시일'] = train['접수후최초서비스걸린시일'].dt.days.astype('int16')\n",
    "train['접수후서비스걸린시일'] = train['접수후서비스걸린시일'].dt.days.astype('int16')\n",
    "train['최초서비스_서비스_시일'] = train['최초서비스_서비스_시일'].dt.days.astype('int16')\n",
    "train['서비스소요시간'] = train['서비스소요시간'].dt.seconds.astype('int32') // 3600\n",
    "\n",
    "#test['접수일기준_고객가입기간'] = test['접수일기준_고객가입기간'].dt.days.astype('int16')\n",
    "test['접수후최초서비스걸린시일'] = test['접수후최초서비스걸린시일'].dt.days.astype('int16')\n",
    "test['접수후서비스걸린시일'] = test['접수후서비스걸린시일'].dt.days.astype('int16')\n",
    "test['최초서비스_서비스_시일'] = test['최초서비스_서비스_시일'].dt.days.astype('int16')\n",
    "test['서비스소요시간'] = test['서비스소요시간'].dt.seconds.astype('int32') // 3600"
   ]
  },
  {
   "cell_type": "code",
   "execution_count": 24,
   "metadata": {},
   "outputs": [],
   "source": [
    "# 시간 추가 여부\n",
    "train['시간추가여부'] = train['서비스소요시간'].apply(lambda x : 0 if x in [2, 4, 6, 8] else 1)\n",
    "test['시간추가여부'] = test['서비스소요시간'].apply(lambda x : 0 if x in [2, 4, 6, 8] else 1)"
   ]
  },
  {
   "cell_type": "code",
   "execution_count": 25,
   "metadata": {},
   "outputs": [],
   "source": [
    "train['시간비율'] = train['서비스시작시간'] / train['서비스종료시간']\n",
    "test['시간비율'] = test['서비스시작시간'] / test['서비스종료시간']"
   ]
  },
  {
   "cell_type": "code",
   "execution_count": 26,
   "metadata": {
    "code_folding": [
     0
    ]
   },
   "outputs": [],
   "source": [
    "# sin, cos encoding 월/주/일까지 적용\n",
    "#train['sin_서비스시작시간'] = np.sin(2*np.pi*train['서비스시작시간2']/24)\n",
    "#train['cos_서비스시작시간'] = np.cos(2*np.pi*train['서비스시작시간2']/24)\n",
    "#train['sin_서비스종료시간'] = np.sin(2*np.pi*train['서비스종료시간2']/24)\n",
    "#train['cos_서비스종료시간'] = np.cos(2*np.pi*train['서비스종료시간2']/24)\n",
    "\n",
    "#test['sin_서비스시작시간'] = np.sin(2*np.pi*test['서비스시작시간2']/24)\n",
    "#test['cos_서비스시작시간'] = np.cos(2*np.pi*test['서비스시작시간2']/24)\n",
    "#test['sin_서비스종료시간'] = np.sin(2*np.pi*test['서비스종료시간2']/24)\n",
    "#test['cos_서비스종료시간'] = np.cos(2*np.pi*test['서비스종료시간2']/24)"
   ]
  },
  {
   "cell_type": "code",
   "execution_count": 27,
   "metadata": {},
   "outputs": [],
   "source": [
    "# 매니저 나이\n",
    "train['매니저나이'] = train['매니저생년월일'].apply(lambda x : 2021 - x)\n",
    "test['매니저나이'] = test['매니저생년월일'].apply(lambda x : 2021 - x)"
   ]
  },
  {
   "cell_type": "code",
   "execution_count": 28,
   "metadata": {},
   "outputs": [],
   "source": [
    "#고객 열만~ \n",
    "na_sum = []\n",
    "for i in range (0, train.shape[0], 1):\n",
    "    na_all = train.iloc[i:i+1, 3:20].isna().sum().sum()\n",
    "    na_sum.append(na_all)"
   ]
  },
  {
   "cell_type": "code",
   "execution_count": 29,
   "metadata": {},
   "outputs": [],
   "source": [
    "na_sum_te = []\n",
    "for i in range (0, test.shape[0], 1):\n",
    "    na_all = test.iloc[i:i+1, 3:20].isna().sum().sum()\n",
    "    na_sum_te.append(na_all)"
   ]
  },
  {
   "cell_type": "code",
   "execution_count": 30,
   "metadata": {},
   "outputs": [],
   "source": [
    "na_df = pd.DataFrame(na_sum)\n",
    "na_df.columns = ['na값']"
   ]
  },
  {
   "cell_type": "code",
   "execution_count": 31,
   "metadata": {},
   "outputs": [],
   "source": [
    "na_df_te = pd.DataFrame(na_sum_te)\n",
    "na_df_te.columns = ['na값']"
   ]
  },
  {
   "cell_type": "code",
   "execution_count": 32,
   "metadata": {},
   "outputs": [],
   "source": [
    "train = pd.concat([train, na_df], axis=1)\n",
    "test = pd.concat([test, na_df_te], axis=1)"
   ]
  },
  {
   "cell_type": "code",
   "execution_count": 33,
   "metadata": {},
   "outputs": [
    {
     "data": {
      "text/html": [
       "<div>\n",
       "<style scoped>\n",
       "    .dataframe tbody tr th:only-of-type {\n",
       "        vertical-align: middle;\n",
       "    }\n",
       "\n",
       "    .dataframe tbody tr th {\n",
       "        vertical-align: top;\n",
       "    }\n",
       "\n",
       "    .dataframe thead th {\n",
       "        text-align: right;\n",
       "    }\n",
       "</style>\n",
       "<table border=\"1\" class=\"dataframe\">\n",
       "  <thead>\n",
       "    <tr style=\"text-align: right;\">\n",
       "      <th></th>\n",
       "      <th>SEQ</th>\n",
       "      <th>접수일</th>\n",
       "      <th>접수시각</th>\n",
       "      <th>장기서비스여부</th>\n",
       "      <th>최초서비스일</th>\n",
       "      <th>전체회차</th>\n",
       "      <th>현재회차</th>\n",
       "      <th>서비스일자</th>\n",
       "      <th>서비스시작시간</th>\n",
       "      <th>서비스종료시간</th>\n",
       "      <th>...</th>\n",
       "      <th>서비스종료시간2</th>\n",
       "      <th>서비스소요시간</th>\n",
       "      <th>회차사용비율</th>\n",
       "      <th>접수후최초서비스걸린시일</th>\n",
       "      <th>접수후서비스걸린시일</th>\n",
       "      <th>최초서비스_서비스_시일</th>\n",
       "      <th>시간추가여부</th>\n",
       "      <th>시간비율</th>\n",
       "      <th>매니저나이</th>\n",
       "      <th>na값</th>\n",
       "    </tr>\n",
       "  </thead>\n",
       "  <tbody>\n",
       "    <tr>\n",
       "      <th>0</th>\n",
       "      <td>T06420</td>\n",
       "      <td>2019-07-09</td>\n",
       "      <td>NaN</td>\n",
       "      <td>1</td>\n",
       "      <td>2019-07-15</td>\n",
       "      <td>3</td>\n",
       "      <td>3</td>\n",
       "      <td>2019-07-29</td>\n",
       "      <td>1900-01-01 09:00:00</td>\n",
       "      <td>1900-01-01 13:00:00</td>\n",
       "      <td>...</td>\n",
       "      <td>13</td>\n",
       "      <td>4</td>\n",
       "      <td>1.00</td>\n",
       "      <td>6</td>\n",
       "      <td>20</td>\n",
       "      <td>14</td>\n",
       "      <td>0</td>\n",
       "      <td>0.692308</td>\n",
       "      <td>65</td>\n",
       "      <td>4</td>\n",
       "    </tr>\n",
       "    <tr>\n",
       "      <th>1</th>\n",
       "      <td>T15430</td>\n",
       "      <td>2019-07-12</td>\n",
       "      <td>NaN</td>\n",
       "      <td>1</td>\n",
       "      <td>2019-07-15</td>\n",
       "      <td>4</td>\n",
       "      <td>3</td>\n",
       "      <td>2019-08-20</td>\n",
       "      <td>1900-01-01 10:00:00</td>\n",
       "      <td>1900-01-01 16:00:00</td>\n",
       "      <td>...</td>\n",
       "      <td>16</td>\n",
       "      <td>6</td>\n",
       "      <td>0.75</td>\n",
       "      <td>3</td>\n",
       "      <td>39</td>\n",
       "      <td>36</td>\n",
       "      <td>0</td>\n",
       "      <td>0.625000</td>\n",
       "      <td>45</td>\n",
       "      <td>3</td>\n",
       "    </tr>\n",
       "    <tr>\n",
       "      <th>2</th>\n",
       "      <td>T23790</td>\n",
       "      <td>2020-11-18</td>\n",
       "      <td>NaN</td>\n",
       "      <td>1</td>\n",
       "      <td>2020-11-23</td>\n",
       "      <td>10</td>\n",
       "      <td>6</td>\n",
       "      <td>2020-12-11</td>\n",
       "      <td>1900-01-01 09:00:00</td>\n",
       "      <td>1900-01-01 13:00:00</td>\n",
       "      <td>...</td>\n",
       "      <td>13</td>\n",
       "      <td>4</td>\n",
       "      <td>0.60</td>\n",
       "      <td>5</td>\n",
       "      <td>23</td>\n",
       "      <td>18</td>\n",
       "      <td>0</td>\n",
       "      <td>0.692308</td>\n",
       "      <td>51</td>\n",
       "      <td>1</td>\n",
       "    </tr>\n",
       "    <tr>\n",
       "      <th>3</th>\n",
       "      <td>T18740</td>\n",
       "      <td>2020-11-09</td>\n",
       "      <td>NaN</td>\n",
       "      <td>1</td>\n",
       "      <td>2020-11-09</td>\n",
       "      <td>4</td>\n",
       "      <td>4</td>\n",
       "      <td>2020-11-30</td>\n",
       "      <td>1900-01-01 09:00:00</td>\n",
       "      <td>1900-01-01 14:00:00</td>\n",
       "      <td>...</td>\n",
       "      <td>14</td>\n",
       "      <td>5</td>\n",
       "      <td>1.00</td>\n",
       "      <td>0</td>\n",
       "      <td>21</td>\n",
       "      <td>21</td>\n",
       "      <td>1</td>\n",
       "      <td>0.642857</td>\n",
       "      <td>65</td>\n",
       "      <td>0</td>\n",
       "    </tr>\n",
       "    <tr>\n",
       "      <th>4</th>\n",
       "      <td>T08451</td>\n",
       "      <td>2020-02-25</td>\n",
       "      <td>NaN</td>\n",
       "      <td>1</td>\n",
       "      <td>2020-03-31</td>\n",
       "      <td>2</td>\n",
       "      <td>2</td>\n",
       "      <td>2020-04-07</td>\n",
       "      <td>1900-01-01 09:00:00</td>\n",
       "      <td>1900-01-01 13:00:00</td>\n",
       "      <td>...</td>\n",
       "      <td>13</td>\n",
       "      <td>4</td>\n",
       "      <td>1.00</td>\n",
       "      <td>35</td>\n",
       "      <td>42</td>\n",
       "      <td>7</td>\n",
       "      <td>0</td>\n",
       "      <td>0.692308</td>\n",
       "      <td>55</td>\n",
       "      <td>4</td>\n",
       "    </tr>\n",
       "  </tbody>\n",
       "</table>\n",
       "<p>5 rows × 41 columns</p>\n",
       "</div>"
      ],
      "text/plain": [
       "      SEQ        접수일 접수시각  장기서비스여부     최초서비스일  전체회차  현재회차      서비스일자  \\\n",
       "0  T06420 2019-07-09  NaN        1 2019-07-15     3     3 2019-07-29   \n",
       "1  T15430 2019-07-12  NaN        1 2019-07-15     4     3 2019-08-20   \n",
       "2  T23790 2020-11-18  NaN        1 2020-11-23    10     6 2020-12-11   \n",
       "3  T18740 2020-11-09  NaN        1 2020-11-09     4     4 2020-11-30   \n",
       "4  T08451 2020-02-25  NaN        1 2020-03-31     2     2 2020-04-07   \n",
       "\n",
       "              서비스시작시간             서비스종료시간  ...  서비스종료시간2 서비스소요시간 회차사용비율  \\\n",
       "0 1900-01-01 09:00:00 1900-01-01 13:00:00  ...        13       4   1.00   \n",
       "1 1900-01-01 10:00:00 1900-01-01 16:00:00  ...        16       6   0.75   \n",
       "2 1900-01-01 09:00:00 1900-01-01 13:00:00  ...        13       4   0.60   \n",
       "3 1900-01-01 09:00:00 1900-01-01 14:00:00  ...        14       5   1.00   \n",
       "4 1900-01-01 09:00:00 1900-01-01 13:00:00  ...        13       4   1.00   \n",
       "\n",
       "  접수후최초서비스걸린시일 접수후서비스걸린시일 최초서비스_서비스_시일 시간추가여부      시간비율 매니저나이  na값  \n",
       "0            6         20           14      0  0.692308    65    4  \n",
       "1            3         39           36      0  0.625000    45    3  \n",
       "2            5         23           18      0  0.692308    51    1  \n",
       "3            0         21           21      1  0.642857    65    0  \n",
       "4           35         42            7      0  0.692308    55    4  \n",
       "\n",
       "[5 rows x 41 columns]"
      ]
     },
     "execution_count": 33,
     "metadata": {},
     "output_type": "execute_result"
    }
   ],
   "source": [
    "train.head()"
   ]
  },
  {
   "cell_type": "markdown",
   "metadata": {},
   "source": [
    "## 데이터 셋 세팅"
   ]
  },
  {
   "cell_type": "code",
   "execution_count": 34,
   "metadata": {},
   "outputs": [
    {
     "data": {
      "text/plain": [
       "Index(['SEQ', '접수일', '접수시각', '장기서비스여부', '최초서비스일', '전체회차', '현재회차', '서비스일자',\n",
       "       '서비스시작시간', '서비스종료시간', '기존고객여부', '결재형태', '서비스주소', '주거형태', '평수', '고객가입일',\n",
       "       '반려동물', '부재중여부', '우선청소', '쿠폰사용여부', '매니저생년월일', '매니저성별', '매니저사용휴대폰',\n",
       "       '매니저이동방법', '근무가능지역', 'CS교육이수여부', '청소교육이수여부', '부재중서비스가능여부', '추천인여부',\n",
       "       '매칭성공여부', '서비스시작시간2', '서비스종료시간2', '서비스소요시간', '회차사용비율', '접수후최초서비스걸린시일',\n",
       "       '접수후서비스걸린시일', '최초서비스_서비스_시일', '시간추가여부', '시간비율', '매니저나이', 'na값'],\n",
       "      dtype='object')"
      ]
     },
     "execution_count": 34,
     "metadata": {},
     "output_type": "execute_result"
    }
   ],
   "source": [
    "train.columns"
   ]
  },
  {
   "cell_type": "code",
   "execution_count": 35,
   "metadata": {},
   "outputs": [],
   "source": [
    "features = ['장기서비스여부', '전체회차', '현재회차', '기존고객여부', '결재형태', '서비스주소', '주거형태', '평수', '반려동물', \n",
    "            '부재중여부', '우선청소', '쿠폰사용여부', '매니저사용휴대폰', '매니저이동방법', '근무가능지역', \n",
    "            'CS교육이수여부', '청소교육이수여부', '부재중서비스가능여부', '추천인여부', '서비스시작시간2', \n",
    "            '서비스종료시간2', '서비스소요시간', '회차사용비율', '접수후최초서비스걸린시일', '접수후서비스걸린시일', \n",
    "            '최초서비스_서비스_시일', '시간추가여부', '매니저나이', 'na값', '시간비율']"
   ]
  },
  {
   "cell_type": "code",
   "execution_count": 36,
   "metadata": {},
   "outputs": [],
   "source": [
    "ftr = train[features]\n",
    "ftr_te = test[features]\n",
    "target = train['매칭성공여부']"
   ]
  },
  {
   "cell_type": "markdown",
   "metadata": {},
   "source": [
    "## 결측치 처리"
   ]
  },
  {
   "cell_type": "code",
   "execution_count": 39,
   "metadata": {},
   "outputs": [],
   "source": [
    "# 반려동물: 결측치 비율이 12%이지만, 대부분이 '없음'(없음 > 개 > 고양이 > 기타) -> '대체?\n",
    "# 매니저사용휴대폰: 결측치 비율이 12%이며, 대부분이 '안드로이드' (안드로이드 > 기타 > ios) -> 최빈값인 '안드로이드'로 대체? or '기타'로 대체? \n",
    "# 매니저이동방법: 결측치 비율이 1%이며, 대부분이 '대중교통'이므로 최빈값인 '대중교통'으로 대체!\n",
    "# CS교육이수여부: 결측치 비율이 12%이며, 대부분이 '미이수'이므로 최빈값인 '미이수'로 대체!\n",
    "# 청소교육이수여부: 결측치 비율이 12%이며, 대부분이 '미이수'이므로 최빈값인 '미이수'로 대체!\n",
    "\n",
    "imputer_col = ['반려동물']#, '매니저사용휴대폰', '매니저이동방법', 'CS교육이수여부', '청소교육이수여부']\n",
    "\n",
    "for col in imputer_col:\n",
    "    ftr.loc[ftr[col].isna(), col] = ftr[col].mode()[0]\n",
    "    ftr_te.loc[ftr_te[col].isna(), col] = ftr_te[col].mode()[0]"
   ]
  },
  {
   "cell_type": "code",
   "execution_count": 40,
   "metadata": {},
   "outputs": [],
   "source": [
    "# train, test셋의 구성이 다른 피처 처리 - 결제형태, 서비스주소\n",
    "ftr['서비스주소'] = ftr.서비스주소.str[:2]\n",
    "ftr['결재형태'] = ftr.결재형태.replace('미수', np.NaN) # or 드랍 \n",
    "                               \n",
    "ftr_te['서비스주소'] = ftr_te.서비스주소.str[:2]\n",
    "ftr_te['결재형태'] = ftr_te.결재형태.replace('미수', np.NaN) # or 드랍 "
   ]
  },
  {
   "cell_type": "code",
   "execution_count": 41,
   "metadata": {},
   "outputs": [],
   "source": [
    "# 한글로 구성되어 있는 피처 Label Encoding\n",
    "from sklearn.preprocessing import LabelEncoder\n",
    "lst = ['주거형태', '평수', '우선청소', '매니저사용휴대폰', '매니저이동방법', '근무가능지역', '서비스주소', '결재형태', \n",
    "       'CS교육이수여부', '청소교육이수여부']\n",
    "\n",
    "for i in lst:\n",
    "    le = LabelEncoder()\n",
    "    ftr[i] = le.fit_transform(ftr[i])\n",
    "    ftr_te[i] = le.transform(ftr_te[i])"
   ]
  },
  {
   "cell_type": "code",
   "execution_count": 42,
   "metadata": {},
   "outputs": [],
   "source": [
    "ftr['평수'] = ftr.평수.replace(4, np.NaN)\n",
    "ftr['우선청소'] = ftr.우선청소.replace(5, np.NaN)\n",
    "ftr['매니저사용휴대폰'] = ftr.매니저사용휴대폰.replace(3, np.NaN)\n",
    "ftr['매니저이동방법'] = ftr.매니저이동방법.replace(2, np.NaN)\n",
    "ftr['CS교육이수여부'] = ftr.CS교육이수여부.replace(2, np.NaN)\n",
    "ftr['청소교육이수여부'] = ftr.청소교육이수여부.replace(2, np.NaN)"
   ]
  },
  {
   "cell_type": "markdown",
   "metadata": {},
   "source": [
    "### train, test셋의 구성이 다른 피처 처리 - 반려동물"
   ]
  },
  {
   "cell_type": "code",
   "execution_count": 43,
   "metadata": {},
   "outputs": [
    {
     "name": "stdout",
     "output_type": "stream",
     "text": [
      "{'미수'}\n",
      "{nan}\n"
     ]
    }
   ],
   "source": [
    "print(set(train['결재형태'].unique()) - set(test['결재형태'].unique()))\n",
    "print(set(test['결재형태'].unique()) - set(train['결재형태'].unique()))"
   ]
  },
  {
   "cell_type": "code",
   "execution_count": 44,
   "metadata": {},
   "outputs": [
    {
     "name": "stdout",
     "output_type": "stream",
     "text": [
      "{'부산 동래구', '경남 창원시'}\n",
      "{'부산 부산진구', '서울 송파구', '서울 광진구', '부산 사상구', '부산 금정구', '부산 북구', '경기 화성시'}\n"
     ]
    }
   ],
   "source": [
    "# 앞에 두글자만 따던지 해야할듯\n",
    "print(set(train['서비스주소'].unique()) - set(test['서비스주소'].unique()))\n",
    "print(set(test['서비스주소'].unique()) - set(train['서비스주소'].unique()))"
   ]
  },
  {
   "cell_type": "code",
   "execution_count": 45,
   "metadata": {},
   "outputs": [
    {
     "name": "stdout",
     "output_type": "stream",
     "text": [
      "set()\n",
      "{'고양이,기타', '개,기타', '개,고양이'}\n"
     ]
    }
   ],
   "source": [
    "# 원핫으로 나눠서 체크해야할듯\n",
    "print(set(train['반려동물'].unique()) - set(test['반려동물'].unique()))\n",
    "print(set(test['반려동물'].unique()) - set(train['반려동물'].unique()))"
   ]
  },
  {
   "cell_type": "code",
   "execution_count": 46,
   "metadata": {},
   "outputs": [
    {
     "data": {
      "text/plain": [
       "(array([nan, '없음', '기타', '고양이', '개'], dtype=object),\n",
       " array(['개', '없음', '기타', '개,고양이', '고양이', nan, '고양이,기타', '개,기타'],\n",
       "       dtype=object))"
      ]
     },
     "execution_count": 46,
     "metadata": {},
     "output_type": "execute_result"
    }
   ],
   "source": [
    "train['반려동물'].unique(), test['반려동물'].unique()"
   ]
  },
  {
   "cell_type": "markdown",
   "metadata": {},
   "source": [
    "#### 반려동물"
   ]
  },
  {
   "cell_type": "code",
   "execution_count": 47,
   "metadata": {},
   "outputs": [],
   "source": [
    "ftr['반려동물_고양이'] = 0\n",
    "ftr['반려동물_개'] = 0\n",
    "ftr['반려동물_기타'] = 0\n",
    "ftr['반려동물_없음'] = 0\n",
    "\n",
    "ftr_te['반려동물_고양이'] = 0\n",
    "ftr_te['반려동물_개'] = 0\n",
    "ftr_te['반려동물_기타'] = 0\n",
    "ftr_te['반려동물_없음'] = 0"
   ]
  },
  {
   "cell_type": "code",
   "execution_count": 48,
   "metadata": {},
   "outputs": [],
   "source": [
    "for i in range(ftr.shape[0]):\n",
    "    # 한가지 종류 키우는 집\n",
    "    if ftr['반려동물'][i] == '개':\n",
    "        ftr['반려동물_개'][i] += 1\n",
    "    elif ftr['반려동물'][i] == '고양이':\n",
    "        ftr['반려동물_고양이'][i] += 1\n",
    "    elif ftr['반려동물'][i] == '기타':\n",
    "        ftr['반려동물_기타'][i] += 1\n",
    "    elif ftr['반려동물'][i] == '없음':\n",
    "        ftr['반려동물_없음'][i] += 1\n",
    "    \n",
    "    # 두가지 종류 키우는 집\n",
    "    elif ftr['반려동물'][i] == '개,고양이':\n",
    "        ftr['반려동물_개'][i] += 1\n",
    "        ftr['반려동물_고양이'][i] += 1\n",
    "    elif ftr['반려동물'][i] == '고양이,개':\n",
    "        ftr['반려동물_개'][i] += 1\n",
    "        ftr['반려동물_고양이'][i] += 1\n",
    "    elif ftr['반려동물'][i] == '고양이,기타':\n",
    "        ftr['반려동물_고양이'][i] += 1\n",
    "        ftr['반려동물_기타'][i] += 1\n",
    "    elif ftr['반려동물'][i] == '개,기타':\n",
    "        ftr['반려동물_개'][i] += 1\n",
    "        ftr['반려동물_기타'][i] += 1\n",
    "        \n",
    "    # 세가지 종류 키우는 집\n",
    "    elif ftr['반려동물'][i] == '개,기타,고양이':\n",
    "        ftr['반려동물_개'][i] += 1\n",
    "        ftr['반려동물_고양이'][i] += 1\n",
    "        ftr['반려동물_기타'][i] += 1\n",
    "    elif ftr['반려동물'][i] == '개,고양이,기타':\n",
    "        ftr['반려동물_개'][i] += 1\n",
    "        ftr['반려동물_고양이'][i] += 1\n",
    "        ftr['반려동물_기타'][i] += 1\n",
    "    elif ftr['반려동물'][i] == '고양이,기타,개':\n",
    "        ftr['반려동물_개'][i] += 1\n",
    "        ftr['반려동물_고양이'][i] += 1\n",
    "        ftr['반려동물_기타'][i] += 1\n",
    "    elif ftr['반려동물'][i] == '고양이,개,기타':\n",
    "        ftr['반려동물_개'][i] += 1\n",
    "        ftr['반려동물_고양이'][i] += 1\n",
    "        ftr['반려동물_기타'][i] += 1\n",
    "        \n",
    "    else:\n",
    "        continue"
   ]
  },
  {
   "cell_type": "code",
   "execution_count": 49,
   "metadata": {},
   "outputs": [],
   "source": [
    "for i in range(ftr_te.shape[0]):\n",
    "    # 한가지 종류 키우는 집\n",
    "    if ftr_te['반려동물'][i] == '개':\n",
    "        ftr_te['반려동물_개'][i] += 1\n",
    "    elif ftr_te['반려동물'][i] == '고양이':\n",
    "        ftr_te['반려동물_고양이'][i] += 1\n",
    "    elif ftr_te['반려동물'][i] == '기타':\n",
    "        ftr_te['반려동물_기타'][i] += 1\n",
    "    elif ftr_te['반려동물'][i] == '없음':\n",
    "        ftr_te['반려동물_없음'][i] += 1\n",
    "    \n",
    "    # 두가지 종류 키우는 집\n",
    "    elif ftr_te['반려동물'][i] == '개,고양이':\n",
    "        ftr_te['반려동물_개'][i] += 1\n",
    "        ftr_te['반려동물_고양이'][i] += 1\n",
    "    elif ftr_te['반려동물'][i] == '고양이,개':\n",
    "        ftr_te['반려동물_개'][i] += 1\n",
    "        ftr_te['반려동물_고양이'][i] += 1\n",
    "    elif ftr_te['반려동물'][i] == '고양이,기타':\n",
    "        ftr_te['반려동물_고양이'][i] += 1\n",
    "        ftr_te['반려동물_기타'][i] += 1\n",
    "    elif ftr_te['반려동물'][i] == '개,기타':\n",
    "        ftr_te['반려동물_개'][i] += 1\n",
    "        ftr_te['반려동물_기타'][i] += 1\n",
    "        \n",
    "    # 세가지 종류 키우는 집\n",
    "    elif ftr_te['반려동물'][i] == '개,기타,고양이':\n",
    "        ftr_te['반려동물_개'][i] += 1\n",
    "        ftr_te['반려동물_고양이'][i] += 1\n",
    "        ftr_te['반려동물_기타'][i] += 1\n",
    "    elif ftr_te['반려동물'][i] == '개,고양이,기타':\n",
    "        ftr_te['반려동물_개'][i] += 1\n",
    "        ftr_te['반려동물_고양이'][i] += 1\n",
    "        ftr_te['반려동물_기타'][i] += 1\n",
    "    elif ftr_te['반려동물'][i] == '고양이,기타,개':\n",
    "        ftr_te['반려동물_개'][i] += 1\n",
    "        ftr_te['반려동물_고양이'][i] += 1\n",
    "        ftr_te['반려동물_기타'][i] += 1\n",
    "    elif ftr_te['반려동물'][i] == '고양이,개,기타':\n",
    "        ftr_te['반려동물_개'][i] += 1\n",
    "        ftr_te['반려동물_고양이'][i] += 1\n",
    "        ftr_te['반려동물_기타'][i] += 1\n",
    "        \n",
    "    else:\n",
    "        continue"
   ]
  },
  {
   "cell_type": "code",
   "execution_count": 50,
   "metadata": {},
   "outputs": [],
   "source": [
    "ftr = ftr.drop('반려동물', axis=1)\n",
    "ftr_te = ftr_te.drop('반려동물', axis=1)"
   ]
  },
  {
   "cell_type": "code",
   "execution_count": 51,
   "metadata": {},
   "outputs": [
    {
     "data": {
      "text/plain": [
       "((23009, 33), (4244, 33), (23009,))"
      ]
     },
     "execution_count": 51,
     "metadata": {},
     "output_type": "execute_result"
    }
   ],
   "source": [
    "ftr.shape, ftr_te.shape, target.shape"
   ]
  },
  {
   "cell_type": "code",
   "execution_count": 52,
   "metadata": {},
   "outputs": [
    {
     "data": {
      "text/plain": [
       "Index(['장기서비스여부', '전체회차', '현재회차', '기존고객여부', '결재형태', '서비스주소', '주거형태', '평수',\n",
       "       '부재중여부', '우선청소', '쿠폰사용여부', '매니저사용휴대폰', '매니저이동방법', '근무가능지역', 'CS교육이수여부',\n",
       "       '청소교육이수여부', '부재중서비스가능여부', '추천인여부', '서비스시작시간2', '서비스종료시간2', '서비스소요시간',\n",
       "       '회차사용비율', '접수후최초서비스걸린시일', '접수후서비스걸린시일', '최초서비스_서비스_시일', '시간추가여부',\n",
       "       '매니저나이', 'na값', '시간비율', '반려동물_고양이', '반려동물_개', '반려동물_기타', '반려동물_없음'],\n",
       "      dtype='object')"
      ]
     },
     "execution_count": 52,
     "metadata": {},
     "output_type": "execute_result"
    }
   ],
   "source": [
    "ftr.columns"
   ]
  },
  {
   "cell_type": "code",
   "execution_count": 53,
   "metadata": {},
   "outputs": [],
   "source": [
    "cat_features = ['장기서비스여부', '기존고객여부', '결재형태', '서비스주소', '주거형태', '평수', '부재중여부', '우선청소', \n",
    "                '쿠폰사용여부', '매니저사용휴대폰', '매니저이동방법', '근무가능지역', 'CS교육이수여부', '청소교육이수여부', \n",
    "                '부재중서비스가능여부', '추천인여부', '시간추가여부', '반려동물_고양이', '반려동물_개', '반려동물_기타', \n",
    "                '반려동물_없음']"
   ]
  },
  {
   "cell_type": "code",
   "execution_count": 54,
   "metadata": {},
   "outputs": [],
   "source": [
    "cat_lst = [0, 3, 4, 5, 6, 7, 8, 9, 10, 11, 12, 13, 14, 15, 16, 17, 25, 28, 29, 30, 31]"
   ]
  },
  {
   "cell_type": "code",
   "execution_count": 55,
   "metadata": {},
   "outputs": [
    {
     "name": "stdout",
     "output_type": "stream",
     "text": [
      "Iteration: 0\n",
      "Iteration: 1\n",
      "Iteration: 2\n",
      "Iteration: 3\n",
      "Iteration: 4\n",
      "Iteration: 5\n",
      "Iteration: 0\n",
      "Iteration: 1\n",
      "Iteration: 2\n"
     ]
    }
   ],
   "source": [
    "from missingpy import MissForest\n",
    "imputer = MissForest(random_state=0)\n",
    "ftr_imputed = imputer.fit_transform(ftr, cat_vars=cat_lst)\n",
    "ftr_te_imputed = imputer.transform(ftr_te)"
   ]
  },
  {
   "cell_type": "code",
   "execution_count": 56,
   "metadata": {},
   "outputs": [],
   "source": [
    "ftr_imputed = pd.DataFrame(ftr_imputed)\n",
    "ftr_imputed.columns = ftr.columns\n",
    "\n",
    "ftr_te_imputed = pd.DataFrame(ftr_te_imputed)\n",
    "ftr_te_imputed.columns = ftr_te.columns"
   ]
  },
  {
   "cell_type": "code",
   "execution_count": 57,
   "metadata": {
    "scrolled": false
   },
   "outputs": [
    {
     "data": {
      "image/png": "[encoded data removed]",
      "text/plain": [
       "<Figure size 1440x720 with 2 Axes>"
      ]
     },
     "metadata": {
      "needs_background": "light"
     },
     "output_type": "display_data"
    }
   ],
   "source": [
    "plt.figure(figsize=(20, 10))\n",
    "sns.heatmap(ftr_imputed.corr(), annot=True, cmap=\"YlGnBu\")\n",
    "plt.show()"
   ]
  },
  {
   "cell_type": "markdown",
   "metadata": {},
   "source": [
    "## 스케일링"
   ]
  },
  {
   "cell_type": "code",
   "execution_count": 224,
   "metadata": {},
   "outputs": [],
   "source": [
    "num_features = list(set(ftr.columns) - set(cat_features))"
   ]
  },
  {
   "cell_type": "code",
   "execution_count": 225,
   "metadata": {},
   "outputs": [
    {
     "data": {
      "text/plain": [
       "['접수후서비스걸린시일',\n",
       " '서비스시작시간2',\n",
       " '최초서비스_서비스_시일',\n",
       " '서비스종료시간2',\n",
       " 'na값',\n",
       " '접수후최초서비스걸린시일',\n",
       " '매니저나이',\n",
       " '전체회차',\n",
       " '회차사용비율',\n",
       " '현재회차',\n",
       " '서비스소요시간']"
      ]
     },
     "execution_count": 225,
     "metadata": {},
     "output_type": "execute_result"
    }
   ],
   "source": [
    "num_features"
   ]
  },
  {
   "cell_type": "markdown",
   "metadata": {},
   "source": [
    "### Min-max"
   ]
  },
  {
   "cell_type": "code",
   "execution_count": 51,
   "metadata": {},
   "outputs": [],
   "source": [
    "from sklearn.preprocessing import MinMaxScaler\n",
    "\n",
    "scaler = MinMaxScaler(feature_range=(0, 1))\n",
    "ftr_imputed[num_features] = pd.DataFrame(scaler.fit_transform(ftr_imputed[num_features]))\n",
    "ftr_te_imputed[num_features] = pd.DataFrame(scaler.transform(ftr_te_imputed[num_features]))\n",
    "\n",
    "ftr_imputed[num_features].columns = ftr[num_features].columns\n",
    "ftr_te_imputed[num_features].columns = ftr[num_features].columns"
   ]
  },
  {
   "cell_type": "markdown",
   "metadata": {},
   "source": [
    "### Gauss rank\n",
    "* https://github.com/aldente0630/gauss_rank_scaler"
   ]
  },
  {
   "cell_type": "code",
   "execution_count": 226,
   "metadata": {},
   "outputs": [],
   "source": [
    "import numpy as np\n",
    "from joblib import Parallel, delayed\n",
    "from scipy.interpolate import interp1d\n",
    "from scipy.special import erf, erfinv\n",
    "from sklearn.base import BaseEstimator, TransformerMixin\n",
    "from sklearn.utils.validation import FLOAT_DTYPES, check_array, check_is_fitted\n",
    "\n",
    "class GaussRankScaler(BaseEstimator, TransformerMixin):\n",
    "    \"\"\"Transform features by scaling each feature to a normal distribution.\n",
    "    Parameters\n",
    "        ----------\n",
    "        epsilon : float, optional, default 1e-4\n",
    "            A small amount added to the lower bound or subtracted\n",
    "            from the upper bound. This value prevents infinite number\n",
    "            from occurring when applying the inverse error function.\n",
    "        copy : boolean, optional, default True\n",
    "            If False, try to avoid a copy and do inplace scaling instead.\n",
    "            This is not guaranteed to always work inplace; e.g. if the data is\n",
    "            not a NumPy array, a copy may still be returned.\n",
    "        n_jobs : int or None, optional, default None\n",
    "            Number of jobs to run in parallel.\n",
    "            ``None`` means 1 and ``-1`` means using all processors.\n",
    "        interp_kind : str or int, optional, default 'linear'\n",
    "           Specifies the kind of interpolation as a string\n",
    "            ('linear', 'nearest', 'zero', 'slinear', 'quadratic', 'cubic',\n",
    "            'previous', 'next', where 'zero', 'slinear', 'quadratic' and 'cubic'\n",
    "            refer to a spline interpolation of zeroth, first, second or third\n",
    "            order; 'previous' and 'next' simply return the previous or next value\n",
    "            of the point) or as an integer specifying the order of the spline\n",
    "            interpolator to use.\n",
    "        interp_copy : bool, optional, default False\n",
    "            If True, the interpolation function makes internal copies of x and y.\n",
    "            If False, references to `x` and `y` are used.\n",
    "        Attributes\n",
    "        ----------\n",
    "        interp_func_ : list\n",
    "            The interpolation function for each feature in the training set.\n",
    "        \"\"\"\n",
    "\n",
    "    def __init__(self, epsilon=1e-4, copy=True, n_jobs=None, interp_kind='linear', interp_copy=False):\n",
    "        self.epsilon = epsilon\n",
    "        self.copy = copy\n",
    "        self.interp_kind = interp_kind\n",
    "        self.interp_copy = interp_copy\n",
    "        self.fill_value = 'extrapolate'\n",
    "        self.n_jobs = n_jobs\n",
    "\n",
    "    def fit(self, X, y=None):\n",
    "        \"\"\"Fit interpolation function to link rank with original data for future scaling\n",
    "        Parameters\n",
    "        ----------\n",
    "        X : array-like, shape (n_samples, n_features)\n",
    "            The data used to fit interpolation function for later scaling along the features axis.\n",
    "        y\n",
    "            Ignored\n",
    "        \"\"\"\n",
    "        X = check_array(X, copy=self.copy, estimator=self, dtype=FLOAT_DTYPES, force_all_finite=True)\n",
    "\n",
    "        self.interp_func_ = Parallel(n_jobs=self.n_jobs)(delayed(self._fit)(x) for x in X.T)\n",
    "        return self\n",
    "\n",
    "    def _fit(self, x):\n",
    "        x = self.drop_duplicates(x)\n",
    "        rank = np.argsort(np.argsort(x))\n",
    "        bound = 1.0 - self.epsilon\n",
    "        factor = np.max(rank) / 2.0 * bound\n",
    "        scaled_rank = np.clip(rank / factor - bound, -bound, bound)\n",
    "        return interp1d(\n",
    "            x, scaled_rank, kind=self.interp_kind, copy=self.interp_copy, fill_value=self.fill_value)\n",
    "\n",
    "    def transform(self, X, copy=None):\n",
    "        \"\"\"Scale the data with the Gauss Rank algorithm\n",
    "        Parameters\n",
    "        ----------\n",
    "        X : array-like, shape (n_samples, n_features)\n",
    "            The data used to scale along the features axis.\n",
    "        copy : bool, optional (default: None)\n",
    "            Copy the input X or not.\n",
    "        \"\"\"\n",
    "        check_is_fitted(self, 'interp_func_')\n",
    "\n",
    "        copy = copy if copy is not None else self.copy\n",
    "        X = check_array(X, copy=copy, estimator=self, dtype=FLOAT_DTYPES, force_all_finite=True)\n",
    "\n",
    "        X = np.array(Parallel(n_jobs=self.n_jobs)(delayed(self._transform)(i, x) for i, x in enumerate(X.T))).T\n",
    "        return X\n",
    "\n",
    "    def _transform(self, i, x):\n",
    "        return erfinv(self.interp_func_[i](x))\n",
    "\n",
    "    def inverse_transform(self, X, copy=None):\n",
    "        \"\"\"Scale back the data to the original representation\n",
    "        Parameters\n",
    "        ----------\n",
    "        X : array-like, shape [n_samples, n_features]\n",
    "            The data used to scale along the features axis.\n",
    "        copy : bool, optional (default: None)\n",
    "            Copy the input X or not.\n",
    "        \"\"\"\n",
    "        check_is_fitted(self, 'interp_func_')\n",
    "\n",
    "        copy = copy if copy is not None else self.copy\n",
    "        X = check_array(X, copy=copy, estimator=self, dtype=FLOAT_DTYPES, force_all_finite=True)\n",
    "\n",
    "        X = np.array(Parallel(n_jobs=self.n_jobs)(delayed(self._inverse_transform)(i, x) for i, x in enumerate(X.T))).T\n",
    "        return X\n",
    "\n",
    "    def _inverse_transform(self, i, x):\n",
    "        inv_interp_func = interp1d(self.interp_func_[i].y, self.interp_func_[i].x, kind=self.interp_kind,\n",
    "                                   copy=self.interp_copy, fill_value=self.fill_value)\n",
    "        return inv_interp_func(erf(x))\n",
    "\n",
    "    @staticmethod\n",
    "    def drop_duplicates(x):\n",
    "        is_unique = np.zeros_like(x, dtype=bool)\n",
    "        is_unique[np.unique(x, return_index=True)[1]] = True\n",
    "        return x[is_unique]"
   ]
  },
  {
   "cell_type": "code",
   "execution_count": 227,
   "metadata": {},
   "outputs": [],
   "source": [
    "scaler = GaussRankScaler()\n",
    "ftr_imputed[num_features] = pd.DataFrame(scaler.fit_transform(ftr_imputed[num_features]))\n",
    "ftr_te_imputed[num_features] = pd.DataFrame(scaler.transform(ftr_te_imputed[num_features]))\n",
    "\n",
    "ftr_imputed[num_features].columns = ftr[num_features].columns\n",
    "ftr_te_imputed[num_features].columns = ftr[num_features].columns"
   ]
  },
  {
   "cell_type": "code",
   "execution_count": 228,
   "metadata": {},
   "outputs": [
    {
     "data": {
      "text/html": [
       "<div>\n",
       "<style scoped>\n",
       "    .dataframe tbody tr th:only-of-type {\n",
       "        vertical-align: middle;\n",
       "    }\n",
       "\n",
       "    .dataframe tbody tr th {\n",
       "        vertical-align: top;\n",
       "    }\n",
       "\n",
       "    .dataframe thead th {\n",
       "        text-align: right;\n",
       "    }\n",
       "</style>\n",
       "<table border=\"1\" class=\"dataframe\">\n",
       "  <thead>\n",
       "    <tr style=\"text-align: right;\">\n",
       "      <th></th>\n",
       "      <th>장기서비스여부</th>\n",
       "      <th>전체회차</th>\n",
       "      <th>현재회차</th>\n",
       "      <th>기존고객여부</th>\n",
       "      <th>결재형태</th>\n",
       "      <th>서비스주소</th>\n",
       "      <th>주거형태</th>\n",
       "      <th>평수</th>\n",
       "      <th>부재중여부</th>\n",
       "      <th>우선청소</th>\n",
       "      <th>...</th>\n",
       "      <th>접수후최초서비스걸린시일</th>\n",
       "      <th>접수후서비스걸린시일</th>\n",
       "      <th>최초서비스_서비스_시일</th>\n",
       "      <th>시간추가여부</th>\n",
       "      <th>매니저나이</th>\n",
       "      <th>na값</th>\n",
       "      <th>반려동물_고양이</th>\n",
       "      <th>반려동물_개</th>\n",
       "      <th>반려동물_기타</th>\n",
       "      <th>반려동물_없음</th>\n",
       "    </tr>\n",
       "  </thead>\n",
       "  <tbody>\n",
       "    <tr>\n",
       "      <th>0</th>\n",
       "      <td>1.0</td>\n",
       "      <td>-0.594939</td>\n",
       "      <td>-0.540560</td>\n",
       "      <td>1.0</td>\n",
       "      <td>1.0</td>\n",
       "      <td>6.0</td>\n",
       "      <td>1.0</td>\n",
       "      <td>3.0</td>\n",
       "      <td>0.0</td>\n",
       "      <td>4.0</td>\n",
       "      <td>...</td>\n",
       "      <td>-0.547017</td>\n",
       "      <td>-0.433881</td>\n",
       "      <td>-0.456364</td>\n",
       "      <td>0.0</td>\n",
       "      <td>0.956422</td>\n",
       "      <td>2.751064</td>\n",
       "      <td>0.0</td>\n",
       "      <td>0.0</td>\n",
       "      <td>0.0</td>\n",
       "      <td>1.0</td>\n",
       "    </tr>\n",
       "    <tr>\n",
       "      <th>1</th>\n",
       "      <td>1.0</td>\n",
       "      <td>-0.370644</td>\n",
       "      <td>-0.540560</td>\n",
       "      <td>1.0</td>\n",
       "      <td>1.0</td>\n",
       "      <td>6.0</td>\n",
       "      <td>1.0</td>\n",
       "      <td>3.0</td>\n",
       "      <td>0.0</td>\n",
       "      <td>1.0</td>\n",
       "      <td>...</td>\n",
       "      <td>-0.743857</td>\n",
       "      <td>-0.029707</td>\n",
       "      <td>0.269150</td>\n",
       "      <td>0.0</td>\n",
       "      <td>-0.323588</td>\n",
       "      <td>0.304797</td>\n",
       "      <td>0.0</td>\n",
       "      <td>0.0</td>\n",
       "      <td>0.0</td>\n",
       "      <td>1.0</td>\n",
       "    </tr>\n",
       "    <tr>\n",
       "      <th>2</th>\n",
       "      <td>1.0</td>\n",
       "      <td>0.906758</td>\n",
       "      <td>0.098979</td>\n",
       "      <td>1.0</td>\n",
       "      <td>2.0</td>\n",
       "      <td>6.0</td>\n",
       "      <td>1.0</td>\n",
       "      <td>3.0</td>\n",
       "      <td>0.0</td>\n",
       "      <td>1.0</td>\n",
       "      <td>...</td>\n",
       "      <td>-0.607350</td>\n",
       "      <td>-0.363807</td>\n",
       "      <td>-0.304408</td>\n",
       "      <td>0.0</td>\n",
       "      <td>0.000177</td>\n",
       "      <td>-0.304408</td>\n",
       "      <td>0.0</td>\n",
       "      <td>0.0</td>\n",
       "      <td>0.0</td>\n",
       "      <td>1.0</td>\n",
       "    </tr>\n",
       "    <tr>\n",
       "      <th>3</th>\n",
       "      <td>1.0</td>\n",
       "      <td>-0.370644</td>\n",
       "      <td>-0.304408</td>\n",
       "      <td>1.0</td>\n",
       "      <td>1.0</td>\n",
       "      <td>5.0</td>\n",
       "      <td>1.0</td>\n",
       "      <td>2.0</td>\n",
       "      <td>0.0</td>\n",
       "      <td>1.0</td>\n",
       "      <td>...</td>\n",
       "      <td>-1.026835</td>\n",
       "      <td>-0.410081</td>\n",
       "      <td>-0.199393</td>\n",
       "      <td>1.0</td>\n",
       "      <td>0.956422</td>\n",
       "      <td>-2.751064</td>\n",
       "      <td>0.0</td>\n",
       "      <td>0.0</td>\n",
       "      <td>0.0</td>\n",
       "      <td>1.0</td>\n",
       "    </tr>\n",
       "    <tr>\n",
       "      <th>4</th>\n",
       "      <td>1.0</td>\n",
       "      <td>-0.905952</td>\n",
       "      <td>-0.862895</td>\n",
       "      <td>1.0</td>\n",
       "      <td>1.0</td>\n",
       "      <td>6.0</td>\n",
       "      <td>1.0</td>\n",
       "      <td>2.0</td>\n",
       "      <td>0.0</td>\n",
       "      <td>4.0</td>\n",
       "      <td>...</td>\n",
       "      <td>0.607863</td>\n",
       "      <td>0.030062</td>\n",
       "      <td>-0.797507</td>\n",
       "      <td>0.0</td>\n",
       "      <td>0.211849</td>\n",
       "      <td>2.751064</td>\n",
       "      <td>0.0</td>\n",
       "      <td>0.0</td>\n",
       "      <td>0.0</td>\n",
       "      <td>1.0</td>\n",
       "    </tr>\n",
       "  </tbody>\n",
       "</table>\n",
       "<p>5 rows × 32 columns</p>\n",
       "</div>"
      ],
      "text/plain": [
       "   장기서비스여부      전체회차      현재회차  기존고객여부  결재형태  서비스주소  주거형태   평수  부재중여부  우선청소  \\\n",
       "0      1.0 -0.594939 -0.540560     1.0   1.0    6.0   1.0  3.0    0.0   4.0   \n",
       "1      1.0 -0.370644 -0.540560     1.0   1.0    6.0   1.0  3.0    0.0   1.0   \n",
       "2      1.0  0.906758  0.098979     1.0   2.0    6.0   1.0  3.0    0.0   1.0   \n",
       "3      1.0 -0.370644 -0.304408     1.0   1.0    5.0   1.0  2.0    0.0   1.0   \n",
       "4      1.0 -0.905952 -0.862895     1.0   1.0    6.0   1.0  2.0    0.0   4.0   \n",
       "\n",
       "   ...  접수후최초서비스걸린시일  접수후서비스걸린시일  최초서비스_서비스_시일  시간추가여부     매니저나이       na값  \\\n",
       "0  ...     -0.547017   -0.433881     -0.456364     0.0  0.956422  2.751064   \n",
       "1  ...     -0.743857   -0.029707      0.269150     0.0 -0.323588  0.304797   \n",
       "2  ...     -0.607350   -0.363807     -0.304408     0.0  0.000177 -0.304408   \n",
       "3  ...     -1.026835   -0.410081     -0.199393     1.0  0.956422 -2.751064   \n",
       "4  ...      0.607863    0.030062     -0.797507     0.0  0.211849  2.751064   \n",
       "\n",
       "   반려동물_고양이  반려동물_개  반려동물_기타  반려동물_없음  \n",
       "0       0.0     0.0      0.0      1.0  \n",
       "1       0.0     0.0      0.0      1.0  \n",
       "2       0.0     0.0      0.0      1.0  \n",
       "3       0.0     0.0      0.0      1.0  \n",
       "4       0.0     0.0      0.0      1.0  \n",
       "\n",
       "[5 rows x 32 columns]"
      ]
     },
     "execution_count": 228,
     "metadata": {},
     "output_type": "execute_result"
    }
   ],
   "source": [
    "ftr_imputed.head()"
   ]
  },
  {
   "cell_type": "markdown",
   "metadata": {
    "heading_collapsed": true
   },
   "source": [
    "## 차원축소"
   ]
  },
  {
   "cell_type": "code",
   "execution_count": null,
   "metadata": {
    "hidden": true
   },
   "outputs": [],
   "source": []
  },
  {
   "cell_type": "code",
   "execution_count": null,
   "metadata": {
    "hidden": true
   },
   "outputs": [],
   "source": []
  },
  {
   "cell_type": "code",
   "execution_count": null,
   "metadata": {
    "hidden": true
   },
   "outputs": [],
   "source": []
  },
  {
   "cell_type": "code",
   "execution_count": null,
   "metadata": {
    "hidden": true
   },
   "outputs": [],
   "source": []
  },
  {
   "cell_type": "code",
   "execution_count": null,
   "metadata": {
    "hidden": true
   },
   "outputs": [],
   "source": []
  },
  {
   "cell_type": "code",
   "execution_count": null,
   "metadata": {
    "hidden": true
   },
   "outputs": [],
   "source": []
  },
  {
   "cell_type": "code",
   "execution_count": 89,
   "metadata": {
    "hidden": true
   },
   "outputs": [
    {
     "data": {
      "text/plain": [
       "Index(['장기서비스여부', '전체회차', '현재회차', '기존고객여부', '결재형태', '서비스주소', '주거형태', '평수',\n",
       "       '반려동물', '부재중여부', '우선청소', '쿠폰사용여부', '매니저사용휴대폰', '매니저이동방법', '근무가능지역',\n",
       "       'CS교육이수여부', '청소교육이수여부', '부재중서비스가능여부', '추천인여부', '서비스시작시간2', '서비스종료시간2',\n",
       "       '서비스소요시간', '회차사용비율', '접수후최초서비스걸린시일', '접수후서비스걸린시일', '최초서비스_서비스_시일',\n",
       "       '시간추가여부', '매니저나이', 'na값'],\n",
       "      dtype='object')"
      ]
     },
     "execution_count": 89,
     "metadata": {},
     "output_type": "execute_result"
    }
   ],
   "source": [
    "ftr.columns"
   ]
  },
  {
   "cell_type": "markdown",
   "metadata": {},
   "source": [
    "## Embedding"
   ]
  },
  {
   "cell_type": "markdown",
   "metadata": {},
   "source": [
    "### fasttext"
   ]
  },
  {
   "cell_type": "code",
   "execution_count": 229,
   "metadata": {},
   "outputs": [],
   "source": [
    "ftr_imputed['서비스특징'] = ftr_imputed['결재형태'].astype(str) + '_' + ftr_imputed['서비스주소'].astype(str) + '_' + ftr_imputed['주거형태'].astype(str) + '_' + ftr_imputed['평수'].astype(str) + '_' \\\n",
    "+ ftr_imputed['우선청소'].astype(str) + '_' + ftr_imputed['매니저사용휴대폰'].astype(str) + '_' +  ftr_imputed['매니저이동방법'].astype(str) + '_' \\\n",
    "+ ftr_imputed['근무가능지역'].astype(str)\n",
    "\n",
    "ftr_te_imputed['서비스특징'] = ftr_te_imputed['결재형태'].astype(str) + '_' + ftr_te_imputed['서비스주소'].astype(str) + '_' + ftr_te_imputed['주거형태'].astype(str) + '_' + ftr_te_imputed['평수'].astype(str) + '_' \\\n",
    "+ ftr_te_imputed['우선청소'].astype(str) + '_' + ftr_te_imputed['매니저사용휴대폰'].astype(str) + '_' +  ftr_te_imputed['매니저이동방법'].astype(str) + '_' \\\n",
    "+ ftr_te_imputed['근무가능지역'].astype(str)"
   ]
  },
  {
   "cell_type": "code",
   "execution_count": 230,
   "metadata": {},
   "outputs": [],
   "source": [
    "import random\n",
    "\n",
    "train_data = list(ftr_imputed['서비스특징'].unique())\n",
    "test_data = list(ftr_te_imputed['서비스특징'].unique())"
   ]
  },
  {
   "cell_type": "code",
   "execution_count": 231,
   "metadata": {},
   "outputs": [
    {
     "data": {
      "text/plain": [
       "'2.0_6.0_1.0_3.0_3.0_2.0_0.0_5.0'"
      ]
     },
     "execution_count": 231,
     "metadata": {},
     "output_type": "execute_result"
    }
   ],
   "source": [
    "test_data[0]"
   ]
  },
  {
   "cell_type": "code",
   "execution_count": 232,
   "metadata": {},
   "outputs": [],
   "source": [
    "from gensim.models.fasttext import FastText"
   ]
  },
  {
   "cell_type": "code",
   "execution_count": 233,
   "metadata": {},
   "outputs": [],
   "source": [
    "model = FastText(sentences=train_data, size=30, window=5, min_count=1, sg=1)"
   ]
  },
  {
   "cell_type": "code",
   "execution_count": 234,
   "metadata": {},
   "outputs": [],
   "source": [
    "model.train(sentences=train_data, epochs=5, total_examples=model.corpus_count, \n",
    "            total_words=model.corpus_total_words)"
   ]
  },
  {
   "cell_type": "code",
   "execution_count": 235,
   "metadata": {},
   "outputs": [
    {
     "name": "stderr",
     "output_type": "stream",
     "text": [
      "100%|███████████████████████████████████████████████████████████████████████████| 1802/1802 [00:00<00:00, 10206.43it/s]\n"
     ]
    }
   ],
   "source": [
    "train_mean_vector = []\n",
    "for words in tqdm(train_data):\n",
    "    tmp = np.zeros(30)\n",
    "    cnt = 0\n",
    "    for word in words:\n",
    "        try:\n",
    "            tmp += model.wv[word]\n",
    "            cnt += 1\n",
    "        except:\n",
    "            pass\n",
    "    tmp /= cnt\n",
    "    train_mean_vector.append(tmp)\n",
    "train_mean_vector = np.array(train_mean_vector)"
   ]
  },
  {
   "cell_type": "code",
   "execution_count": 236,
   "metadata": {},
   "outputs": [
    {
     "name": "stderr",
     "output_type": "stream",
     "text": [
      "100%|███████████████████████████████████████████████████████████████████████████| 1177/1177 [00:00<00:00, 10536.99it/s]\n"
     ]
    }
   ],
   "source": [
    "test_mean_vector = []\n",
    "for words in tqdm(test_data):\n",
    "    tmp = np.zeros(30)\n",
    "    cnt = 0\n",
    "    for word in words:\n",
    "        try:\n",
    "            tmp += model.wv[word]\n",
    "            cnt += 1\n",
    "        except:\n",
    "            pass\n",
    "    tmp /= cnt\n",
    "    test_mean_vector.append(tmp)\n",
    "test_mean_vector = np.array(test_mean_vector)"
   ]
  },
  {
   "cell_type": "code",
   "execution_count": 237,
   "metadata": {},
   "outputs": [],
   "source": [
    "train_mean_vector = pd.DataFrame(train_mean_vector)\n",
    "train_mean_vector.columns = train_mean_vector.columns.astype(str) + \"_service\"\n",
    "\n",
    "test_mean_vector = pd.DataFrame(test_mean_vector)\n",
    "test_mean_vector.columns = test_mean_vector.columns.astype(str) + \"_service\""
   ]
  },
  {
   "cell_type": "code",
   "execution_count": 238,
   "metadata": {},
   "outputs": [],
   "source": [
    "train_mean_vector['서비스특징'] = train_data\n",
    "test_mean_vector['서비스특징'] = test_data"
   ]
  },
  {
   "cell_type": "code",
   "execution_count": 239,
   "metadata": {},
   "outputs": [],
   "source": [
    "ftr_imputed = ftr_imputed.merge(train_mean_vector, on='서비스특징', how='left').drop('서비스특징', axis=1)\n",
    "ftr_te_imputed = ftr_te_imputed.merge(test_mean_vector, on='서비스특징', how='left').drop('서비스특징', axis=1)"
   ]
  },
  {
   "cell_type": "code",
   "execution_count": 240,
   "metadata": {},
   "outputs": [
    {
     "data": {
      "text/plain": [
       "((23009, 62), (4244, 62))"
      ]
     },
     "execution_count": 240,
     "metadata": {},
     "output_type": "execute_result"
    }
   ],
   "source": [
    "ftr_imputed.shape, ftr_te_imputed.shape"
   ]
  },
  {
   "cell_type": "markdown",
   "metadata": {
    "heading_collapsed": true
   },
   "source": [
    "## 샘플링(아마 안하는게 좋지 않을까 싶음)"
   ]
  },
  {
   "cell_type": "markdown",
   "metadata": {
    "hidden": true
   },
   "source": [
    "### over sampling"
   ]
  },
  {
   "cell_type": "code",
   "execution_count": 73,
   "metadata": {
    "hidden": true
   },
   "outputs": [],
   "source": [
    "from imblearn.over_sampling import SMOTE"
   ]
  },
  {
   "cell_type": "code",
   "execution_count": 74,
   "metadata": {
    "hidden": true,
    "scrolled": true
   },
   "outputs": [
    {
     "name": "stdout",
     "output_type": "stream",
     "text": [
      "SMOTE 적용 전 학습용 피처/레이블 데이터 세트:  (23009, 30) (23009,)\n",
      "SMOTE 적용 후 학습용 피처/레이블 데이터 세트:  (41622, 30) (41622,)\n",
      "SMOTE 적용 후 레이블 값 분포: \n",
      " 0    20811\n",
      "1    20811\n",
      "Name: 매칭성공여부, dtype: int64\n"
     ]
    }
   ],
   "source": [
    "# SMOTE\n",
    "smote = SMOTE(random_state=0)\n",
    "X_train_over, y_train_over = smote.fit_sample(ftr_imputed, target)\n",
    "print('SMOTE 적용 전 학습용 피처/레이블 데이터 세트: ', ftr_imputed.shape, target.shape)\n",
    "print('SMOTE 적용 후 학습용 피처/레이블 데이터 세트: ', X_train_over.shape, y_train_over.shape)\n",
    "print('SMOTE 적용 후 레이블 값 분포: \\n', pd.Series(y_train_over).value_counts())"
   ]
  },
  {
   "cell_type": "code",
   "execution_count": 79,
   "metadata": {
    "hidden": true
   },
   "outputs": [],
   "source": [
    "ftr_imputed = X_train_over\n",
    "target = y_train_over"
   ]
  },
  {
   "cell_type": "code",
   "execution_count": 34,
   "metadata": {
    "hidden": true
   },
   "outputs": [],
   "source": [
    "# 문제는 특이 치에있을 수 있습니다. 앞서 언급했듯이 ADASYN은 밀도가 낮은 밀도 데이터에 중점을 둡니다. \n",
    "# 종종 저밀도 데이터는 특이 치입니다. 그런 다음 ADASYN 접근 방식은 피쳐 공간의 이러한 영역에 너무 많은주의를 기울여 \n",
    "# 모델 성능을 저하시킬 수 있습니다. ADASYN을 사용하기 전에 이상 값을 제거하는 것이 좋습니다.\n",
    "from imblearn.over_sampling import *\n",
    "X_samp, y_samp = ADASYN(random_state=0, sampling_strategy='minority').fit_sample(ftr_imputed, target)"
   ]
  },
  {
   "cell_type": "code",
   "execution_count": 35,
   "metadata": {
    "hidden": true
   },
   "outputs": [
    {
     "data": {
      "text/plain": [
       "((41204, 30), (41204,))"
      ]
     },
     "execution_count": 35,
     "metadata": {},
     "output_type": "execute_result"
    }
   ],
   "source": [
    "X_samp.shape, y_samp.shape"
   ]
  },
  {
   "cell_type": "markdown",
   "metadata": {
    "hidden": true
   },
   "source": [
    "### combine sampling"
   ]
  },
  {
   "cell_type": "code",
   "execution_count": null,
   "metadata": {
    "hidden": true
   },
   "outputs": [],
   "source": []
  },
  {
   "cell_type": "code",
   "execution_count": null,
   "metadata": {
    "hidden": true
   },
   "outputs": [],
   "source": []
  },
  {
   "cell_type": "code",
   "execution_count": null,
   "metadata": {
    "hidden": true
   },
   "outputs": [],
   "source": []
  },
  {
   "cell_type": "code",
   "execution_count": null,
   "metadata": {
    "hidden": true
   },
   "outputs": [],
   "source": []
  },
  {
   "cell_type": "code",
   "execution_count": null,
   "metadata": {
    "hidden": true
   },
   "outputs": [],
   "source": []
  },
  {
   "cell_type": "code",
   "execution_count": null,
   "metadata": {
    "hidden": true
   },
   "outputs": [],
   "source": []
  },
  {
   "cell_type": "code",
   "execution_count": null,
   "metadata": {
    "hidden": true
   },
   "outputs": [],
   "source": []
  },
  {
   "cell_type": "code",
   "execution_count": null,
   "metadata": {
    "hidden": true
   },
   "outputs": [],
   "source": []
  },
  {
   "cell_type": "markdown",
   "metadata": {},
   "source": [
    "## 모델링"
   ]
  },
  {
   "cell_type": "code",
   "execution_count": 241,
   "metadata": {},
   "outputs": [],
   "source": [
    "from lightgbm import LGBMClassifier\n",
    "from xgboost import XGBRFClassifier\n",
    "from sklearn.model_selection import TimeSeriesSplit, StratifiedKFold\n",
    "from sklearn.ensemble import RandomForestRegressor, GradientBoostingRegressor, VotingRegressor\n",
    "from ngboost import NGBRegressor\n",
    "from catboost import CatBoostClassifier, Pool\n",
    "from sklearn.metrics import accuracy_score, precision_score, recall_score, confusion_matrix, roc_auc_score"
   ]
  },
  {
   "cell_type": "code",
   "execution_count": 242,
   "metadata": {},
   "outputs": [],
   "source": [
    "kf = StratifiedKFold(n_splits=5, random_state=0, shuffle=True)"
   ]
  },
  {
   "cell_type": "code",
   "execution_count": 243,
   "metadata": {},
   "outputs": [],
   "source": [
    "cat_features = ['장기서비스여부', '기존고객여부', '결재형태', '서비스주소', '주거형태', '평수', '부재중여부', '우선청소', \n",
    "                '쿠폰사용여부', '매니저사용휴대폰', '매니저이동방법', '근무가능지역', 'CS교육이수여부', '청소교육이수여부', \n",
    "                '부재중서비스가능여부', '추천인여부', '시간추가여부', '반려동물_고양이', '반려동물_개', '반려동물_기타', \n",
    "                '반려동물_없음']"
   ]
  },
  {
   "cell_type": "code",
   "execution_count": 244,
   "metadata": {},
   "outputs": [
    {
     "data": {
      "text/plain": [
       "((23009, 62), (23009,), (4244, 62))"
      ]
     },
     "execution_count": 244,
     "metadata": {},
     "output_type": "execute_result"
    }
   ],
   "source": [
    "ftr_imputed.shape, target.shape, ftr_te_imputed.shape"
   ]
  },
  {
   "cell_type": "markdown",
   "metadata": {},
   "source": [
    "### Catboost"
   ]
  },
  {
   "cell_type": "code",
   "execution_count": 245,
   "metadata": {},
   "outputs": [],
   "source": [
    "ftr_imputed[cat_features] = ftr_imputed[cat_features].astype(int)\n",
    "ftr_te_imputed[cat_features] = ftr_te_imputed[cat_features].astype(int)"
   ]
  },
  {
   "cell_type": "code",
   "execution_count": 246,
   "metadata": {},
   "outputs": [],
   "source": [
    "# catboost data imbalance cover\n",
    "from sklearn.utils.class_weight import compute_class_weight\n",
    " \n",
    "classes = np.unique(target)\n",
    "weights = compute_class_weight(class_weight='balanced', classes=classes, y=target)\n",
    "class_weights = dict(zip(classes, weights))"
   ]
  },
  {
   "cell_type": "code",
   "execution_count": 247,
   "metadata": {},
   "outputs": [
    {
     "data": {
      "text/plain": [
       "{0: 0.5528086108308107, 1: 5.234076433121019}"
      ]
     },
     "execution_count": 247,
     "metadata": {},
     "output_type": "execute_result"
    }
   ],
   "source": [
    "class_weights"
   ]
  },
  {
   "cell_type": "code",
   "execution_count": 248,
   "metadata": {
    "scrolled": false
   },
   "outputs": [
    {
     "name": "stdout",
     "output_type": "stream",
     "text": [
      "0:\ttest: 0.6042285\tbest: 0.6042285 (0)\ttotal: 186ms\tremaining: 31m 4s\n",
      "2000:\ttest: 0.9177478\tbest: 0.9177478 (2000)\ttotal: 1m 15s\tremaining: 5m\n",
      "4000:\ttest: 0.9313502\tbest: 0.9314580 (3968)\ttotal: 2m 46s\tremaining: 4m 9s\n",
      "6000:\ttest: 0.9347821\tbest: 0.9348576 (5889)\ttotal: 4m 21s\tremaining: 2m 54s\n",
      "8000:\ttest: 0.9366430\tbest: 0.9367771 (7962)\ttotal: 5m 51s\tremaining: 1m 27s\n",
      "9999:\ttest: 0.9374731\tbest: 0.9374868 (9997)\ttotal: 7m 26s\tremaining: 0us\n",
      "\n",
      "bestTest = 0.9374867651\n",
      "bestIteration = 9997\n",
      "\n",
      "Shrink model to first 9998 iterations.\n",
      "FOLD ROC-AUC = 0.9374856707615686\n",
      "0:\ttest: 0.5889831\tbest: 0.5889831 (0)\ttotal: 40.5ms\tremaining: 6m 45s\n",
      "2000:\ttest: 0.9220777\tbest: 0.9221263 (1994)\ttotal: 1m 40s\tremaining: 6m 39s\n",
      "4000:\ttest: 0.9345493\tbest: 0.9345974 (3982)\ttotal: 3m 41s\tremaining: 5m 31s\n",
      "6000:\ttest: 0.9370208\tbest: 0.9370208 (6000)\ttotal: 5m 44s\tremaining: 3m 49s\n",
      "8000:\ttest: 0.9386628\tbest: 0.9386902 (7993)\ttotal: 8m 5s\tremaining: 2m 1s\n",
      "Stopped by overfitting detector  (1000 iterations wait)\n",
      "\n",
      "bestTest = 0.9388588856\n",
      "bestIteration = 8358\n",
      "\n",
      "Shrink model to first 8359 iterations.\n",
      "FOLD ROC-AUC = 0.9388386811410598\n",
      "0:\ttest: 0.6086060\tbest: 0.6086060 (0)\ttotal: 84.7ms\tremaining: 14m 6s\n",
      "2000:\ttest: 0.9125153\tbest: 0.9125420 (1997)\ttotal: 2m 15s\tremaining: 9m 2s\n",
      "4000:\ttest: 0.9307331\tbest: 0.9307331 (4000)\ttotal: 4m 31s\tremaining: 6m 47s\n",
      "6000:\ttest: 0.9378544\tbest: 0.9378593 (5999)\ttotal: 6m 58s\tremaining: 4m 38s\n",
      "8000:\ttest: 0.9401009\tbest: 0.9401795 (7906)\ttotal: 9m 31s\tremaining: 2m 22s\n",
      "9999:\ttest: 0.9405973\tbest: 0.9406055 (9988)\ttotal: 12m 3s\tremaining: 0us\n",
      "\n",
      "bestTest = 0.9406054781\n",
      "bestIteration = 9988\n",
      "\n",
      "Shrink model to first 9989 iterations.\n",
      "FOLD ROC-AUC = 0.940600563540256\n",
      "0:\ttest: 0.5943144\tbest: 0.5943144 (0)\ttotal: 48.8ms\tremaining: 8m 8s\n",
      "2000:\ttest: 0.9081702\tbest: 0.9081713 (1999)\ttotal: 2m 25s\tremaining: 9m 42s\n",
      "4000:\ttest: 0.9322529\tbest: 0.9322539 (3999)\ttotal: 5m 1s\tremaining: 7m 32s\n",
      "6000:\ttest: 0.9374334\tbest: 0.9374334 (6000)\ttotal: 7m 38s\tremaining: 5m 5s\n",
      "8000:\ttest: 0.9396286\tbest: 0.9396362 (7998)\ttotal: 10m 15s\tremaining: 2m 33s\n",
      "9999:\ttest: 0.9401424\tbest: 0.9404023 (9628)\ttotal: 12m 44s\tremaining: 0us\n",
      "\n",
      "bestTest = 0.9404023415\n",
      "bestIteration = 9628\n",
      "\n",
      "Shrink model to first 9629 iterations.\n",
      "FOLD ROC-AUC = 0.9404012493993273\n",
      "0:\ttest: 0.6590748\tbest: 0.6590748 (0)\ttotal: 49.8ms\tremaining: 8m 17s\n",
      "2000:\ttest: 0.9097360\tbest: 0.9097502 (1999)\ttotal: 2m 29s\tremaining: 9m 58s\n",
      "4000:\ttest: 0.9220275\tbest: 0.9220565 (3985)\ttotal: 5m 5s\tremaining: 7m 37s\n",
      "6000:\ttest: 0.9295459\tbest: 0.9295524 (5969)\ttotal: 7m 39s\tremaining: 5m 6s\n",
      "8000:\ttest: 0.9322036\tbest: 0.9322173 (7975)\ttotal: 10m 6s\tremaining: 2m 31s\n",
      "9999:\ttest: 0.9342730\tbest: 0.9343113 (9932)\ttotal: 12m 29s\tremaining: 0us\n",
      "\n",
      "bestTest = 0.9343113034\n",
      "bestIteration = 9932\n",
      "\n",
      "Shrink model to first 9933 iterations.\n",
      "FOLD ROC-AUC = 0.9343058302747824\n",
      "\n",
      "CatBoostClassifier ROC_AUC_score = 0.9383263990233989\n"
     ]
    }
   ],
   "source": [
    "cb_pred = np.zeros((ftr_te.shape[0]))\n",
    "auc_list = []\n",
    "for tr_idx, val_idx in kf.split(ftr_imputed, target):\n",
    "    tr_x, val_x = ftr_imputed.iloc[tr_idx], ftr_imputed.iloc[val_idx]\n",
    "    tr_y, val_y = target.iloc[tr_idx], target.iloc[val_idx]\n",
    "    train_data = Pool(data=tr_x, label=tr_y, cat_features=cat_features)\n",
    "    val_data = Pool(data=val_x, label=val_y, cat_features=cat_features)\n",
    "    cb = CatBoostClassifier(iterations=10000, learning_rate=0.01, eval_metric='AUC', class_weights=class_weights,\n",
    "                        silent=True, loss_function='Logloss')\n",
    "    cb.fit(train_data, eval_set=val_data, early_stopping_rounds=1000, use_best_model=True, verbose=2000)\n",
    "    best = cb.best_iteration_\n",
    "    pred = cb.predict_proba(val_x, ntree_end=best)[:, 1]\n",
    "    auc = roc_auc_score(val_y, pred)\n",
    "    auc_list.append(auc)\n",
    "    print(f'FOLD ROC-AUC = {auc}')\n",
    "    sub_pred = cb.predict_proba(ftr_te_imputed, ntree_end=best)[:, 1] / 5\n",
    "    cb_pred += sub_pred\n",
    "print(f'\\n{cb.__class__.__name__} ROC_AUC_score = {np.mean(auc_list)}')"
   ]
  },
  {
   "cell_type": "code",
   "execution_count": 249,
   "metadata": {},
   "outputs": [
    {
     "data": {
      "text/plain": [
       "(4244,)"
      ]
     },
     "execution_count": 249,
     "metadata": {},
     "output_type": "execute_result"
    }
   ],
   "source": [
    "cb_pred.shape"
   ]
  },
  {
   "cell_type": "code",
   "execution_count": 250,
   "metadata": {},
   "outputs": [
    {
     "data": {
      "text/plain": [
       "array([1.08591243e-04, 3.70874803e-01, 1.49390176e-01, ...,\n",
       "       4.19946496e-01, 1.48550645e-03, 6.00762643e-01])"
      ]
     },
     "execution_count": 250,
     "metadata": {},
     "output_type": "execute_result"
    }
   ],
   "source": [
    "cb_pred"
   ]
  },
  {
   "cell_type": "markdown",
   "metadata": {},
   "source": [
    "### TabNet"
   ]
  },
  {
   "cell_type": "code",
   "execution_count": 101,
   "metadata": {},
   "outputs": [],
   "source": [
    "ftr[cat_features] = ftr[cat_features].astype(str)\n",
    "ftr_te[cat_features] = ftr_te[cat_features].astype(str)"
   ]
  },
  {
   "cell_type": "code",
   "execution_count": 102,
   "metadata": {},
   "outputs": [],
   "source": [
    "if \"Set\" not in ftr.columns:\n",
    "    ftr[\"Set\"] = np.random.choice([\"train\", \"valid\", \"test\"], p =[.8, .1, .1], size=(ftr.shape[0],))\n",
    "\n",
    "train_indices = ftr[ftr.Set==\"train\"].index\n",
    "valid_indices = ftr[ftr.Set==\"valid\"].index\n",
    "test_indices = ftr[ftr.Set==\"test\"].index"
   ]
  },
  {
   "cell_type": "code",
   "execution_count": 103,
   "metadata": {},
   "outputs": [],
   "source": [
    "import os\n",
    "import torch\n",
    "import torch.nn as nn\n",
    "from pytorch_tabnet.tab_model import TabNetClassifier"
   ]
  },
  {
   "cell_type": "code",
   "execution_count": 104,
   "metadata": {},
   "outputs": [
    {
     "name": "stdout",
     "output_type": "stream",
     "text": [
      "장기서비스여부 2\n",
      "전체회차 11\n",
      "현재회차 10\n",
      "기존고객여부 2\n",
      "결재형태 4\n",
      "서비스주소 42\n",
      "주거형태 2\n",
      "평수 5\n",
      "부재중여부 3\n",
      "우선청소 6\n",
      "쿠폰사용여부 2\n",
      "매니저사용휴대폰 4\n",
      "매니저이동방법 3\n",
      "근무가능지역 8\n",
      "CS교육이수여부 3\n",
      "청소교육이수여부 3\n",
      "부재중서비스가능여부 2\n",
      "추천인여부 2\n",
      "서비스시작시간2 12\n",
      "서비스종료시간2 14\n",
      "서비스소요시간 7\n",
      "회차사용비율 33\n",
      "접수후최초서비스걸린시일 42\n",
      "접수후서비스걸린시일 90\n",
      "최초서비스_서비스_시일 55\n",
      "시간추가여부 2\n",
      "매니저나이 35\n",
      "na값 4\n",
      "반려동물_고양이 2\n",
      "반려동물_개 2\n",
      "반려동물_기타 2\n",
      "반려동물_없음 2\n",
      "Set 3\n"
     ]
    }
   ],
   "source": [
    "nunique = ftr.nunique()\n",
    "types = ftr.dtypes\n",
    "\n",
    "categorical_columns = []\n",
    "categorical_dims =  {}\n",
    "for col in ftr.columns:\n",
    "    if types[col] == 'object' or nunique[col] < 200:\n",
    "        print(col, ftr[col].nunique())\n",
    "        l_enc = LabelEncoder()\n",
    "        ftr[col] = ftr[col].fillna(\"VV_likely\")\n",
    "        ftr[col] = l_enc.fit_transform(ftr[col].values)\n",
    "        categorical_columns.append(col)\n",
    "        categorical_dims[col] = len(l_enc.classes_)\n",
    "    else:\n",
    "        ftr.fillna(ftr.loc[train_indices, col].mean(), inplace=True)"
   ]
  },
  {
   "cell_type": "code",
   "execution_count": 106,
   "metadata": {},
   "outputs": [],
   "source": [
    "# Contains dimension and idxs of categorical variable for categorical embedding.\n",
    "unused_feat = ['Set']\n",
    "features = [ col for col in ftr.columns if col not in unused_feat] \n",
    "cat_idxs = [ i for i, f in enumerate(features) if f in categorical_columns]\n",
    "cat_dims = [ categorical_dims[f] for i, f in enumerate(features) if f in categorical_columns]"
   ]
  },
  {
   "cell_type": "code",
   "execution_count": 107,
   "metadata": {},
   "outputs": [
    {
     "name": "stderr",
     "output_type": "stream",
     "text": [
      "  0%|                                                                                           | 0/32 [00:00<?, ?it/s]\n"
     ]
    },
    {
     "ename": "TypeError",
     "evalue": "ufunc 'cbrt' not supported for the input types, and the inputs could not be safely coerced to any supported types according to the casting rule ''safe''",
     "output_type": "error",
     "traceback": [
      "\u001b[1;31m---------------------------------------------------------------------------\u001b[0m",
      "\u001b[1;31mTypeError\u001b[0m                                 Traceback (most recent call last)",
      "\u001b[1;32m<ipython-input-107-05b9165ba9b9>\u001b[0m in \u001b[0;36m<module>\u001b[1;34m\u001b[0m\n\u001b[0;32m      4\u001b[0m \u001b[1;33m\u001b[0m\u001b[0m\n\u001b[0;32m      5\u001b[0m \u001b[1;32mfor\u001b[0m \u001b[0mcol\u001b[0m \u001b[1;32min\u001b[0m \u001b[0mtqdm\u001b[0m\u001b[1;33m(\u001b[0m\u001b[0mfeatures\u001b[0m\u001b[1;33m)\u001b[0m\u001b[1;33m:\u001b[0m\u001b[1;33m\u001b[0m\u001b[1;33m\u001b[0m\u001b[0m\n\u001b[1;32m----> 6\u001b[1;33m     \u001b[0mftr_te\u001b[0m\u001b[1;33m[\u001b[0m\u001b[0mcol\u001b[0m\u001b[1;33m+\u001b[0m\u001b[1;34m'_bin'\u001b[0m\u001b[1;33m]\u001b[0m \u001b[1;33m=\u001b[0m \u001b[0mftr_te\u001b[0m\u001b[1;33m[\u001b[0m\u001b[0mcol\u001b[0m\u001b[1;33m]\u001b[0m\u001b[1;33m.\u001b[0m\u001b[0mapply\u001b[0m\u001b[1;33m(\u001b[0m\u001b[1;32mlambda\u001b[0m \u001b[0mx\u001b[0m\u001b[1;33m:\u001b[0m \u001b[1;36m1\u001b[0m \u001b[1;32mif\u001b[0m \u001b[0mnp\u001b[0m\u001b[1;33m.\u001b[0m\u001b[0mcbrt\u001b[0m\u001b[1;33m(\u001b[0m\u001b[0mx\u001b[0m\u001b[1;33m)\u001b[0m\u001b[1;33m>\u001b[0m\u001b[1;36m0\u001b[0m \u001b[1;32melse\u001b[0m \u001b[1;36m0\u001b[0m\u001b[1;33m)\u001b[0m\u001b[1;33m\u001b[0m\u001b[1;33m\u001b[0m\u001b[0m\n\u001b[0m\u001b[0;32m      7\u001b[0m \u001b[1;33m\u001b[0m\u001b[0m\n\u001b[0;32m      8\u001b[0m \u001b[0mprint\u001b[0m\u001b[1;33m(\u001b[0m\u001b[1;34mf\"test_df: {ftr_te.shape}\"\u001b[0m\u001b[1;33m)\u001b[0m\u001b[1;33m\u001b[0m\u001b[1;33m\u001b[0m\u001b[0m\n",
      "\u001b[1;32m~\\anaconda3\\lib\\site-packages\\pandas\\core\\series.py\u001b[0m in \u001b[0;36mapply\u001b[1;34m(self, func, convert_dtype, args, **kwds)\u001b[0m\n\u001b[0;32m   4136\u001b[0m             \u001b[1;32melse\u001b[0m\u001b[1;33m:\u001b[0m\u001b[1;33m\u001b[0m\u001b[1;33m\u001b[0m\u001b[0m\n\u001b[0;32m   4137\u001b[0m                 \u001b[0mvalues\u001b[0m \u001b[1;33m=\u001b[0m \u001b[0mself\u001b[0m\u001b[1;33m.\u001b[0m\u001b[0mastype\u001b[0m\u001b[1;33m(\u001b[0m\u001b[0mobject\u001b[0m\u001b[1;33m)\u001b[0m\u001b[1;33m.\u001b[0m\u001b[0m_values\u001b[0m\u001b[1;33m\u001b[0m\u001b[1;33m\u001b[0m\u001b[0m\n\u001b[1;32m-> 4138\u001b[1;33m                 \u001b[0mmapped\u001b[0m \u001b[1;33m=\u001b[0m \u001b[0mlib\u001b[0m\u001b[1;33m.\u001b[0m\u001b[0mmap_infer\u001b[0m\u001b[1;33m(\u001b[0m\u001b[0mvalues\u001b[0m\u001b[1;33m,\u001b[0m \u001b[0mf\u001b[0m\u001b[1;33m,\u001b[0m \u001b[0mconvert\u001b[0m\u001b[1;33m=\u001b[0m\u001b[0mconvert_dtype\u001b[0m\u001b[1;33m)\u001b[0m\u001b[1;33m\u001b[0m\u001b[1;33m\u001b[0m\u001b[0m\n\u001b[0m\u001b[0;32m   4139\u001b[0m \u001b[1;33m\u001b[0m\u001b[0m\n\u001b[0;32m   4140\u001b[0m         \u001b[1;32mif\u001b[0m \u001b[0mlen\u001b[0m\u001b[1;33m(\u001b[0m\u001b[0mmapped\u001b[0m\u001b[1;33m)\u001b[0m \u001b[1;32mand\u001b[0m \u001b[0misinstance\u001b[0m\u001b[1;33m(\u001b[0m\u001b[0mmapped\u001b[0m\u001b[1;33m[\u001b[0m\u001b[1;36m0\u001b[0m\u001b[1;33m]\u001b[0m\u001b[1;33m,\u001b[0m \u001b[0mSeries\u001b[0m\u001b[1;33m)\u001b[0m\u001b[1;33m:\u001b[0m\u001b[1;33m\u001b[0m\u001b[1;33m\u001b[0m\u001b[0m\n",
      "\u001b[1;32mpandas\\_libs\\lib.pyx\u001b[0m in \u001b[0;36mpandas._libs.lib.map_infer\u001b[1;34m()\u001b[0m\n",
      "\u001b[1;32m<ipython-input-107-05b9165ba9b9>\u001b[0m in \u001b[0;36m<lambda>\u001b[1;34m(x)\u001b[0m\n\u001b[0;32m      4\u001b[0m \u001b[1;33m\u001b[0m\u001b[0m\n\u001b[0;32m      5\u001b[0m \u001b[1;32mfor\u001b[0m \u001b[0mcol\u001b[0m \u001b[1;32min\u001b[0m \u001b[0mtqdm\u001b[0m\u001b[1;33m(\u001b[0m\u001b[0mfeatures\u001b[0m\u001b[1;33m)\u001b[0m\u001b[1;33m:\u001b[0m\u001b[1;33m\u001b[0m\u001b[1;33m\u001b[0m\u001b[0m\n\u001b[1;32m----> 6\u001b[1;33m     \u001b[0mftr_te\u001b[0m\u001b[1;33m[\u001b[0m\u001b[0mcol\u001b[0m\u001b[1;33m+\u001b[0m\u001b[1;34m'_bin'\u001b[0m\u001b[1;33m]\u001b[0m \u001b[1;33m=\u001b[0m \u001b[0mftr_te\u001b[0m\u001b[1;33m[\u001b[0m\u001b[0mcol\u001b[0m\u001b[1;33m]\u001b[0m\u001b[1;33m.\u001b[0m\u001b[0mapply\u001b[0m\u001b[1;33m(\u001b[0m\u001b[1;32mlambda\u001b[0m \u001b[0mx\u001b[0m\u001b[1;33m:\u001b[0m \u001b[1;36m1\u001b[0m \u001b[1;32mif\u001b[0m \u001b[0mnp\u001b[0m\u001b[1;33m.\u001b[0m\u001b[0mcbrt\u001b[0m\u001b[1;33m(\u001b[0m\u001b[0mx\u001b[0m\u001b[1;33m)\u001b[0m\u001b[1;33m>\u001b[0m\u001b[1;36m0\u001b[0m \u001b[1;32melse\u001b[0m \u001b[1;36m0\u001b[0m\u001b[1;33m)\u001b[0m\u001b[1;33m\u001b[0m\u001b[1;33m\u001b[0m\u001b[0m\n\u001b[0m\u001b[0;32m      7\u001b[0m \u001b[1;33m\u001b[0m\u001b[0m\n\u001b[0;32m      8\u001b[0m \u001b[0mprint\u001b[0m\u001b[1;33m(\u001b[0m\u001b[1;34mf\"test_df: {ftr_te.shape}\"\u001b[0m\u001b[1;33m)\u001b[0m\u001b[1;33m\u001b[0m\u001b[1;33m\u001b[0m\u001b[0m\n",
      "\u001b[1;31mTypeError\u001b[0m: ufunc 'cbrt' not supported for the input types, and the inputs could not be safely coerced to any supported types according to the casting rule ''safe''"
     ]
    }
   ],
   "source": [
    "from tqdm import tqdm\n",
    "features = ftr_te.columns.tolist()\n",
    "len(features)\n",
    "\n",
    "for col in tqdm(features):\n",
    "    ftr_te[col+'_bin'] = ftr_te[col].apply(lambda x: 1 if np.cbrt(x)>0 else 0)\n",
    "\n",
    "print(f\"test_df: {ftr_te.shape}\")\n",
    "ftr_te.head(20)"
   ]
  },
  {
   "cell_type": "code",
   "execution_count": 108,
   "metadata": {},
   "outputs": [
    {
     "name": "stdout",
     "output_type": "stream",
     "text": [
      "장기서비스여부 2\n",
      "전체회차 11\n",
      "현재회차 10\n",
      "기존고객여부 2\n",
      "결재형태 4\n",
      "서비스주소 47\n",
      "주거형태 2\n",
      "평수 5\n",
      "부재중여부 3\n",
      "우선청소 6\n",
      "쿠폰사용여부 2\n",
      "매니저사용휴대폰 4\n",
      "매니저이동방법 3\n",
      "근무가능지역 8\n",
      "CS교육이수여부 3\n",
      "청소교육이수여부 3\n",
      "부재중서비스가능여부 2\n",
      "추천인여부 2\n",
      "서비스시작시간2 11\n",
      "서비스종료시간2 11\n",
      "서비스소요시간 7\n",
      "회차사용비율 33\n",
      "접수후최초서비스걸린시일 42\n",
      "접수후서비스걸린시일 88\n",
      "최초서비스_서비스_시일 54\n",
      "시간추가여부 2\n",
      "매니저나이 35\n",
      "na값 5\n",
      "반려동물_고양이 2\n",
      "반려동물_개 2\n",
      "반려동물_기타 2\n",
      "반려동물_없음 2\n"
     ]
    }
   ],
   "source": [
    "nunique = ftr_te.nunique()\n",
    "types = ftr_te.dtypes\n",
    "\n",
    "categorical_columns = []\n",
    "categorical_dims =  {}\n",
    "for col in ftr_te.columns:\n",
    "    if types[col] == 'object' or nunique[col] < 200:\n",
    "        print(col, ftr_te[col].nunique())\n",
    "        l_enc = LabelEncoder()\n",
    "        ftr_te[col] = ftr_te[col].fillna(\"VV_likely\")\n",
    "        ftr_te[col] = l_enc.fit_transform(ftr_te[col].values)\n",
    "        categorical_columns.append(col)\n",
    "        categorical_dims[col] = len(l_enc.classes_)\n",
    "    else:\n",
    "        ftr_te.fillna(ftr_te.loc[test_indices, col].mean(), inplace=True)"
   ]
  },
  {
   "cell_type": "code",
   "execution_count": 109,
   "metadata": {},
   "outputs": [],
   "source": [
    "# Contains dimension and idxs of categorical variable for categorical embedding.\n",
    "unused_feat = ['Set']\n",
    "features = [ col for col in ftr_te.columns if col not in unused_feat] \n",
    "cat_idxs = [ i for i, f in enumerate(features) if f in categorical_columns]\n",
    "cat_dims = [ categorical_dims[f] for i, f in enumerate(features) if f in categorical_columns]"
   ]
  },
  {
   "cell_type": "code",
   "execution_count": 110,
   "metadata": {},
   "outputs": [
    {
     "name": "stdout",
     "output_type": "stream",
     "text": [
      "Device used : cuda\n"
     ]
    }
   ],
   "source": [
    "clf = TabNetClassifier(cat_idxs=cat_idxs,\n",
    "                       cat_dims=cat_dims,\n",
    "                       cat_emb_dim=10,\n",
    "                       optimizer_fn=torch.optim.Adam,\n",
    "                       optimizer_params=dict(lr=1e-2),\n",
    "                       scheduler_params={\"step_size\":50,\n",
    "                                         \"gamma\":0.9},\n",
    "                       scheduler_fn=torch.optim.lr_scheduler.StepLR,\n",
    "                       mask_type='sparsemax' # \"sparsemax\", entmax\n",
    "                      )"
   ]
  },
  {
   "cell_type": "code",
   "execution_count": 125,
   "metadata": {},
   "outputs": [],
   "source": [
    "X_train = ftr.iloc[train_indices].reset_index(drop=True)\n",
    "X_valid = ftr.iloc[valid_indices].reset_index(drop=True)\n",
    "y_train = target[train_indices].reset_index(drop=True)\n",
    "y_valid = target[valid_indices].reset_index(drop=True)"
   ]
  },
  {
   "cell_type": "code",
   "execution_count": 126,
   "metadata": {},
   "outputs": [
    {
     "data": {
      "text/html": [
       "<div>\n",
       "<style scoped>\n",
       "    .dataframe tbody tr th:only-of-type {\n",
       "        vertical-align: middle;\n",
       "    }\n",
       "\n",
       "    .dataframe tbody tr th {\n",
       "        vertical-align: top;\n",
       "    }\n",
       "\n",
       "    .dataframe thead th {\n",
       "        text-align: right;\n",
       "    }\n",
       "</style>\n",
       "<table border=\"1\" class=\"dataframe\">\n",
       "  <thead>\n",
       "    <tr style=\"text-align: right;\">\n",
       "      <th></th>\n",
       "      <th>장기서비스여부</th>\n",
       "      <th>전체회차</th>\n",
       "      <th>현재회차</th>\n",
       "      <th>기존고객여부</th>\n",
       "      <th>결재형태</th>\n",
       "      <th>서비스주소</th>\n",
       "      <th>주거형태</th>\n",
       "      <th>평수</th>\n",
       "      <th>부재중여부</th>\n",
       "      <th>우선청소</th>\n",
       "      <th>쿠폰사용여부</th>\n",
       "      <th>매니저사용휴대폰</th>\n",
       "      <th>매니저이동방법</th>\n",
       "      <th>근무가능지역</th>\n",
       "      <th>CS교육이수여부</th>\n",
       "      <th>청소교육이수여부</th>\n",
       "      <th>부재중서비스가능여부</th>\n",
       "      <th>추천인여부</th>\n",
       "      <th>서비스시작시간2</th>\n",
       "      <th>서비스종료시간2</th>\n",
       "      <th>서비스소요시간</th>\n",
       "      <th>회차사용비율</th>\n",
       "      <th>접수후최초서비스걸린시일</th>\n",
       "      <th>접수후서비스걸린시일</th>\n",
       "      <th>최초서비스_서비스_시일</th>\n",
       "      <th>시간추가여부</th>\n",
       "      <th>매니저나이</th>\n",
       "      <th>na값</th>\n",
       "      <th>반려동물_고양이</th>\n",
       "      <th>반려동물_개</th>\n",
       "      <th>반려동물_기타</th>\n",
       "      <th>반려동물_없음</th>\n",
       "      <th>Set</th>\n",
       "    </tr>\n",
       "  </thead>\n",
       "  <tbody>\n",
       "    <tr>\n",
       "      <th>0</th>\n",
       "      <td>1</td>\n",
       "      <td>2</td>\n",
       "      <td>2</td>\n",
       "      <td>1</td>\n",
       "      <td>1</td>\n",
       "      <td>41</td>\n",
       "      <td>1</td>\n",
       "      <td>4</td>\n",
       "      <td>2</td>\n",
       "      <td>0</td>\n",
       "      <td>0</td>\n",
       "      <td>3</td>\n",
       "      <td>1</td>\n",
       "      <td>3</td>\n",
       "      <td>0</td>\n",
       "      <td>0</td>\n",
       "      <td>1</td>\n",
       "      <td>0</td>\n",
       "      <td>3</td>\n",
       "      <td>4</td>\n",
       "      <td>2</td>\n",
       "      <td>32</td>\n",
       "      <td>9</td>\n",
       "      <td>24</td>\n",
       "      <td>14</td>\n",
       "      <td>0</td>\n",
       "      <td>31</td>\n",
       "      <td>3</td>\n",
       "      <td>0</td>\n",
       "      <td>0</td>\n",
       "      <td>0</td>\n",
       "      <td>0</td>\n",
       "      <td>1</td>\n",
       "    </tr>\n",
       "    <tr>\n",
       "      <th>1</th>\n",
       "      <td>1</td>\n",
       "      <td>3</td>\n",
       "      <td>2</td>\n",
       "      <td>1</td>\n",
       "      <td>1</td>\n",
       "      <td>41</td>\n",
       "      <td>1</td>\n",
       "      <td>4</td>\n",
       "      <td>2</td>\n",
       "      <td>0</td>\n",
       "      <td>0</td>\n",
       "      <td>3</td>\n",
       "      <td>1</td>\n",
       "      <td>6</td>\n",
       "      <td>1</td>\n",
       "      <td>1</td>\n",
       "      <td>1</td>\n",
       "      <td>0</td>\n",
       "      <td>4</td>\n",
       "      <td>7</td>\n",
       "      <td>4</td>\n",
       "      <td>24</td>\n",
       "      <td>6</td>\n",
       "      <td>43</td>\n",
       "      <td>35</td>\n",
       "      <td>0</td>\n",
       "      <td>11</td>\n",
       "      <td>2</td>\n",
       "      <td>0</td>\n",
       "      <td>0</td>\n",
       "      <td>0</td>\n",
       "      <td>1</td>\n",
       "      <td>1</td>\n",
       "    </tr>\n",
       "    <tr>\n",
       "      <th>2</th>\n",
       "      <td>1</td>\n",
       "      <td>9</td>\n",
       "      <td>5</td>\n",
       "      <td>1</td>\n",
       "      <td>3</td>\n",
       "      <td>41</td>\n",
       "      <td>1</td>\n",
       "      <td>3</td>\n",
       "      <td>0</td>\n",
       "      <td>0</td>\n",
       "      <td>0</td>\n",
       "      <td>3</td>\n",
       "      <td>1</td>\n",
       "      <td>6</td>\n",
       "      <td>0</td>\n",
       "      <td>0</td>\n",
       "      <td>0</td>\n",
       "      <td>0</td>\n",
       "      <td>3</td>\n",
       "      <td>4</td>\n",
       "      <td>2</td>\n",
       "      <td>19</td>\n",
       "      <td>8</td>\n",
       "      <td>27</td>\n",
       "      <td>18</td>\n",
       "      <td>0</td>\n",
       "      <td>17</td>\n",
       "      <td>1</td>\n",
       "      <td>0</td>\n",
       "      <td>0</td>\n",
       "      <td>0</td>\n",
       "      <td>1</td>\n",
       "      <td>1</td>\n",
       "    </tr>\n",
       "    <tr>\n",
       "      <th>3</th>\n",
       "      <td>1</td>\n",
       "      <td>3</td>\n",
       "      <td>3</td>\n",
       "      <td>1</td>\n",
       "      <td>1</td>\n",
       "      <td>21</td>\n",
       "      <td>1</td>\n",
       "      <td>2</td>\n",
       "      <td>0</td>\n",
       "      <td>2</td>\n",
       "      <td>0</td>\n",
       "      <td>3</td>\n",
       "      <td>1</td>\n",
       "      <td>3</td>\n",
       "      <td>0</td>\n",
       "      <td>0</td>\n",
       "      <td>1</td>\n",
       "      <td>0</td>\n",
       "      <td>3</td>\n",
       "      <td>5</td>\n",
       "      <td>3</td>\n",
       "      <td>32</td>\n",
       "      <td>3</td>\n",
       "      <td>25</td>\n",
       "      <td>21</td>\n",
       "      <td>1</td>\n",
       "      <td>31</td>\n",
       "      <td>0</td>\n",
       "      <td>0</td>\n",
       "      <td>0</td>\n",
       "      <td>0</td>\n",
       "      <td>1</td>\n",
       "      <td>1</td>\n",
       "    </tr>\n",
       "    <tr>\n",
       "      <th>4</th>\n",
       "      <td>1</td>\n",
       "      <td>7</td>\n",
       "      <td>5</td>\n",
       "      <td>1</td>\n",
       "      <td>1</td>\n",
       "      <td>40</td>\n",
       "      <td>1</td>\n",
       "      <td>4</td>\n",
       "      <td>2</td>\n",
       "      <td>0</td>\n",
       "      <td>0</td>\n",
       "      <td>3</td>\n",
       "      <td>2</td>\n",
       "      <td>6</td>\n",
       "      <td>0</td>\n",
       "      <td>0</td>\n",
       "      <td>1</td>\n",
       "      <td>0</td>\n",
       "      <td>3</td>\n",
       "      <td>4</td>\n",
       "      <td>2</td>\n",
       "      <td>24</td>\n",
       "      <td>17</td>\n",
       "      <td>53</td>\n",
       "      <td>34</td>\n",
       "      <td>0</td>\n",
       "      <td>21</td>\n",
       "      <td>2</td>\n",
       "      <td>0</td>\n",
       "      <td>0</td>\n",
       "      <td>0</td>\n",
       "      <td>1</td>\n",
       "      <td>1</td>\n",
       "    </tr>\n",
       "    <tr>\n",
       "      <th>...</th>\n",
       "      <td>...</td>\n",
       "      <td>...</td>\n",
       "      <td>...</td>\n",
       "      <td>...</td>\n",
       "      <td>...</td>\n",
       "      <td>...</td>\n",
       "      <td>...</td>\n",
       "      <td>...</td>\n",
       "      <td>...</td>\n",
       "      <td>...</td>\n",
       "      <td>...</td>\n",
       "      <td>...</td>\n",
       "      <td>...</td>\n",
       "      <td>...</td>\n",
       "      <td>...</td>\n",
       "      <td>...</td>\n",
       "      <td>...</td>\n",
       "      <td>...</td>\n",
       "      <td>...</td>\n",
       "      <td>...</td>\n",
       "      <td>...</td>\n",
       "      <td>...</td>\n",
       "      <td>...</td>\n",
       "      <td>...</td>\n",
       "      <td>...</td>\n",
       "      <td>...</td>\n",
       "      <td>...</td>\n",
       "      <td>...</td>\n",
       "      <td>...</td>\n",
       "      <td>...</td>\n",
       "      <td>...</td>\n",
       "      <td>...</td>\n",
       "      <td>...</td>\n",
       "    </tr>\n",
       "    <tr>\n",
       "      <th>18467</th>\n",
       "      <td>1</td>\n",
       "      <td>4</td>\n",
       "      <td>3</td>\n",
       "      <td>1</td>\n",
       "      <td>0</td>\n",
       "      <td>41</td>\n",
       "      <td>1</td>\n",
       "      <td>3</td>\n",
       "      <td>0</td>\n",
       "      <td>0</td>\n",
       "      <td>0</td>\n",
       "      <td>3</td>\n",
       "      <td>1</td>\n",
       "      <td>2</td>\n",
       "      <td>0</td>\n",
       "      <td>0</td>\n",
       "      <td>1</td>\n",
       "      <td>0</td>\n",
       "      <td>2</td>\n",
       "      <td>4</td>\n",
       "      <td>3</td>\n",
       "      <td>26</td>\n",
       "      <td>18</td>\n",
       "      <td>40</td>\n",
       "      <td>21</td>\n",
       "      <td>1</td>\n",
       "      <td>8</td>\n",
       "      <td>1</td>\n",
       "      <td>0</td>\n",
       "      <td>0</td>\n",
       "      <td>0</td>\n",
       "      <td>1</td>\n",
       "      <td>1</td>\n",
       "    </tr>\n",
       "    <tr>\n",
       "      <th>18468</th>\n",
       "      <td>1</td>\n",
       "      <td>3</td>\n",
       "      <td>0</td>\n",
       "      <td>1</td>\n",
       "      <td>3</td>\n",
       "      <td>0</td>\n",
       "      <td>0</td>\n",
       "      <td>1</td>\n",
       "      <td>1</td>\n",
       "      <td>1</td>\n",
       "      <td>0</td>\n",
       "      <td>3</td>\n",
       "      <td>2</td>\n",
       "      <td>6</td>\n",
       "      <td>0</td>\n",
       "      <td>0</td>\n",
       "      <td>1</td>\n",
       "      <td>0</td>\n",
       "      <td>10</td>\n",
       "      <td>9</td>\n",
       "      <td>0</td>\n",
       "      <td>8</td>\n",
       "      <td>4</td>\n",
       "      <td>5</td>\n",
       "      <td>0</td>\n",
       "      <td>0</td>\n",
       "      <td>17</td>\n",
       "      <td>0</td>\n",
       "      <td>1</td>\n",
       "      <td>0</td>\n",
       "      <td>0</td>\n",
       "      <td>0</td>\n",
       "      <td>1</td>\n",
       "    </tr>\n",
       "    <tr>\n",
       "      <th>18469</th>\n",
       "      <td>1</td>\n",
       "      <td>9</td>\n",
       "      <td>8</td>\n",
       "      <td>1</td>\n",
       "      <td>3</td>\n",
       "      <td>40</td>\n",
       "      <td>1</td>\n",
       "      <td>4</td>\n",
       "      <td>2</td>\n",
       "      <td>0</td>\n",
       "      <td>1</td>\n",
       "      <td>3</td>\n",
       "      <td>1</td>\n",
       "      <td>6</td>\n",
       "      <td>0</td>\n",
       "      <td>0</td>\n",
       "      <td>1</td>\n",
       "      <td>0</td>\n",
       "      <td>8</td>\n",
       "      <td>9</td>\n",
       "      <td>2</td>\n",
       "      <td>31</td>\n",
       "      <td>30</td>\n",
       "      <td>89</td>\n",
       "      <td>54</td>\n",
       "      <td>0</td>\n",
       "      <td>18</td>\n",
       "      <td>2</td>\n",
       "      <td>0</td>\n",
       "      <td>0</td>\n",
       "      <td>0</td>\n",
       "      <td>1</td>\n",
       "      <td>1</td>\n",
       "    </tr>\n",
       "    <tr>\n",
       "      <th>18470</th>\n",
       "      <td>1</td>\n",
       "      <td>3</td>\n",
       "      <td>2</td>\n",
       "      <td>1</td>\n",
       "      <td>3</td>\n",
       "      <td>40</td>\n",
       "      <td>1</td>\n",
       "      <td>4</td>\n",
       "      <td>2</td>\n",
       "      <td>0</td>\n",
       "      <td>0</td>\n",
       "      <td>3</td>\n",
       "      <td>2</td>\n",
       "      <td>6</td>\n",
       "      <td>1</td>\n",
       "      <td>1</td>\n",
       "      <td>1</td>\n",
       "      <td>0</td>\n",
       "      <td>8</td>\n",
       "      <td>9</td>\n",
       "      <td>2</td>\n",
       "      <td>24</td>\n",
       "      <td>5</td>\n",
       "      <td>20</td>\n",
       "      <td>14</td>\n",
       "      <td>0</td>\n",
       "      <td>20</td>\n",
       "      <td>3</td>\n",
       "      <td>0</td>\n",
       "      <td>0</td>\n",
       "      <td>0</td>\n",
       "      <td>0</td>\n",
       "      <td>1</td>\n",
       "    </tr>\n",
       "    <tr>\n",
       "      <th>18471</th>\n",
       "      <td>0</td>\n",
       "      <td>0</td>\n",
       "      <td>0</td>\n",
       "      <td>1</td>\n",
       "      <td>1</td>\n",
       "      <td>41</td>\n",
       "      <td>1</td>\n",
       "      <td>1</td>\n",
       "      <td>1</td>\n",
       "      <td>5</td>\n",
       "      <td>0</td>\n",
       "      <td>1</td>\n",
       "      <td>1</td>\n",
       "      <td>6</td>\n",
       "      <td>2</td>\n",
       "      <td>2</td>\n",
       "      <td>0</td>\n",
       "      <td>0</td>\n",
       "      <td>3</td>\n",
       "      <td>4</td>\n",
       "      <td>2</td>\n",
       "      <td>32</td>\n",
       "      <td>12</td>\n",
       "      <td>13</td>\n",
       "      <td>0</td>\n",
       "      <td>0</td>\n",
       "      <td>19</td>\n",
       "      <td>0</td>\n",
       "      <td>0</td>\n",
       "      <td>0</td>\n",
       "      <td>0</td>\n",
       "      <td>1</td>\n",
       "      <td>1</td>\n",
       "    </tr>\n",
       "  </tbody>\n",
       "</table>\n",
       "<p>18472 rows × 33 columns</p>\n",
       "</div>"
      ],
      "text/plain": [
       "       장기서비스여부  전체회차  현재회차  기존고객여부  결재형태  서비스주소  주거형태  평수  부재중여부  우선청소  \\\n",
       "0            1     2     2       1     1     41     1   4      2     0   \n",
       "1            1     3     2       1     1     41     1   4      2     0   \n",
       "2            1     9     5       1     3     41     1   3      0     0   \n",
       "3            1     3     3       1     1     21     1   2      0     2   \n",
       "4            1     7     5       1     1     40     1   4      2     0   \n",
       "...        ...   ...   ...     ...   ...    ...   ...  ..    ...   ...   \n",
       "18467        1     4     3       1     0     41     1   3      0     0   \n",
       "18468        1     3     0       1     3      0     0   1      1     1   \n",
       "18469        1     9     8       1     3     40     1   4      2     0   \n",
       "18470        1     3     2       1     3     40     1   4      2     0   \n",
       "18471        0     0     0       1     1     41     1   1      1     5   \n",
       "\n",
       "       쿠폰사용여부  매니저사용휴대폰  매니저이동방법  근무가능지역  CS교육이수여부  청소교육이수여부  부재중서비스가능여부  \\\n",
       "0           0         3        1       3         0         0           1   \n",
       "1           0         3        1       6         1         1           1   \n",
       "2           0         3        1       6         0         0           0   \n",
       "3           0         3        1       3         0         0           1   \n",
       "4           0         3        2       6         0         0           1   \n",
       "...       ...       ...      ...     ...       ...       ...         ...   \n",
       "18467       0         3        1       2         0         0           1   \n",
       "18468       0         3        2       6         0         0           1   \n",
       "18469       1         3        1       6         0         0           1   \n",
       "18470       0         3        2       6         1         1           1   \n",
       "18471       0         1        1       6         2         2           0   \n",
       "\n",
       "       추천인여부  서비스시작시간2  서비스종료시간2  서비스소요시간  회차사용비율  접수후최초서비스걸린시일  접수후서비스걸린시일  \\\n",
       "0          0         3         4        2      32             9          24   \n",
       "1          0         4         7        4      24             6          43   \n",
       "2          0         3         4        2      19             8          27   \n",
       "3          0         3         5        3      32             3          25   \n",
       "4          0         3         4        2      24            17          53   \n",
       "...      ...       ...       ...      ...     ...           ...         ...   \n",
       "18467      0         2         4        3      26            18          40   \n",
       "18468      0        10         9        0       8             4           5   \n",
       "18469      0         8         9        2      31            30          89   \n",
       "18470      0         8         9        2      24             5          20   \n",
       "18471      0         3         4        2      32            12          13   \n",
       "\n",
       "       최초서비스_서비스_시일  시간추가여부  매니저나이  na값  반려동물_고양이  반려동물_개  반려동물_기타  반려동물_없음  \\\n",
       "0                14       0     31    3         0       0        0        0   \n",
       "1                35       0     11    2         0       0        0        1   \n",
       "2                18       0     17    1         0       0        0        1   \n",
       "3                21       1     31    0         0       0        0        1   \n",
       "4                34       0     21    2         0       0        0        1   \n",
       "...             ...     ...    ...  ...       ...     ...      ...      ...   \n",
       "18467            21       1      8    1         0       0        0        1   \n",
       "18468             0       0     17    0         1       0        0        0   \n",
       "18469            54       0     18    2         0       0        0        1   \n",
       "18470            14       0     20    3         0       0        0        0   \n",
       "18471             0       0     19    0         0       0        0        1   \n",
       "\n",
       "       Set  \n",
       "0        1  \n",
       "1        1  \n",
       "2        1  \n",
       "3        1  \n",
       "4        1  \n",
       "...    ...  \n",
       "18467    1  \n",
       "18468    1  \n",
       "18469    1  \n",
       "18470    1  \n",
       "18471    1  \n",
       "\n",
       "[18472 rows x 33 columns]"
      ]
     },
     "execution_count": 126,
     "metadata": {},
     "output_type": "execute_result"
    }
   ],
   "source": [
    "X_train"
   ]
  },
  {
   "cell_type": "code",
   "execution_count": 128,
   "metadata": {},
   "outputs": [
    {
     "ename": "KeyError",
     "evalue": "1658",
     "output_type": "error",
     "traceback": [
      "\u001b[1;31m---------------------------------------------------------------------------\u001b[0m",
      "\u001b[1;31mKeyError\u001b[0m                                  Traceback (most recent call last)",
      "\u001b[1;32m~\\anaconda3\\lib\\site-packages\\pandas\\core\\indexes\\base.py\u001b[0m in \u001b[0;36mget_loc\u001b[1;34m(self, key, method, tolerance)\u001b[0m\n\u001b[0;32m   3079\u001b[0m             \u001b[1;32mtry\u001b[0m\u001b[1;33m:\u001b[0m\u001b[1;33m\u001b[0m\u001b[1;33m\u001b[0m\u001b[0m\n\u001b[1;32m-> 3080\u001b[1;33m                 \u001b[1;32mreturn\u001b[0m \u001b[0mself\u001b[0m\u001b[1;33m.\u001b[0m\u001b[0m_engine\u001b[0m\u001b[1;33m.\u001b[0m\u001b[0mget_loc\u001b[0m\u001b[1;33m(\u001b[0m\u001b[0mcasted_key\u001b[0m\u001b[1;33m)\u001b[0m\u001b[1;33m\u001b[0m\u001b[1;33m\u001b[0m\u001b[0m\n\u001b[0m\u001b[0;32m   3081\u001b[0m             \u001b[1;32mexcept\u001b[0m \u001b[0mKeyError\u001b[0m \u001b[1;32mas\u001b[0m \u001b[0merr\u001b[0m\u001b[1;33m:\u001b[0m\u001b[1;33m\u001b[0m\u001b[1;33m\u001b[0m\u001b[0m\n",
      "\u001b[1;32mpandas\\_libs\\index.pyx\u001b[0m in \u001b[0;36mpandas._libs.index.IndexEngine.get_loc\u001b[1;34m()\u001b[0m\n",
      "\u001b[1;32mpandas\\_libs\\index.pyx\u001b[0m in \u001b[0;36mpandas._libs.index.IndexEngine.get_loc\u001b[1;34m()\u001b[0m\n",
      "\u001b[1;32mpandas\\_libs\\hashtable_class_helper.pxi\u001b[0m in \u001b[0;36mpandas._libs.hashtable.PyObjectHashTable.get_item\u001b[1;34m()\u001b[0m\n",
      "\u001b[1;32mpandas\\_libs\\hashtable_class_helper.pxi\u001b[0m in \u001b[0;36mpandas._libs.hashtable.PyObjectHashTable.get_item\u001b[1;34m()\u001b[0m\n",
      "\u001b[1;31mKeyError\u001b[0m: 1658",
      "\nThe above exception was the direct cause of the following exception:\n",
      "\u001b[1;31mKeyError\u001b[0m                                  Traceback (most recent call last)",
      "\u001b[1;32m<ipython-input-128-c00d12fe1338>\u001b[0m in \u001b[0;36m<module>\u001b[1;34m\u001b[0m\n\u001b[0;32m      1\u001b[0m \u001b[0mmax_epochs\u001b[0m \u001b[1;33m=\u001b[0m \u001b[1;36m100\u001b[0m\u001b[1;33m\u001b[0m\u001b[1;33m\u001b[0m\u001b[0m\n\u001b[0;32m      2\u001b[0m \u001b[1;33m\u001b[0m\u001b[0m\n\u001b[1;32m----> 3\u001b[1;33m clf.fit(\n\u001b[0m\u001b[0;32m      4\u001b[0m     \u001b[0mX_train\u001b[0m\u001b[1;33m=\u001b[0m\u001b[0mX_train\u001b[0m\u001b[1;33m,\u001b[0m \u001b[0my_train\u001b[0m\u001b[1;33m=\u001b[0m\u001b[0my_train\u001b[0m\u001b[1;33m,\u001b[0m\u001b[1;33m\u001b[0m\u001b[1;33m\u001b[0m\u001b[0m\n\u001b[0;32m      5\u001b[0m     \u001b[0meval_set\u001b[0m\u001b[1;33m=\u001b[0m\u001b[1;33m[\u001b[0m\u001b[1;33m(\u001b[0m\u001b[0mX_train\u001b[0m\u001b[1;33m,\u001b[0m \u001b[0my_train\u001b[0m\u001b[1;33m)\u001b[0m\u001b[1;33m,\u001b[0m \u001b[1;33m(\u001b[0m\u001b[0mX_valid\u001b[0m\u001b[1;33m,\u001b[0m \u001b[0my_valid\u001b[0m\u001b[1;33m)\u001b[0m\u001b[1;33m]\u001b[0m\u001b[1;33m,\u001b[0m\u001b[1;33m\u001b[0m\u001b[1;33m\u001b[0m\u001b[0m\n",
      "\u001b[1;32m~\\anaconda3\\lib\\site-packages\\pytorch_tabnet\\abstract_model.py\u001b[0m in \u001b[0;36mfit\u001b[1;34m(self, X_train, y_train, eval_set, eval_name, eval_metric, loss_fn, weights, max_epochs, patience, batch_size, virtual_batch_size, num_workers, drop_last, callbacks, pin_memory, from_unsupervised)\u001b[0m\n\u001b[0;32m    221\u001b[0m             \u001b[0mself\u001b[0m\u001b[1;33m.\u001b[0m\u001b[0m_callback_container\u001b[0m\u001b[1;33m.\u001b[0m\u001b[0mon_epoch_begin\u001b[0m\u001b[1;33m(\u001b[0m\u001b[0mepoch_idx\u001b[0m\u001b[1;33m)\u001b[0m\u001b[1;33m\u001b[0m\u001b[1;33m\u001b[0m\u001b[0m\n\u001b[0;32m    222\u001b[0m \u001b[1;33m\u001b[0m\u001b[0m\n\u001b[1;32m--> 223\u001b[1;33m             \u001b[0mself\u001b[0m\u001b[1;33m.\u001b[0m\u001b[0m_train_epoch\u001b[0m\u001b[1;33m(\u001b[0m\u001b[0mtrain_dataloader\u001b[0m\u001b[1;33m)\u001b[0m\u001b[1;33m\u001b[0m\u001b[1;33m\u001b[0m\u001b[0m\n\u001b[0m\u001b[0;32m    224\u001b[0m \u001b[1;33m\u001b[0m\u001b[0m\n\u001b[0;32m    225\u001b[0m             \u001b[1;31m# Apply predict epoch to all eval sets\u001b[0m\u001b[1;33m\u001b[0m\u001b[1;33m\u001b[0m\u001b[1;33m\u001b[0m\u001b[0m\n",
      "\u001b[1;32m~\\anaconda3\\lib\\site-packages\\pytorch_tabnet\\abstract_model.py\u001b[0m in \u001b[0;36m_train_epoch\u001b[1;34m(self, train_loader)\u001b[0m\n\u001b[0;32m    429\u001b[0m         \u001b[0mself\u001b[0m\u001b[1;33m.\u001b[0m\u001b[0mnetwork\u001b[0m\u001b[1;33m.\u001b[0m\u001b[0mtrain\u001b[0m\u001b[1;33m(\u001b[0m\u001b[1;33m)\u001b[0m\u001b[1;33m\u001b[0m\u001b[1;33m\u001b[0m\u001b[0m\n\u001b[0;32m    430\u001b[0m \u001b[1;33m\u001b[0m\u001b[0m\n\u001b[1;32m--> 431\u001b[1;33m         \u001b[1;32mfor\u001b[0m \u001b[0mbatch_idx\u001b[0m\u001b[1;33m,\u001b[0m \u001b[1;33m(\u001b[0m\u001b[0mX\u001b[0m\u001b[1;33m,\u001b[0m \u001b[0my\u001b[0m\u001b[1;33m)\u001b[0m \u001b[1;32min\u001b[0m \u001b[0menumerate\u001b[0m\u001b[1;33m(\u001b[0m\u001b[0mtrain_loader\u001b[0m\u001b[1;33m)\u001b[0m\u001b[1;33m:\u001b[0m\u001b[1;33m\u001b[0m\u001b[1;33m\u001b[0m\u001b[0m\n\u001b[0m\u001b[0;32m    432\u001b[0m             \u001b[0mself\u001b[0m\u001b[1;33m.\u001b[0m\u001b[0m_callback_container\u001b[0m\u001b[1;33m.\u001b[0m\u001b[0mon_batch_begin\u001b[0m\u001b[1;33m(\u001b[0m\u001b[0mbatch_idx\u001b[0m\u001b[1;33m)\u001b[0m\u001b[1;33m\u001b[0m\u001b[1;33m\u001b[0m\u001b[0m\n\u001b[0;32m    433\u001b[0m \u001b[1;33m\u001b[0m\u001b[0m\n",
      "\u001b[1;32m~\\anaconda3\\lib\\site-packages\\torch\\utils\\data\\dataloader.py\u001b[0m in \u001b[0;36m__next__\u001b[1;34m(self)\u001b[0m\n\u001b[0;32m    519\u001b[0m             \u001b[1;32mif\u001b[0m \u001b[0mself\u001b[0m\u001b[1;33m.\u001b[0m\u001b[0m_sampler_iter\u001b[0m \u001b[1;32mis\u001b[0m \u001b[1;32mNone\u001b[0m\u001b[1;33m:\u001b[0m\u001b[1;33m\u001b[0m\u001b[1;33m\u001b[0m\u001b[0m\n\u001b[0;32m    520\u001b[0m                 \u001b[0mself\u001b[0m\u001b[1;33m.\u001b[0m\u001b[0m_reset\u001b[0m\u001b[1;33m(\u001b[0m\u001b[1;33m)\u001b[0m\u001b[1;33m\u001b[0m\u001b[1;33m\u001b[0m\u001b[0m\n\u001b[1;32m--> 521\u001b[1;33m             \u001b[0mdata\u001b[0m \u001b[1;33m=\u001b[0m \u001b[0mself\u001b[0m\u001b[1;33m.\u001b[0m\u001b[0m_next_data\u001b[0m\u001b[1;33m(\u001b[0m\u001b[1;33m)\u001b[0m\u001b[1;33m\u001b[0m\u001b[1;33m\u001b[0m\u001b[0m\n\u001b[0m\u001b[0;32m    522\u001b[0m             \u001b[0mself\u001b[0m\u001b[1;33m.\u001b[0m\u001b[0m_num_yielded\u001b[0m \u001b[1;33m+=\u001b[0m \u001b[1;36m1\u001b[0m\u001b[1;33m\u001b[0m\u001b[1;33m\u001b[0m\u001b[0m\n\u001b[0;32m    523\u001b[0m             \u001b[1;32mif\u001b[0m \u001b[0mself\u001b[0m\u001b[1;33m.\u001b[0m\u001b[0m_dataset_kind\u001b[0m \u001b[1;33m==\u001b[0m \u001b[0m_DatasetKind\u001b[0m\u001b[1;33m.\u001b[0m\u001b[0mIterable\u001b[0m \u001b[1;32mand\u001b[0m\u001b[0;31m \u001b[0m\u001b[0;31m\\\u001b[0m\u001b[1;33m\u001b[0m\u001b[1;33m\u001b[0m\u001b[0m\n",
      "\u001b[1;32m~\\anaconda3\\lib\\site-packages\\torch\\utils\\data\\dataloader.py\u001b[0m in \u001b[0;36m_next_data\u001b[1;34m(self)\u001b[0m\n\u001b[0;32m    559\u001b[0m     \u001b[1;32mdef\u001b[0m \u001b[0m_next_data\u001b[0m\u001b[1;33m(\u001b[0m\u001b[0mself\u001b[0m\u001b[1;33m)\u001b[0m\u001b[1;33m:\u001b[0m\u001b[1;33m\u001b[0m\u001b[1;33m\u001b[0m\u001b[0m\n\u001b[0;32m    560\u001b[0m         \u001b[0mindex\u001b[0m \u001b[1;33m=\u001b[0m \u001b[0mself\u001b[0m\u001b[1;33m.\u001b[0m\u001b[0m_next_index\u001b[0m\u001b[1;33m(\u001b[0m\u001b[1;33m)\u001b[0m  \u001b[1;31m# may raise StopIteration\u001b[0m\u001b[1;33m\u001b[0m\u001b[1;33m\u001b[0m\u001b[0m\n\u001b[1;32m--> 561\u001b[1;33m         \u001b[0mdata\u001b[0m \u001b[1;33m=\u001b[0m \u001b[0mself\u001b[0m\u001b[1;33m.\u001b[0m\u001b[0m_dataset_fetcher\u001b[0m\u001b[1;33m.\u001b[0m\u001b[0mfetch\u001b[0m\u001b[1;33m(\u001b[0m\u001b[0mindex\u001b[0m\u001b[1;33m)\u001b[0m  \u001b[1;31m# may raise StopIteration\u001b[0m\u001b[1;33m\u001b[0m\u001b[1;33m\u001b[0m\u001b[0m\n\u001b[0m\u001b[0;32m    562\u001b[0m         \u001b[1;32mif\u001b[0m \u001b[0mself\u001b[0m\u001b[1;33m.\u001b[0m\u001b[0m_pin_memory\u001b[0m\u001b[1;33m:\u001b[0m\u001b[1;33m\u001b[0m\u001b[1;33m\u001b[0m\u001b[0m\n\u001b[0;32m    563\u001b[0m             \u001b[0mdata\u001b[0m \u001b[1;33m=\u001b[0m \u001b[0m_utils\u001b[0m\u001b[1;33m.\u001b[0m\u001b[0mpin_memory\u001b[0m\u001b[1;33m.\u001b[0m\u001b[0mpin_memory\u001b[0m\u001b[1;33m(\u001b[0m\u001b[0mdata\u001b[0m\u001b[1;33m)\u001b[0m\u001b[1;33m\u001b[0m\u001b[1;33m\u001b[0m\u001b[0m\n",
      "\u001b[1;32m~\\anaconda3\\lib\\site-packages\\torch\\utils\\data\\_utils\\fetch.py\u001b[0m in \u001b[0;36mfetch\u001b[1;34m(self, possibly_batched_index)\u001b[0m\n\u001b[0;32m     42\u001b[0m     \u001b[1;32mdef\u001b[0m \u001b[0mfetch\u001b[0m\u001b[1;33m(\u001b[0m\u001b[0mself\u001b[0m\u001b[1;33m,\u001b[0m \u001b[0mpossibly_batched_index\u001b[0m\u001b[1;33m)\u001b[0m\u001b[1;33m:\u001b[0m\u001b[1;33m\u001b[0m\u001b[1;33m\u001b[0m\u001b[0m\n\u001b[0;32m     43\u001b[0m         \u001b[1;32mif\u001b[0m \u001b[0mself\u001b[0m\u001b[1;33m.\u001b[0m\u001b[0mauto_collation\u001b[0m\u001b[1;33m:\u001b[0m\u001b[1;33m\u001b[0m\u001b[1;33m\u001b[0m\u001b[0m\n\u001b[1;32m---> 44\u001b[1;33m             \u001b[0mdata\u001b[0m \u001b[1;33m=\u001b[0m \u001b[1;33m[\u001b[0m\u001b[0mself\u001b[0m\u001b[1;33m.\u001b[0m\u001b[0mdataset\u001b[0m\u001b[1;33m[\u001b[0m\u001b[0midx\u001b[0m\u001b[1;33m]\u001b[0m \u001b[1;32mfor\u001b[0m \u001b[0midx\u001b[0m \u001b[1;32min\u001b[0m \u001b[0mpossibly_batched_index\u001b[0m\u001b[1;33m]\u001b[0m\u001b[1;33m\u001b[0m\u001b[1;33m\u001b[0m\u001b[0m\n\u001b[0m\u001b[0;32m     45\u001b[0m         \u001b[1;32melse\u001b[0m\u001b[1;33m:\u001b[0m\u001b[1;33m\u001b[0m\u001b[1;33m\u001b[0m\u001b[0m\n\u001b[0;32m     46\u001b[0m             \u001b[0mdata\u001b[0m \u001b[1;33m=\u001b[0m \u001b[0mself\u001b[0m\u001b[1;33m.\u001b[0m\u001b[0mdataset\u001b[0m\u001b[1;33m[\u001b[0m\u001b[0mpossibly_batched_index\u001b[0m\u001b[1;33m]\u001b[0m\u001b[1;33m\u001b[0m\u001b[1;33m\u001b[0m\u001b[0m\n",
      "\u001b[1;32m~\\anaconda3\\lib\\site-packages\\torch\\utils\\data\\_utils\\fetch.py\u001b[0m in \u001b[0;36m<listcomp>\u001b[1;34m(.0)\u001b[0m\n\u001b[0;32m     42\u001b[0m     \u001b[1;32mdef\u001b[0m \u001b[0mfetch\u001b[0m\u001b[1;33m(\u001b[0m\u001b[0mself\u001b[0m\u001b[1;33m,\u001b[0m \u001b[0mpossibly_batched_index\u001b[0m\u001b[1;33m)\u001b[0m\u001b[1;33m:\u001b[0m\u001b[1;33m\u001b[0m\u001b[1;33m\u001b[0m\u001b[0m\n\u001b[0;32m     43\u001b[0m         \u001b[1;32mif\u001b[0m \u001b[0mself\u001b[0m\u001b[1;33m.\u001b[0m\u001b[0mauto_collation\u001b[0m\u001b[1;33m:\u001b[0m\u001b[1;33m\u001b[0m\u001b[1;33m\u001b[0m\u001b[0m\n\u001b[1;32m---> 44\u001b[1;33m             \u001b[0mdata\u001b[0m \u001b[1;33m=\u001b[0m \u001b[1;33m[\u001b[0m\u001b[0mself\u001b[0m\u001b[1;33m.\u001b[0m\u001b[0mdataset\u001b[0m\u001b[1;33m[\u001b[0m\u001b[0midx\u001b[0m\u001b[1;33m]\u001b[0m \u001b[1;32mfor\u001b[0m \u001b[0midx\u001b[0m \u001b[1;32min\u001b[0m \u001b[0mpossibly_batched_index\u001b[0m\u001b[1;33m]\u001b[0m\u001b[1;33m\u001b[0m\u001b[1;33m\u001b[0m\u001b[0m\n\u001b[0m\u001b[0;32m     45\u001b[0m         \u001b[1;32melse\u001b[0m\u001b[1;33m:\u001b[0m\u001b[1;33m\u001b[0m\u001b[1;33m\u001b[0m\u001b[0m\n\u001b[0;32m     46\u001b[0m             \u001b[0mdata\u001b[0m \u001b[1;33m=\u001b[0m \u001b[0mself\u001b[0m\u001b[1;33m.\u001b[0m\u001b[0mdataset\u001b[0m\u001b[1;33m[\u001b[0m\u001b[0mpossibly_batched_index\u001b[0m\u001b[1;33m]\u001b[0m\u001b[1;33m\u001b[0m\u001b[1;33m\u001b[0m\u001b[0m\n",
      "\u001b[1;32m~\\anaconda3\\lib\\site-packages\\pytorch_tabnet\\utils.py\u001b[0m in \u001b[0;36m__getitem__\u001b[1;34m(self, index)\u001b[0m\n\u001b[0;32m     28\u001b[0m \u001b[1;33m\u001b[0m\u001b[0m\n\u001b[0;32m     29\u001b[0m     \u001b[1;32mdef\u001b[0m \u001b[0m__getitem__\u001b[0m\u001b[1;33m(\u001b[0m\u001b[0mself\u001b[0m\u001b[1;33m,\u001b[0m \u001b[0mindex\u001b[0m\u001b[1;33m)\u001b[0m\u001b[1;33m:\u001b[0m\u001b[1;33m\u001b[0m\u001b[1;33m\u001b[0m\u001b[0m\n\u001b[1;32m---> 30\u001b[1;33m         \u001b[0mx\u001b[0m\u001b[1;33m,\u001b[0m \u001b[0my\u001b[0m \u001b[1;33m=\u001b[0m \u001b[0mself\u001b[0m\u001b[1;33m.\u001b[0m\u001b[0mx\u001b[0m\u001b[1;33m[\u001b[0m\u001b[0mindex\u001b[0m\u001b[1;33m]\u001b[0m\u001b[1;33m,\u001b[0m \u001b[0mself\u001b[0m\u001b[1;33m.\u001b[0m\u001b[0my\u001b[0m\u001b[1;33m[\u001b[0m\u001b[0mindex\u001b[0m\u001b[1;33m]\u001b[0m\u001b[1;33m\u001b[0m\u001b[1;33m\u001b[0m\u001b[0m\n\u001b[0m\u001b[0;32m     31\u001b[0m         \u001b[1;32mreturn\u001b[0m \u001b[0mx\u001b[0m\u001b[1;33m,\u001b[0m \u001b[0my\u001b[0m\u001b[1;33m\u001b[0m\u001b[1;33m\u001b[0m\u001b[0m\n\u001b[0;32m     32\u001b[0m \u001b[1;33m\u001b[0m\u001b[0m\n",
      "\u001b[1;32m~\\anaconda3\\lib\\site-packages\\pandas\\core\\frame.py\u001b[0m in \u001b[0;36m__getitem__\u001b[1;34m(self, key)\u001b[0m\n\u001b[0;32m   3022\u001b[0m             \u001b[1;32mif\u001b[0m \u001b[0mself\u001b[0m\u001b[1;33m.\u001b[0m\u001b[0mcolumns\u001b[0m\u001b[1;33m.\u001b[0m\u001b[0mnlevels\u001b[0m \u001b[1;33m>\u001b[0m \u001b[1;36m1\u001b[0m\u001b[1;33m:\u001b[0m\u001b[1;33m\u001b[0m\u001b[1;33m\u001b[0m\u001b[0m\n\u001b[0;32m   3023\u001b[0m                 \u001b[1;32mreturn\u001b[0m \u001b[0mself\u001b[0m\u001b[1;33m.\u001b[0m\u001b[0m_getitem_multilevel\u001b[0m\u001b[1;33m(\u001b[0m\u001b[0mkey\u001b[0m\u001b[1;33m)\u001b[0m\u001b[1;33m\u001b[0m\u001b[1;33m\u001b[0m\u001b[0m\n\u001b[1;32m-> 3024\u001b[1;33m             \u001b[0mindexer\u001b[0m \u001b[1;33m=\u001b[0m \u001b[0mself\u001b[0m\u001b[1;33m.\u001b[0m\u001b[0mcolumns\u001b[0m\u001b[1;33m.\u001b[0m\u001b[0mget_loc\u001b[0m\u001b[1;33m(\u001b[0m\u001b[0mkey\u001b[0m\u001b[1;33m)\u001b[0m\u001b[1;33m\u001b[0m\u001b[1;33m\u001b[0m\u001b[0m\n\u001b[0m\u001b[0;32m   3025\u001b[0m             \u001b[1;32mif\u001b[0m \u001b[0mis_integer\u001b[0m\u001b[1;33m(\u001b[0m\u001b[0mindexer\u001b[0m\u001b[1;33m)\u001b[0m\u001b[1;33m:\u001b[0m\u001b[1;33m\u001b[0m\u001b[1;33m\u001b[0m\u001b[0m\n\u001b[0;32m   3026\u001b[0m                 \u001b[0mindexer\u001b[0m \u001b[1;33m=\u001b[0m \u001b[1;33m[\u001b[0m\u001b[0mindexer\u001b[0m\u001b[1;33m]\u001b[0m\u001b[1;33m\u001b[0m\u001b[1;33m\u001b[0m\u001b[0m\n",
      "\u001b[1;32m~\\anaconda3\\lib\\site-packages\\pandas\\core\\indexes\\base.py\u001b[0m in \u001b[0;36mget_loc\u001b[1;34m(self, key, method, tolerance)\u001b[0m\n\u001b[0;32m   3080\u001b[0m                 \u001b[1;32mreturn\u001b[0m \u001b[0mself\u001b[0m\u001b[1;33m.\u001b[0m\u001b[0m_engine\u001b[0m\u001b[1;33m.\u001b[0m\u001b[0mget_loc\u001b[0m\u001b[1;33m(\u001b[0m\u001b[0mcasted_key\u001b[0m\u001b[1;33m)\u001b[0m\u001b[1;33m\u001b[0m\u001b[1;33m\u001b[0m\u001b[0m\n\u001b[0;32m   3081\u001b[0m             \u001b[1;32mexcept\u001b[0m \u001b[0mKeyError\u001b[0m \u001b[1;32mas\u001b[0m \u001b[0merr\u001b[0m\u001b[1;33m:\u001b[0m\u001b[1;33m\u001b[0m\u001b[1;33m\u001b[0m\u001b[0m\n\u001b[1;32m-> 3082\u001b[1;33m                 \u001b[1;32mraise\u001b[0m \u001b[0mKeyError\u001b[0m\u001b[1;33m(\u001b[0m\u001b[0mkey\u001b[0m\u001b[1;33m)\u001b[0m \u001b[1;32mfrom\u001b[0m \u001b[0merr\u001b[0m\u001b[1;33m\u001b[0m\u001b[1;33m\u001b[0m\u001b[0m\n\u001b[0m\u001b[0;32m   3083\u001b[0m \u001b[1;33m\u001b[0m\u001b[0m\n\u001b[0;32m   3084\u001b[0m         \u001b[1;32mif\u001b[0m \u001b[0mtolerance\u001b[0m \u001b[1;32mis\u001b[0m \u001b[1;32mnot\u001b[0m \u001b[1;32mNone\u001b[0m\u001b[1;33m:\u001b[0m\u001b[1;33m\u001b[0m\u001b[1;33m\u001b[0m\u001b[0m\n",
      "\u001b[1;31mKeyError\u001b[0m: 1658"
     ]
    }
   ],
   "source": [
    "max_epochs = 100\n",
    "\n",
    "clf.fit(\n",
    "    X_train=X_train, y_train=y_train,\n",
    "    eval_set=[(X_train, y_train), (X_valid, y_valid)],\n",
    "    eval_name=['train', 'valid'],\n",
    "    eval_metric=['auc'],\n",
    "    max_epochs=max_epochs , patience=20,\n",
    "    batch_size=1024, virtual_batch_size=128,\n",
    "    num_workers=0,\n",
    "    weights=1,\n",
    "    drop_last=False,\n",
    ")"
   ]
  },
  {
   "cell_type": "code",
   "execution_count": 123,
   "metadata": {},
   "outputs": [
    {
     "ename": "NameError",
     "evalue": "name 'X_test' is not defined",
     "output_type": "error",
     "traceback": [
      "\u001b[1;31m---------------------------------------------------------------------------\u001b[0m",
      "\u001b[1;31mNameError\u001b[0m                                 Traceback (most recent call last)",
      "\u001b[1;32m<ipython-input-123-c4f238fcbaab>\u001b[0m in \u001b[0;36m<module>\u001b[1;34m\u001b[0m\n\u001b[1;32m----> 1\u001b[1;33m \u001b[0mprediction\u001b[0m \u001b[1;33m=\u001b[0m \u001b[0mclf\u001b[0m\u001b[1;33m.\u001b[0m\u001b[0mpredict\u001b[0m\u001b[1;33m(\u001b[0m\u001b[0mX_test\u001b[0m\u001b[1;33m)\u001b[0m\u001b[1;33m\u001b[0m\u001b[1;33m\u001b[0m\u001b[0m\n\u001b[0m",
      "\u001b[1;31mNameError\u001b[0m: name 'X_test' is not defined"
     ]
    }
   ],
   "source": [
    "prediction = clf.predict(X_test)"
   ]
  },
  {
   "cell_type": "code",
   "execution_count": null,
   "metadata": {},
   "outputs": [],
   "source": []
  },
  {
   "cell_type": "code",
   "execution_count": null,
   "metadata": {},
   "outputs": [],
   "source": []
  },
  {
   "cell_type": "code",
   "execution_count": null,
   "metadata": {},
   "outputs": [],
   "source": []
  },
  {
   "cell_type": "code",
   "execution_count": null,
   "metadata": {},
   "outputs": [],
   "source": []
  },
  {
   "cell_type": "code",
   "execution_count": null,
   "metadata": {},
   "outputs": [],
   "source": []
  },
  {
   "cell_type": "markdown",
   "metadata": {},
   "source": [
    "## submission"
   ]
  },
  {
   "cell_type": "code",
   "execution_count": 251,
   "metadata": {},
   "outputs": [],
   "source": [
    "submission['pred'] = cb_pred"
   ]
  },
  {
   "cell_type": "code",
   "execution_count": 252,
   "metadata": {},
   "outputs": [],
   "source": [
    "#submission['pred'] = submission['pred'].apply(lambda x : 1 if x >= 0.5 else 0)"
   ]
  },
  {
   "cell_type": "code",
   "execution_count": 253,
   "metadata": {},
   "outputs": [],
   "source": [
    "#submission['pred'].value_counts()"
   ]
  },
  {
   "cell_type": "code",
   "execution_count": 254,
   "metadata": {
    "scrolled": true
   },
   "outputs": [
    {
     "data": {
      "text/html": [
       "<div>\n",
       "<style scoped>\n",
       "    .dataframe tbody tr th:only-of-type {\n",
       "        vertical-align: middle;\n",
       "    }\n",
       "\n",
       "    .dataframe tbody tr th {\n",
       "        vertical-align: top;\n",
       "    }\n",
       "\n",
       "    .dataframe thead th {\n",
       "        text-align: right;\n",
       "    }\n",
       "</style>\n",
       "<table border=\"1\" class=\"dataframe\">\n",
       "  <thead>\n",
       "    <tr style=\"text-align: right;\">\n",
       "      <th></th>\n",
       "      <th>pred</th>\n",
       "    </tr>\n",
       "    <tr>\n",
       "      <th>SEQ</th>\n",
       "      <th></th>\n",
       "    </tr>\n",
       "  </thead>\n",
       "  <tbody>\n",
       "    <tr>\n",
       "      <th>T54370</th>\n",
       "      <td>0.000109</td>\n",
       "    </tr>\n",
       "    <tr>\n",
       "      <th>T47892</th>\n",
       "      <td>0.370875</td>\n",
       "    </tr>\n",
       "    <tr>\n",
       "      <th>T56637</th>\n",
       "      <td>0.149390</td>\n",
       "    </tr>\n",
       "    <tr>\n",
       "      <th>T45487</th>\n",
       "      <td>0.007280</td>\n",
       "    </tr>\n",
       "    <tr>\n",
       "      <th>T41995</th>\n",
       "      <td>0.011978</td>\n",
       "    </tr>\n",
       "    <tr>\n",
       "      <th>...</th>\n",
       "      <td>...</td>\n",
       "    </tr>\n",
       "    <tr>\n",
       "      <th>T31589</th>\n",
       "      <td>0.067979</td>\n",
       "    </tr>\n",
       "    <tr>\n",
       "      <th>T36236</th>\n",
       "      <td>0.001207</td>\n",
       "    </tr>\n",
       "    <tr>\n",
       "      <th>T34729</th>\n",
       "      <td>0.419946</td>\n",
       "    </tr>\n",
       "    <tr>\n",
       "      <th>T53830</th>\n",
       "      <td>0.001486</td>\n",
       "    </tr>\n",
       "    <tr>\n",
       "      <th>T30681</th>\n",
       "      <td>0.600763</td>\n",
       "    </tr>\n",
       "  </tbody>\n",
       "</table>\n",
       "<p>4244 rows × 1 columns</p>\n",
       "</div>"
      ],
      "text/plain": [
       "            pred\n",
       "SEQ             \n",
       "T54370  0.000109\n",
       "T47892  0.370875\n",
       "T56637  0.149390\n",
       "T45487  0.007280\n",
       "T41995  0.011978\n",
       "...          ...\n",
       "T31589  0.067979\n",
       "T36236  0.001207\n",
       "T34729  0.419946\n",
       "T53830  0.001486\n",
       "T30681  0.600763\n",
       "\n",
       "[4244 rows x 1 columns]"
      ]
     },
     "execution_count": 254,
     "metadata": {},
     "output_type": "execute_result"
    }
   ],
   "source": [
    "submission = submission.set_index('SEQ')\n",
    "submission"
   ]
  },
  {
   "cell_type": "code",
   "execution_count": 255,
   "metadata": {},
   "outputs": [],
   "source": [
    "submission.to_csv('submission/1119_cat_gr_ft_5fold_pyeong.csv')"
   ]
  },
  {
   "cell_type": "code",
   "execution_count": null,
   "metadata": {},
   "outputs": [],
   "source": []
  },
  {
   "cell_type": "code",
   "execution_count": null,
   "metadata": {},
   "outputs": [],
   "source": []
  }
 ],
 "metadata": {
  "kernelspec": {
   "display_name": "Python 3",
   "language": "python",
   "name": "python3"
  },
  "language_info": {
   "codemirror_mode": {
    "name": "ipython",
    "version": 3
   },
   "file_extension": ".py",
   "mimetype": "text/x-python",
   "name": "python",
   "nbconvert_exporter": "python",
   "pygments_lexer": "ipython3",
   "version": "3.8.5"
  },
  "varInspector": {
   "cols": {
    "lenName": 16,
    "lenType": 16,
    "lenVar": 40
   },
   "kernels_config": {
    "python": {
     "delete_cmd_postfix": "",
     "delete_cmd_prefix": "del ",
     "library": "var_list.py",
     "varRefreshCmd": "print(var_dic_list())"
    },
    "r": {
     "delete_cmd_postfix": ") ",
     "delete_cmd_prefix": "rm(",
     "library": "var_list.r",
     "varRefreshCmd": "cat(var_dic_list()) "
    }
   },
   "types_to_exclude": [
    "module",
    "function",
    "builtin_function_or_method",
    "instance",
    "_Feature"
   ],
   "window_display": false
  }
 },
 "nbformat": 4,
 "nbformat_minor": 4
}
