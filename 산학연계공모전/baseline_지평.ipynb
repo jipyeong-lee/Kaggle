{
 "cells": [
  {
   "cell_type": "code",
   "execution_count": 1,
   "metadata": {},
   "outputs": [],
   "source": [
    "import pandas as pd\n",
    "import numpy as np\n",
    "import matplotlib.pyplot as plt\n",
    "import seaborn as sns\n",
    "import lightgbm as lgb\n",
    "from xgboost import XGBRegressor\n",
    "from statsmodels.tsa.seasonal import seasonal_decompose\n",
    "from datetime import datetime, timedelta\n",
    "\n",
    "import os \n",
    "from tqdm import tqdm\n",
    "import warnings \n",
    "warnings.filterwarnings(action='ignore')\n",
    "pd.options.display.max_columns = None\n",
    "\n",
    "# 한글 폰트 설정\n",
    "from statsmodels import robust\n",
    "from matplotlib import font_manager, rc\n",
    "%matplotlib inline\n",
    "\n",
    "import platform\n",
    "your_os = platform.system()\n",
    "if your_os == 'Linux':\n",
    "    rc('font', family='NanumGothic')\n",
    "elif your_os == 'Windows':\n",
    "    ttf = \"c:/Windows/Fonts/malgun.ttf\"\n",
    "    font_name = font_manager.FontProperties(fname=ttf).get_name()\n",
    "    rc('font', family=font_name)\n",
    "elif your_os == 'Darwin':\n",
    "    rc('font', family='AppleGothic')\n",
    "rc('axes', unicode_minus=False)"
   ]
  },
  {
   "cell_type": "code",
   "execution_count": 2,
   "metadata": {},
   "outputs": [],
   "source": [
    "# 데이터 불러오기\n",
    "train = pd.read_csv('data/trainset.csv')\n",
    "test = pd.read_csv('data/testset.csv')\n",
    "\n",
    "# susbmssion\n",
    "submission = pd.read_csv('data/sample_submission.csv')"
   ]
  },
  {
   "cell_type": "code",
   "execution_count": 3,
   "metadata": {},
   "outputs": [
    {
     "data": {
      "text/plain": [
       "((23009, 33), (5754, 32), (5754, 2))"
      ]
     },
     "execution_count": 3,
     "metadata": {},
     "output_type": "execute_result"
    }
   ],
   "source": [
    "train.shape, test.shape, submission.shape"
   ]
  },
  {
   "cell_type": "markdown",
   "metadata": {},
   "source": [
    "## EDA"
   ]
  },
  {
   "cell_type": "code",
   "execution_count": 4,
   "metadata": {},
   "outputs": [
    {
     "name": "stdout",
     "output_type": "stream",
     "text": [
      "<class 'pandas.core.frame.DataFrame'>\n",
      "RangeIndex: 23009 entries, 0 to 23008\n",
      "Data columns (total 33 columns):\n",
      " #   Column      Non-Null Count  Dtype  \n",
      "---  ------      --------------  -----  \n",
      " 0   SEQ         23009 non-null  object \n",
      " 1   접수일         23009 non-null  object \n",
      " 2   접수시각        3113 non-null   object \n",
      " 3   장기서비스여부     23009 non-null  int64  \n",
      " 4   최초서비스일      23009 non-null  object \n",
      " 5   전체회차        23009 non-null  int64  \n",
      " 6   현재회차        23009 non-null  int64  \n",
      " 7   서비스일자       23009 non-null  object \n",
      " 8   서비스시작시간     23009 non-null  object \n",
      " 9   서비스종료시간     23009 non-null  object \n",
      " 10  기존고객여부      23009 non-null  int64  \n",
      " 11  결재형태        23009 non-null  object \n",
      " 12  서비스주소       23009 non-null  object \n",
      " 13  주거형태        23009 non-null  object \n",
      " 14  평수          13856 non-null  object \n",
      " 15  고객가입일       23009 non-null  object \n",
      " 16  반려동물        20234 non-null  object \n",
      " 17  부재중여부       13856 non-null  float64\n",
      " 18  우선청소        10979 non-null  object \n",
      " 19  쿠폰사용여부      23009 non-null  int64  \n",
      " 20  매니저생년월일     23009 non-null  object \n",
      " 21  매니저최초가입일    23009 non-null  object \n",
      " 22  매니저최초서비스일   23009 non-null  object \n",
      " 23  매니저성별       23009 non-null  int64  \n",
      " 24  매니저사용휴대폰    20210 non-null  object \n",
      " 25  매니저주소       23009 non-null  object \n",
      " 26  매니저이동방법     22759 non-null  object \n",
      " 27  근무가능지역      23009 non-null  object \n",
      " 28  CS교육이수여부    20210 non-null  float64\n",
      " 29  청소교육이수여부    20210 non-null  float64\n",
      " 30  부재중서비스가능여부  23009 non-null  int64  \n",
      " 31  추천인여부       23009 non-null  int64  \n",
      " 32  매칭성공여부      23009 non-null  int64  \n",
      "dtypes: float64(3), int64(9), object(21)\n",
      "memory usage: 5.8+ MB\n"
     ]
    }
   ],
   "source": [
    "train.info()"
   ]
  },
  {
   "cell_type": "code",
   "execution_count": 5,
   "metadata": {},
   "outputs": [
    {
     "data": {
      "text/plain": [
       "Index(['SEQ', '접수일', '접수시각', '장기서비스여부', '최초서비스일', '전체회차', '현재회차', '서비스일자',\n",
       "       '서비스시작시간', '서비스종료시간', '기존고객여부', '결재형태', '서비스주소', '주거형태', '평수', '고객ID',\n",
       "       '고객가입일', '반려동물', '부재중여부', '우선청소', '쿠폰사용여부', '매니저생년월일', '매니저ID',\n",
       "       '매니저최초가입일', '매니저최초서비스일', '매니저성별', '매니저사용휴대폰', '매니저주소', '매니저이동방법',\n",
       "       '근무가능지역', 'CS교육이수여부', '청소교육이수여부', '부재중서비스가능여부', '추천인여부', '매칭성공여부'],\n",
       "      dtype='object')"
      ]
     },
     "execution_count": 5,
     "metadata": {},
     "output_type": "execute_result"
    }
   ],
   "source": [
    "train.columns"
   ]
  },
  {
   "cell_type": "code",
   "execution_count": 6,
   "metadata": {},
   "outputs": [
    {
     "data": {
      "text/plain": [
       "0    0.904472\n",
       "1    0.095528\n",
       "Name: 매칭성공여부, dtype: float64"
      ]
     },
     "execution_count": 6,
     "metadata": {},
     "output_type": "execute_result"
    }
   ],
   "source": [
    "# 데이터 불균형 심함 -> 오버샘플링(SMOTE) or 언더샘플링 고려\n",
    "train['매칭성공여부'].value_counts() / train['매칭성공여부'].count()"
   ]
  },
  {
   "cell_type": "code",
   "execution_count": 7,
   "metadata": {},
   "outputs": [
    {
     "data": {
      "text/plain": [
       "4     0.638315\n",
       "1     0.099222\n",
       "10    0.063280\n",
       "8     0.060715\n",
       "5     0.035899\n",
       "9     0.033813\n",
       "6     0.025773\n",
       "7     0.024599\n",
       "2     0.010865\n",
       "3     0.006910\n",
       "30    0.000608\n",
       "Name: 전체회차, dtype: float64"
      ]
     },
     "execution_count": 7,
     "metadata": {},
     "output_type": "execute_result"
    }
   ],
   "source": [
    "# 결제횟수\n",
    "# 64% -> 4회 결제(이벤트가 있나?)\n",
    "# 10% -> 1회 결제(단순호기심?)\n",
    "train['전체회차'].value_counts() / train['전체회차'].count()"
   ]
  },
  {
   "cell_type": "code",
   "execution_count": 8,
   "metadata": {},
   "outputs": [
    {
     "data": {
      "text/plain": [
       "265"
      ]
     },
     "execution_count": 8,
     "metadata": {},
     "output_type": "execute_result"
    }
   ],
   "source": [
    "# 주어진 기간동안 결제한 만큼을 다 사용한 고객\n",
    "train[train['전체회차'] == train['현재회차']]['고객ID'].nunique()"
   ]
  },
  {
   "cell_type": "code",
   "execution_count": 9,
   "metadata": {},
   "outputs": [
    {
     "name": "stdout",
     "output_type": "stream",
     "text": [
      "train 기간 : 2019-04-09 ~ 2021-10-06\n",
      "test 기간 : 2019-04-09 ~ 2021-10-06\n"
     ]
    }
   ],
   "source": [
    "# train과 test의 기간이 같음 -> train-valid 느낌\n",
    "print('train 기간 :', train['서비스일자'].min(), '~', train['서비스일자'].max())\n",
    "print('test 기간 :', test['서비스일자'].min(), '~', test['서비스일자'].max())"
   ]
  },
  {
   "cell_type": "code",
   "execution_count": 10,
   "metadata": {},
   "outputs": [
    {
     "data": {
      "text/plain": [
       "1    20084\n",
       "0     2925\n",
       "Name: 기존고객여부, dtype: int64"
      ]
     },
     "execution_count": 10,
     "metadata": {},
     "output_type": "execute_result"
    }
   ],
   "source": [
    "# 기존고객이 사용하는 경우가 대부분\n",
    "train['기존고객여부'].value_counts()"
   ]
  },
  {
   "cell_type": "code",
   "execution_count": 11,
   "metadata": {},
   "outputs": [
    {
     "data": {
      "text/plain": [
       "신용카드     15428\n",
       "무통장입금     5961\n",
       "가상계좌      1609\n",
       "미수          11\n",
       "Name: 결재형태, dtype: int64"
      ]
     },
     "execution_count": 11,
     "metadata": {},
     "output_type": "execute_result"
    }
   ],
   "source": [
    "train['결재형태'].value_counts()"
   ]
  },
  {
   "cell_type": "code",
   "execution_count": 12,
   "metadata": {},
   "outputs": [
    {
     "data": {
      "text/plain": [
       "충남 천안시    12554\n",
       "충남 아산시     3420\n",
       "강원 원주시     2491\n",
       "서울 용산구      389\n",
       "광주 서구       338\n",
       "Name: 서비스주소, dtype: int64"
      ]
     },
     "execution_count": 12,
     "metadata": {},
     "output_type": "execute_result"
    }
   ],
   "source": [
    "train['서비스주소'].value_counts().head()"
   ]
  },
  {
   "cell_type": "code",
   "execution_count": 13,
   "metadata": {},
   "outputs": [
    {
     "data": {
      "text/plain": [
       "일반주택       19655\n",
       "오피스텔/원룸     3354\n",
       "Name: 주거형태, dtype: int64"
      ]
     },
     "execution_count": 13,
     "metadata": {},
     "output_type": "execute_result"
    }
   ],
   "source": [
    "train['주거형태'].value_counts()"
   ]
  },
  {
   "cell_type": "code",
   "execution_count": 14,
   "metadata": {},
   "outputs": [
    {
     "data": {
      "text/plain": [
       "40평대이상    5831\n",
       "30평대      5357\n",
       "20평대      1772\n",
       "10평대       896\n",
       "Name: 평수, dtype: int64"
      ]
     },
     "execution_count": 14,
     "metadata": {},
     "output_type": "execute_result"
    }
   ],
   "source": [
    "train['평수'].value_counts()"
   ]
  },
  {
   "cell_type": "code",
   "execution_count": 15,
   "metadata": {},
   "outputs": [],
   "source": [
    "feature = pd.concat([train, test])"
   ]
  },
  {
   "cell_type": "code",
   "execution_count": 16,
   "metadata": {},
   "outputs": [
    {
     "data": {
      "text/plain": [
       "0.0    20811\n",
       "1.0     2198\n",
       "Name: 매칭성공여부, dtype: int64"
      ]
     },
     "execution_count": 16,
     "metadata": {},
     "output_type": "execute_result"
    }
   ],
   "source": [
    "feature['매칭성공여부'].value_counts()"
   ]
  },
  {
   "cell_type": "code",
   "execution_count": 17,
   "metadata": {},
   "outputs": [
    {
     "data": {
      "text/plain": [
       "1    25130\n",
       "0     3633\n",
       "Name: 기존고객여부, dtype: int64"
      ]
     },
     "execution_count": 17,
     "metadata": {},
     "output_type": "execute_result"
    }
   ],
   "source": [
    "feature['기존고객여부'].value_counts()"
   ]
  },
  {
   "cell_type": "code",
   "execution_count": 18,
   "metadata": {},
   "outputs": [
    {
     "data": {
      "text/plain": [
       "신용카드     19322\n",
       "무통장입금     7426\n",
       "가상계좌      2002\n",
       "미수          13\n",
       "Name: 결재형태, dtype: int64"
      ]
     },
     "execution_count": 18,
     "metadata": {},
     "output_type": "execute_result"
    }
   ],
   "source": [
    "feature['결재형태'].value_counts()"
   ]
  },
  {
   "cell_type": "code",
   "execution_count": 19,
   "metadata": {},
   "outputs": [
    {
     "data": {
      "text/plain": [
       "충남 천안시    15628\n",
       "충남 아산시     4366\n",
       "강원 원주시     3075\n",
       "서울 용산구      491\n",
       "광주 서구       424\n",
       "Name: 서비스주소, dtype: int64"
      ]
     },
     "execution_count": 19,
     "metadata": {},
     "output_type": "execute_result"
    }
   ],
   "source": [
    "feature['서비스주소'].value_counts().head()"
   ]
  },
  {
   "cell_type": "code",
   "execution_count": 20,
   "metadata": {},
   "outputs": [],
   "source": [
    "# train과 test의 구성이 매우 유사하다고 볼 수 있음"
   ]
  },
  {
   "cell_type": "markdown",
   "metadata": {},
   "source": [
    "## 기본 전처리 및 feature 생성"
   ]
  },
  {
   "cell_type": "code",
   "execution_count": 21,
   "metadata": {},
   "outputs": [],
   "source": [
    "# 기본 처리"
   ]
  },
  {
   "cell_type": "code",
   "execution_count": 21,
   "metadata": {},
   "outputs": [],
   "source": [
    "# 날짜 처리\n",
    "train['접수일'] = pd.to_datetime(train['접수일'])\n",
    "train['최초서비스일'] = pd.to_datetime(train['최초서비스일'])\n",
    "train['서비스일자'] = pd.to_datetime(train['서비스일자'])\n",
    "\n",
    "# 시간 처리\n",
    "train['서비스시작시간'] = pd.to_datetime(train['서비스시작시간'], format='%H:%M:%S')\n",
    "train['서비스종료시간'] = pd.to_datetime(train['서비스종료시간'], format='%H:%M:%S')\n",
    "\n",
    "train['서비스소요시간'] = train['서비스종료시간'] - train['서비스시작시간']\n",
    "train['접수후걸린시일'] = train['최초서비스일'] - train['접수일']\n",
    "train['회차사용비율'] = train['현재회차'] / train['전체회차']"
   ]
  },
  {
   "cell_type": "code",
   "execution_count": 22,
   "metadata": {},
   "outputs": [],
   "source": [
    "# 날짜 처리\n",
    "test['접수일'] = pd.to_datetime(test['접수일'])\n",
    "test['최초서비스일'] = pd.to_datetime(test['최초서비스일'])\n",
    "test['서비스일자'] = pd.to_datetime(test['서비스일자'])\n",
    "\n",
    "# 시간 처리\n",
    "test['서비스시작시간'] = pd.to_datetime(test['서비스시작시간'], format='%H:%M:%S')\n",
    "test['서비스종료시간'] = pd.to_datetime(test['서비스종료시간'], format='%H:%M:%S')\n",
    "\n",
    "test['서비스소요시간'] = test['서비스종료시간'] - test['서비스시작시간']\n",
    "test['접수후걸린시일'] = test['최초서비스일'] - test['접수일']\n",
    "test['회차사용비율'] = test['현재회차'] / test['전체회차']"
   ]
  },
  {
   "cell_type": "code",
   "execution_count": 23,
   "metadata": {},
   "outputs": [
    {
     "data": {
      "text/html": [
       "<div>\n",
       "<style scoped>\n",
       "    .dataframe tbody tr th:only-of-type {\n",
       "        vertical-align: middle;\n",
       "    }\n",
       "\n",
       "    .dataframe tbody tr th {\n",
       "        vertical-align: top;\n",
       "    }\n",
       "\n",
       "    .dataframe thead th {\n",
       "        text-align: right;\n",
       "    }\n",
       "</style>\n",
       "<table border=\"1\" class=\"dataframe\">\n",
       "  <thead>\n",
       "    <tr style=\"text-align: right;\">\n",
       "      <th></th>\n",
       "      <th>서비스소요시간</th>\n",
       "      <th>접수후걸린시일</th>\n",
       "      <th>회차사용비율</th>\n",
       "    </tr>\n",
       "  </thead>\n",
       "  <tbody>\n",
       "    <tr>\n",
       "      <th>count</th>\n",
       "      <td>23009</td>\n",
       "      <td>23009</td>\n",
       "      <td>23009.000000</td>\n",
       "    </tr>\n",
       "    <tr>\n",
       "      <th>mean</th>\n",
       "      <td>0 days 03:56:28.308922595</td>\n",
       "      <td>7 days 17:20:23.990612369</td>\n",
       "      <td>0.540951</td>\n",
       "    </tr>\n",
       "    <tr>\n",
       "      <th>std</th>\n",
       "      <td>0 days 00:43:59.172904291</td>\n",
       "      <td>6 days 08:25:44.391509399</td>\n",
       "      <td>0.284242</td>\n",
       "    </tr>\n",
       "    <tr>\n",
       "      <th>min</th>\n",
       "      <td>0 days 02:00:00</td>\n",
       "      <td>-4 days +00:00:00</td>\n",
       "      <td>0.033333</td>\n",
       "    </tr>\n",
       "    <tr>\n",
       "      <th>25%</th>\n",
       "      <td>0 days 04:00:00</td>\n",
       "      <td>4 days 00:00:00</td>\n",
       "      <td>0.250000</td>\n",
       "    </tr>\n",
       "    <tr>\n",
       "      <th>50%</th>\n",
       "      <td>0 days 04:00:00</td>\n",
       "      <td>7 days 00:00:00</td>\n",
       "      <td>0.500000</td>\n",
       "    </tr>\n",
       "    <tr>\n",
       "      <th>75%</th>\n",
       "      <td>0 days 04:00:00</td>\n",
       "      <td>8 days 00:00:00</td>\n",
       "      <td>0.750000</td>\n",
       "    </tr>\n",
       "    <tr>\n",
       "      <th>max</th>\n",
       "      <td>0 days 09:00:00</td>\n",
       "      <td>70 days 00:00:00</td>\n",
       "      <td>1.000000</td>\n",
       "    </tr>\n",
       "  </tbody>\n",
       "</table>\n",
       "</div>"
      ],
      "text/plain": [
       "                         서비스소요시간                    접수후걸린시일        회차사용비율\n",
       "count                      23009                      23009  23009.000000\n",
       "mean   0 days 03:56:28.308922595  7 days 17:20:23.990612369      0.540951\n",
       "std    0 days 00:43:59.172904291  6 days 08:25:44.391509399      0.284242\n",
       "min              0 days 02:00:00          -4 days +00:00:00      0.033333\n",
       "25%              0 days 04:00:00            4 days 00:00:00      0.250000\n",
       "50%              0 days 04:00:00            7 days 00:00:00      0.500000\n",
       "75%              0 days 04:00:00            8 days 00:00:00      0.750000\n",
       "max              0 days 09:00:00           70 days 00:00:00      1.000000"
      ]
     },
     "execution_count": 23,
     "metadata": {},
     "output_type": "execute_result"
    }
   ],
   "source": [
    "train[['서비스소요시간', '접수후걸린시일', '회차사용비율']].describe()"
   ]
  },
  {
   "cell_type": "code",
   "execution_count": 24,
   "metadata": {},
   "outputs": [
    {
     "data": {
      "text/plain": [
       "0    204\n",
       "1     24\n",
       "Name: 매칭성공여부, dtype: int64"
      ]
     },
     "execution_count": 24,
     "metadata": {},
     "output_type": "execute_result"
    }
   ],
   "source": [
    "# 좀 너무한데..?\n",
    "train[train['서비스소요시간'] == '0 days 09:00:00']['매칭성공여부'].value_counts()"
   ]
  },
  {
   "cell_type": "markdown",
   "metadata": {},
   "source": [
    "### mean_encoding"
   ]
  },
  {
   "cell_type": "code",
   "execution_count": 25,
   "metadata": {},
   "outputs": [
    {
     "data": {
      "text/plain": [
       "(23009, 38)"
      ]
     },
     "execution_count": 25,
     "metadata": {},
     "output_type": "execute_result"
    }
   ],
   "source": [
    "train.shape"
   ]
  },
  {
   "cell_type": "code",
   "execution_count": 26,
   "metadata": {},
   "outputs": [],
   "source": [
    "# 전체회차 mean_encoding\n",
    "mean = train['매칭성공여부'].mean()\n",
    "agg = train.groupby('전체회차')['매칭성공여부'].agg(['count', 'mean'])\n",
    "counts = agg['count']\n",
    "means = agg['mean']\n",
    "weight = 80\n",
    "smooth = (counts*means+weight*mean) / (counts+weight)\n",
    "train['전체회차_mean'] = train['전체회차'].map(smooth)\n",
    "test['전체회차_mean'] = test['전체회차'].map(smooth)"
   ]
  },
  {
   "cell_type": "code",
   "execution_count": 27,
   "metadata": {},
   "outputs": [],
   "source": [
    "# 결제형태 mean_encoding\n",
    "mean = train['매칭성공여부'].mean()\n",
    "agg = train.groupby('결재형태')['매칭성공여부'].agg(['count', 'mean'])\n",
    "counts = agg['count']\n",
    "means = agg['mean']\n",
    "weight = 80\n",
    "smooth = (counts*means+weight*mean) / (counts+weight)\n",
    "train['결제형태_mean'] = train['결재형태'].map(smooth)\n",
    "test['결제형태_mean'] = test['결재형태'].map(smooth)"
   ]
  },
  {
   "cell_type": "code",
   "execution_count": 28,
   "metadata": {},
   "outputs": [],
   "source": [
    "# 서비스주소 mean_encoding\n",
    "mean = train['매칭성공여부'].mean()\n",
    "agg = train.groupby('서비스주소')['매칭성공여부'].agg(['count', 'mean'])\n",
    "counts = agg['count']\n",
    "means = agg['mean']\n",
    "weight = 80\n",
    "smooth = (counts*means+weight*mean) / (counts+weight)\n",
    "train['서비스주소_mean'] = train['서비스주소'].map(smooth)\n",
    "test['서비스주소_mean'] = test['서비스주소'].map(smooth)"
   ]
  },
  {
   "cell_type": "code",
   "execution_count": 29,
   "metadata": {},
   "outputs": [],
   "source": [
    "# 주거형태 mean_encoding\n",
    "mean = train['매칭성공여부'].mean()\n",
    "agg = train.groupby('주거형태')['매칭성공여부'].agg(['count', 'mean'])\n",
    "counts = agg['count']\n",
    "means = agg['mean']\n",
    "weight = 80\n",
    "smooth = (counts*means+weight*mean) / (counts+weight)\n",
    "train['주거형태_mean'] = train['주거형태'].map(smooth)\n",
    "test['주거형태_mean'] = test['주거형태'].map(smooth)"
   ]
  },
  {
   "cell_type": "code",
   "execution_count": 30,
   "metadata": {},
   "outputs": [],
   "source": [
    "# 매니저사용휴대폰 mean_encoding\n",
    "mean = train['매칭성공여부'].mean()\n",
    "agg = train.groupby('매니저사용휴대폰')['매칭성공여부'].agg(['count', 'mean'])\n",
    "counts = agg['count']\n",
    "means = agg['mean']\n",
    "weight = 80\n",
    "smooth = (counts*means+weight*mean) / (counts+weight)\n",
    "train['매니저사용휴대폰_mean'] = train['매니저사용휴대폰'].map(smooth)\n",
    "test['매니저사용휴대폰_mean'] = test['매니저사용휴대폰'].map(smooth)"
   ]
  },
  {
   "cell_type": "code",
   "execution_count": 31,
   "metadata": {},
   "outputs": [],
   "source": [
    "# 매니저주소 mean_encoding\n",
    "mean = train['매칭성공여부'].mean()\n",
    "agg = train.groupby('매니저주소')['매칭성공여부'].agg(['count', 'mean'])\n",
    "counts = agg['count']\n",
    "means = agg['mean']\n",
    "weight = 80\n",
    "smooth = (counts*means+weight*mean) / (counts+weight)\n",
    "train['매니저주소_mean'] = train['매니저주소'].map(smooth)\n",
    "test['매니저주소_mean'] = test['매니저주소'].map(smooth)"
   ]
  },
  {
   "cell_type": "code",
   "execution_count": 32,
   "metadata": {},
   "outputs": [],
   "source": [
    "# 매니저이동방법 mean_encoding\n",
    "mean = train['매칭성공여부'].mean()\n",
    "agg = train.groupby('매니저이동방법')['매칭성공여부'].agg(['count', 'mean'])\n",
    "counts = agg['count']\n",
    "means = agg['mean']\n",
    "weight = 80\n",
    "smooth = (counts*means+weight*mean) / (counts+weight)\n",
    "train['매니저이동방법_mean'] = train['매니저이동방법'].map(smooth)\n",
    "test['매니저이동방법_mean'] = test['매니저이동방법'].map(smooth)"
   ]
  },
  {
   "cell_type": "code",
   "execution_count": 33,
   "metadata": {},
   "outputs": [],
   "source": [
    "# 근무가능지역 mean_encoding\n",
    "mean = train['매칭성공여부'].mean()\n",
    "agg = train.groupby('근무가능지역')['매칭성공여부'].agg(['count', 'mean'])\n",
    "counts = agg['count']\n",
    "means = agg['mean']\n",
    "weight = 80\n",
    "smooth = (counts*means+weight*mean) / (counts+weight)\n",
    "train['근무가능지역_mean'] = train['근무가능지역'].map(smooth)\n",
    "test['근무가능지역_mean'] = test['근무가능지역'].map(smooth)"
   ]
  },
  {
   "cell_type": "code",
   "execution_count": 34,
   "metadata": {},
   "outputs": [],
   "source": [
    "# 서비스소요시간 mean_encoding\n",
    "mean = train['매칭성공여부'].mean()\n",
    "agg = train.groupby('서비스소요시간')['매칭성공여부'].agg(['count', 'mean'])\n",
    "counts = agg['count']\n",
    "means = agg['mean']\n",
    "weight = 80\n",
    "smooth = (counts*means+weight*mean) / (counts+weight)\n",
    "train['서비스소요시간_mean'] = train['서비스소요시간'].map(smooth)\n",
    "test['서비스소요시간_mean'] = test['서비스소요시간'].map(smooth)"
   ]
  },
  {
   "cell_type": "code",
   "execution_count": 35,
   "metadata": {},
   "outputs": [],
   "source": [
    "# 접수후걸린시일 mean_encoding\n",
    "mean = train['매칭성공여부'].mean()\n",
    "agg = train.groupby('접수후걸린시일')['매칭성공여부'].agg(['count', 'mean'])\n",
    "counts = agg['count']\n",
    "means = agg['mean']\n",
    "weight = 80\n",
    "smooth = (counts*means+weight*mean) / (counts+weight)\n",
    "train['접수후걸린시일_mean'] = train['접수후걸린시일'].map(smooth)\n",
    "test['접수후걸린시일_mean'] = test['접수후걸린시일'].map(smooth)"
   ]
  },
  {
   "cell_type": "code",
   "execution_count": 36,
   "metadata": {},
   "outputs": [],
   "source": [
    "# 반려동물 mean_encoding\n",
    "mean = train['매칭성공여부'].mean()\n",
    "agg = train.groupby('반려동물')['매칭성공여부'].agg(['count', 'mean'])\n",
    "counts = agg['count']\n",
    "means = agg['mean']\n",
    "weight = 80\n",
    "smooth = (counts*means+weight*mean) / (counts+weight)\n",
    "train['반려동물_mean'] = train['반려동물'].map(smooth)\n",
    "test['반려동물_mean'] = test['반려동물'].map(smooth)"
   ]
  },
  {
   "cell_type": "code",
   "execution_count": 37,
   "metadata": {},
   "outputs": [],
   "source": [
    "# 우선청소 mean_encoding\n",
    "mean = train['매칭성공여부'].mean()\n",
    "agg = train.groupby('우선청소')['매칭성공여부'].agg(['count', 'mean'])\n",
    "counts = agg['count']\n",
    "means = agg['mean']\n",
    "weight = 80\n",
    "smooth = (counts*means+weight*mean) / (counts+weight)\n",
    "train['우선청소_mean'] = train['우선청소'].map(smooth)\n",
    "test['우선청소_mean'] = test['우선청소'].map(smooth)"
   ]
  },
  {
   "cell_type": "code",
   "execution_count": 38,
   "metadata": {},
   "outputs": [],
   "source": [
    "# 부재중여부 mean_encoding\n",
    "mean = train['매칭성공여부'].mean()\n",
    "agg = train.groupby('부재중여부')['매칭성공여부'].agg(['count', 'mean'])\n",
    "counts = agg['count']\n",
    "means = agg['mean']\n",
    "weight = 80\n",
    "smooth = (counts*means+weight*mean) / (counts+weight)\n",
    "train['부재중여부_mean'] = train['부재중여부'].map(smooth)\n",
    "test['부재중여부_mean'] = test['부재중여부'].map(smooth)"
   ]
  },
  {
   "cell_type": "code",
   "execution_count": 39,
   "metadata": {},
   "outputs": [],
   "source": [
    "# 쿠폰사용여부 mean_encoding\n",
    "mean = train['매칭성공여부'].mean()\n",
    "agg = train.groupby('쿠폰사용여부')['매칭성공여부'].agg(['count', 'mean'])\n",
    "counts = agg['count']\n",
    "means = agg['mean']\n",
    "weight = 80\n",
    "smooth = (counts*means+weight*mean) / (counts+weight)\n",
    "train['쿠폰사용여부_mean'] = train['쿠폰사용여부'].map(smooth)\n",
    "test['쿠폰사용여부_mean'] = test['쿠폰사용여부'].map(smooth)"
   ]
  },
  {
   "cell_type": "code",
   "execution_count": 40,
   "metadata": {},
   "outputs": [],
   "source": [
    "# CS교육이수여부 ME\n",
    "mean = train['매칭성공여부'].mean()\n",
    "agg = train.groupby('CS교육이수여부')['매칭성공여부'].agg(['count','mean'])\n",
    "counts = agg['count']\n",
    "means = agg['mean']\n",
    "weight = 80\n",
    "smooth = (counts*means+weight*mean)/(counts+weight)\n",
    "train['CS교육이수여부_mean'] = train['CS교육이수여부'].map(smooth)\n",
    "test['CS교육이수여부_mean'] = test['CS교육이수여부'].map(smooth)"
   ]
  },
  {
   "cell_type": "code",
   "execution_count": 41,
   "metadata": {},
   "outputs": [],
   "source": [
    "# 청소교육이수여부 ME\n",
    "mean = train['매칭성공여부'].mean()\n",
    "agg = train.groupby('청소교육이수여부')['매칭성공여부'].agg(['count','mean'])\n",
    "counts = agg['count']\n",
    "means = agg['mean']\n",
    "weight = 80\n",
    "smooth = (counts*means+weight*mean)/(counts+weight)\n",
    "train['청소교육이수여부_mean'] = train['청소교육이수여부'].map(smooth)\n",
    "test['청소교육이수여부_mean'] = test['청소교육이수여부'].map(smooth)"
   ]
  },
  {
   "cell_type": "code",
   "execution_count": 42,
   "metadata": {},
   "outputs": [],
   "source": [
    "# 부재중서비스가능여부 ME\n",
    "mean = train['매칭성공여부'].mean()\n",
    "agg = train.groupby('부재중서비스가능여부')['매칭성공여부'].agg(['count','mean'])\n",
    "counts = agg['count']\n",
    "means = agg['mean']\n",
    "weight = 80\n",
    "smooth = (counts*means+weight*mean)/(counts+weight)\n",
    "train['부재중서비스가능여부_mean'] = train['부재중서비스가능여부'].map(smooth)\n",
    "test['부재중서비스가능여부_mean'] = test['부재중서비스가능여부'].map(smooth)"
   ]
  },
  {
   "cell_type": "code",
   "execution_count": 43,
   "metadata": {},
   "outputs": [],
   "source": [
    "# 추천인여부 ME\n",
    "mean = train['매칭성공여부'].mean()\n",
    "agg = train.groupby('추천인여부')['매칭성공여부'].agg(['count','mean'])\n",
    "counts = agg['count']\n",
    "means = agg['mean']\n",
    "weight = 80\n",
    "smooth = (counts*means+weight*mean)/(counts+weight)\n",
    "train['추천인여부_mean'] = train['추천인여부'].map(smooth)\n",
    "test['추천인여부_mean'] = test['추천인여부'].map(smooth)"
   ]
  },
  {
   "cell_type": "code",
   "execution_count": 44,
   "metadata": {},
   "outputs": [
    {
     "data": {
      "text/plain": [
       "(23009, 56)"
      ]
     },
     "execution_count": 44,
     "metadata": {},
     "output_type": "execute_result"
    }
   ],
   "source": [
    "train.shape"
   ]
  },
  {
   "cell_type": "code",
   "execution_count": null,
   "metadata": {},
   "outputs": [],
   "source": []
  },
  {
   "cell_type": "code",
   "execution_count": null,
   "metadata": {},
   "outputs": [],
   "source": []
  },
  {
   "cell_type": "markdown",
   "metadata": {
    "heading_collapsed": true
   },
   "source": [
    "### 특이사항"
   ]
  },
  {
   "cell_type": "code",
   "execution_count": 45,
   "metadata": {
    "hidden": true
   },
   "outputs": [
    {
     "data": {
      "text/html": [
       "<div>\n",
       "<style scoped>\n",
       "    .dataframe tbody tr th:only-of-type {\n",
       "        vertical-align: middle;\n",
       "    }\n",
       "\n",
       "    .dataframe tbody tr th {\n",
       "        vertical-align: top;\n",
       "    }\n",
       "\n",
       "    .dataframe thead th {\n",
       "        text-align: right;\n",
       "    }\n",
       "</style>\n",
       "<table border=\"1\" class=\"dataframe\">\n",
       "  <thead>\n",
       "    <tr style=\"text-align: right;\">\n",
       "      <th></th>\n",
       "      <th>count</th>\n",
       "      <th>mean</th>\n",
       "    </tr>\n",
       "    <tr>\n",
       "      <th>추천인여부</th>\n",
       "      <th></th>\n",
       "      <th></th>\n",
       "    </tr>\n",
       "  </thead>\n",
       "  <tbody>\n",
       "    <tr>\n",
       "      <th>0</th>\n",
       "      <td>22848</td>\n",
       "      <td>0.095632</td>\n",
       "    </tr>\n",
       "    <tr>\n",
       "      <th>1</th>\n",
       "      <td>161</td>\n",
       "      <td>0.080745</td>\n",
       "    </tr>\n",
       "  </tbody>\n",
       "</table>\n",
       "</div>"
      ],
      "text/plain": [
       "       count      mean\n",
       "추천인여부                 \n",
       "0      22848  0.095632\n",
       "1        161  0.080745"
      ]
     },
     "execution_count": 45,
     "metadata": {},
     "output_type": "execute_result"
    }
   ],
   "source": [
    "# 음수값은 대체 뭐냐....\n",
    "agg.head()"
   ]
  },
  {
   "cell_type": "code",
   "execution_count": 46,
   "metadata": {
    "hidden": true
   },
   "outputs": [
    {
     "data": {
      "text/plain": [
       "array(['CLEAN_MY_ID_576', 'CLEAN_MY_ID_8552', 'CLEAN_MY_ID_1463'],\n",
       "      dtype=object)"
      ]
     },
     "execution_count": 46,
     "metadata": {},
     "output_type": "execute_result"
    }
   ],
   "source": [
    "train.loc[train['접수후걸린시일'] < '0 days']['고객ID'].unique()"
   ]
  },
  {
   "cell_type": "code",
   "execution_count": 47,
   "metadata": {
    "hidden": true
   },
   "outputs": [
    {
     "data": {
      "text/plain": [
       "0.07936507936507936"
      ]
     },
     "execution_count": 47,
     "metadata": {},
     "output_type": "execute_result"
    }
   ],
   "source": [
    "train.loc[train['접수후걸린시일'] < '0 days']['매칭성공여부'].mean()"
   ]
  },
  {
   "cell_type": "code",
   "execution_count": 48,
   "metadata": {
    "hidden": true
   },
   "outputs": [],
   "source": [
    "feature = pd.concat([train, test])"
   ]
  },
  {
   "cell_type": "code",
   "execution_count": 49,
   "metadata": {
    "hidden": true
   },
   "outputs": [
    {
     "data": {
      "text/plain": [
       "array(['CLEAN_MY_ID_576', 'CLEAN_MY_ID_8552', 'CLEAN_MY_ID_1463'],\n",
       "      dtype=object)"
      ]
     },
     "execution_count": 49,
     "metadata": {},
     "output_type": "execute_result"
    }
   ],
   "source": [
    "feature.loc[feature['접수후걸린시일'] < '0 days']['고객ID'].unique()"
   ]
  },
  {
   "cell_type": "code",
   "execution_count": 50,
   "metadata": {
    "hidden": true
   },
   "outputs": [
    {
     "data": {
      "text/plain": [
       "array(['CLEAN_MY_ID_8552', 'CLEAN_MY_ID_576', 'CLEAN_MY_ID_1463'],\n",
       "      dtype=object)"
      ]
     },
     "execution_count": 50,
     "metadata": {},
     "output_type": "execute_result"
    }
   ],
   "source": [
    "test.loc[test['접수후걸린시일'] < '0 days']['고객ID'].unique()"
   ]
  },
  {
   "cell_type": "code",
   "execution_count": 51,
   "metadata": {
    "hidden": true
   },
   "outputs": [
    {
     "data": {
      "text/plain": [
       "(14, 55)"
      ]
     },
     "execution_count": 51,
     "metadata": {},
     "output_type": "execute_result"
    }
   ],
   "source": [
    "test.loc[test['접수후걸린시일'] < '0 days'].shape"
   ]
  },
  {
   "cell_type": "markdown",
   "metadata": {
    "heading_collapsed": true
   },
   "source": [
    "### ont-hot encoding - 굳이 할 필요 있을까 싶음"
   ]
  },
  {
   "cell_type": "code",
   "execution_count": 52,
   "metadata": {
    "hidden": true
   },
   "outputs": [],
   "source": [
    "oh1 = pd.get_dummies(train['결재형태'])\n",
    "oh2 = pd.get_dummies(train['서비스주소'])\n",
    "oh3 = pd.get_dummies(train['주거형태'])\n",
    "\n",
    "train = pd.concat([train, oh1, oh2, oh3], axis=1)"
   ]
  },
  {
   "cell_type": "code",
   "execution_count": 53,
   "metadata": {
    "hidden": true
   },
   "outputs": [],
   "source": [
    "oh1 = pd.get_dummies(test['결재형태'])\n",
    "oh2 = pd.get_dummies(test['서비스주소'])\n",
    "oh3 = pd.get_dummies(test['주거형태'])\n",
    "\n",
    "test = pd.concat([test, oh1, oh2, oh3], axis=1)"
   ]
  },
  {
   "cell_type": "code",
   "execution_count": 54,
   "metadata": {
    "hidden": true
   },
   "outputs": [
    {
     "data": {
      "text/plain": [
       "((23009, 104), (5754, 103))"
      ]
     },
     "execution_count": 54,
     "metadata": {},
     "output_type": "execute_result"
    }
   ],
   "source": [
    "train.shape, test.shape"
   ]
  },
  {
   "cell_type": "code",
   "execution_count": 55,
   "metadata": {
    "hidden": true
   },
   "outputs": [
    {
     "data": {
      "text/html": [
       "<div>\n",
       "<style scoped>\n",
       "    .dataframe tbody tr th:only-of-type {\n",
       "        vertical-align: middle;\n",
       "    }\n",
       "\n",
       "    .dataframe tbody tr th {\n",
       "        vertical-align: top;\n",
       "    }\n",
       "\n",
       "    .dataframe thead th {\n",
       "        text-align: right;\n",
       "    }\n",
       "</style>\n",
       "<table border=\"1\" class=\"dataframe\">\n",
       "  <thead>\n",
       "    <tr style=\"text-align: right;\">\n",
       "      <th></th>\n",
       "      <th>SEQ</th>\n",
       "      <th>접수일</th>\n",
       "      <th>접수시각</th>\n",
       "      <th>장기서비스여부</th>\n",
       "      <th>최초서비스일</th>\n",
       "      <th>전체회차</th>\n",
       "      <th>현재회차</th>\n",
       "      <th>서비스일자</th>\n",
       "      <th>서비스시작시간</th>\n",
       "      <th>서비스종료시간</th>\n",
       "      <th>기존고객여부</th>\n",
       "      <th>결재형태</th>\n",
       "      <th>서비스주소</th>\n",
       "      <th>주거형태</th>\n",
       "      <th>평수</th>\n",
       "      <th>고객ID</th>\n",
       "      <th>고객가입일</th>\n",
       "      <th>반려동물</th>\n",
       "      <th>부재중여부</th>\n",
       "      <th>우선청소</th>\n",
       "      <th>쿠폰사용여부</th>\n",
       "      <th>매니저생년월일</th>\n",
       "      <th>매니저ID</th>\n",
       "      <th>매니저최초가입일</th>\n",
       "      <th>매니저최초서비스일</th>\n",
       "      <th>매니저성별</th>\n",
       "      <th>매니저사용휴대폰</th>\n",
       "      <th>매니저주소</th>\n",
       "      <th>매니저이동방법</th>\n",
       "      <th>근무가능지역</th>\n",
       "      <th>CS교육이수여부</th>\n",
       "      <th>청소교육이수여부</th>\n",
       "      <th>부재중서비스가능여부</th>\n",
       "      <th>추천인여부</th>\n",
       "      <th>매칭성공여부</th>\n",
       "      <th>서비스소요시간</th>\n",
       "      <th>접수후걸린시일</th>\n",
       "      <th>회차사용비율</th>\n",
       "      <th>전체회차_mean</th>\n",
       "      <th>결제형태_mean</th>\n",
       "      <th>서비스주소_mean</th>\n",
       "      <th>주거형태_mean</th>\n",
       "      <th>매니저사용휴대폰_mean</th>\n",
       "      <th>매니저주소_mean</th>\n",
       "      <th>매니저이동방법_mean</th>\n",
       "      <th>근무가능지역_mean</th>\n",
       "      <th>서비스소요시간_mean</th>\n",
       "      <th>접수후걸린시일_mean</th>\n",
       "      <th>반려동물_mean</th>\n",
       "      <th>우선청소_mean</th>\n",
       "      <th>부재중여부_mean</th>\n",
       "      <th>쿠폰사용여부_mean</th>\n",
       "      <th>CS교육이수여부_mean</th>\n",
       "      <th>청소교육이수여부_mean</th>\n",
       "      <th>부재중서비스가능여부_mean</th>\n",
       "      <th>추천인여부_mean</th>\n",
       "      <th>가상계좌</th>\n",
       "      <th>무통장입금</th>\n",
       "      <th>미수</th>\n",
       "      <th>신용카드</th>\n",
       "      <th>강원 원주시</th>\n",
       "      <th>강원 춘천시</th>\n",
       "      <th>경기 성남시</th>\n",
       "      <th>경기 안성시</th>\n",
       "      <th>경기 의정부시</th>\n",
       "      <th>경기 평택시</th>\n",
       "      <th>경남 창원시</th>\n",
       "      <th>광주 광산구</th>\n",
       "      <th>광주 남구</th>\n",
       "      <th>광주 동구</th>\n",
       "      <th>광주 북구</th>\n",
       "      <th>광주 서구</th>\n",
       "      <th>부산 강서구</th>\n",
       "      <th>부산 동구</th>\n",
       "      <th>부산 동래구</th>\n",
       "      <th>부산 사하구</th>\n",
       "      <th>부산 연제구</th>\n",
       "      <th>부산 해운대구</th>\n",
       "      <th>서울 강남구</th>\n",
       "      <th>서울 강동구</th>\n",
       "      <th>서울 강북구</th>\n",
       "      <th>서울 강서구</th>\n",
       "      <th>서울 관악구</th>\n",
       "      <th>서울 구로구</th>\n",
       "      <th>서울 금천구</th>\n",
       "      <th>서울 노원구</th>\n",
       "      <th>서울 도봉구</th>\n",
       "      <th>서울 동대문구</th>\n",
       "      <th>서울 동작구</th>\n",
       "      <th>서울 마포구</th>\n",
       "      <th>서울 서대문구</th>\n",
       "      <th>서울 서초구</th>\n",
       "      <th>서울 성동구</th>\n",
       "      <th>서울 성북구</th>\n",
       "      <th>서울 영등포구</th>\n",
       "      <th>서울 용산구</th>\n",
       "      <th>서울 은평구</th>\n",
       "      <th>서울 종로구</th>\n",
       "      <th>서울 중구</th>\n",
       "      <th>서울 중랑구</th>\n",
       "      <th>충남 아산시</th>\n",
       "      <th>충남 천안시</th>\n",
       "      <th>오피스텔/원룸</th>\n",
       "      <th>일반주택</th>\n",
       "    </tr>\n",
       "  </thead>\n",
       "  <tbody>\n",
       "    <tr>\n",
       "      <th>0</th>\n",
       "      <td>T06420</td>\n",
       "      <td>2019-07-09</td>\n",
       "      <td>NaN</td>\n",
       "      <td>1</td>\n",
       "      <td>2019-07-15</td>\n",
       "      <td>3</td>\n",
       "      <td>3</td>\n",
       "      <td>2019-07-29</td>\n",
       "      <td>1900-01-01 09:00:00</td>\n",
       "      <td>1900-01-01 13:00:00</td>\n",
       "      <td>1</td>\n",
       "      <td>무통장입금</td>\n",
       "      <td>충남 천안시</td>\n",
       "      <td>일반주택</td>\n",
       "      <td>NaN</td>\n",
       "      <td>CLEAN_MY_ID_38</td>\n",
       "      <td>2019-04-22</td>\n",
       "      <td>NaN</td>\n",
       "      <td>NaN</td>\n",
       "      <td>NaN</td>\n",
       "      <td>0</td>\n",
       "      <td>1956-04-19</td>\n",
       "      <td>HELPER_ID_437</td>\n",
       "      <td>2020-04-02</td>\n",
       "      <td>2020-06-30</td>\n",
       "      <td>0</td>\n",
       "      <td>안드로이드</td>\n",
       "      <td>서울 양천구</td>\n",
       "      <td>대중교통</td>\n",
       "      <td>서울</td>\n",
       "      <td>0.0</td>\n",
       "      <td>0.0</td>\n",
       "      <td>1</td>\n",
       "      <td>0</td>\n",
       "      <td>0</td>\n",
       "      <td>0 days 04:00:00</td>\n",
       "      <td>6 days</td>\n",
       "      <td>1.0</td>\n",
       "      <td>0.103106</td>\n",
       "      <td>0.093965</td>\n",
       "      <td>0.095033</td>\n",
       "      <td>0.0957</td>\n",
       "      <td>0.097482</td>\n",
       "      <td>0.085593</td>\n",
       "      <td>0.099812</td>\n",
       "      <td>0.086232</td>\n",
       "      <td>0.095759</td>\n",
       "      <td>0.095668</td>\n",
       "      <td>NaN</td>\n",
       "      <td>NaN</td>\n",
       "      <td>NaN</td>\n",
       "      <td>0.095549</td>\n",
       "      <td>0.100704</td>\n",
       "      <td>0.101248</td>\n",
       "      <td>0.093087</td>\n",
       "      <td>0.095632</td>\n",
       "      <td>0</td>\n",
       "      <td>1</td>\n",
       "      <td>0</td>\n",
       "      <td>0</td>\n",
       "      <td>0</td>\n",
       "      <td>0</td>\n",
       "      <td>0</td>\n",
       "      <td>0</td>\n",
       "      <td>0</td>\n",
       "      <td>0</td>\n",
       "      <td>0</td>\n",
       "      <td>0</td>\n",
       "      <td>0</td>\n",
       "      <td>0</td>\n",
       "      <td>0</td>\n",
       "      <td>0</td>\n",
       "      <td>0</td>\n",
       "      <td>0</td>\n",
       "      <td>0</td>\n",
       "      <td>0</td>\n",
       "      <td>0</td>\n",
       "      <td>0</td>\n",
       "      <td>0</td>\n",
       "      <td>0</td>\n",
       "      <td>0</td>\n",
       "      <td>0</td>\n",
       "      <td>0</td>\n",
       "      <td>0</td>\n",
       "      <td>0</td>\n",
       "      <td>0</td>\n",
       "      <td>0</td>\n",
       "      <td>0</td>\n",
       "      <td>0</td>\n",
       "      <td>0</td>\n",
       "      <td>0</td>\n",
       "      <td>0</td>\n",
       "      <td>0</td>\n",
       "      <td>0</td>\n",
       "      <td>0</td>\n",
       "      <td>0</td>\n",
       "      <td>0</td>\n",
       "      <td>0</td>\n",
       "      <td>0</td>\n",
       "      <td>0</td>\n",
       "      <td>0</td>\n",
       "      <td>1</td>\n",
       "      <td>0</td>\n",
       "      <td>1</td>\n",
       "    </tr>\n",
       "  </tbody>\n",
       "</table>\n",
       "</div>"
      ],
      "text/plain": [
       "      SEQ        접수일 접수시각  장기서비스여부     최초서비스일  전체회차  현재회차      서비스일자  \\\n",
       "0  T06420 2019-07-09  NaN        1 2019-07-15     3     3 2019-07-29   \n",
       "\n",
       "              서비스시작시간             서비스종료시간  기존고객여부   결재형태   서비스주소  주거형태   평수  \\\n",
       "0 1900-01-01 09:00:00 1900-01-01 13:00:00       1  무통장입금  충남 천안시  일반주택  NaN   \n",
       "\n",
       "             고객ID       고객가입일 반려동물  부재중여부 우선청소  쿠폰사용여부     매니저생년월일  \\\n",
       "0  CLEAN_MY_ID_38  2019-04-22  NaN    NaN  NaN       0  1956-04-19   \n",
       "\n",
       "           매니저ID    매니저최초가입일   매니저최초서비스일  매니저성별 매니저사용휴대폰   매니저주소 매니저이동방법  \\\n",
       "0  HELPER_ID_437  2020-04-02  2020-06-30      0    안드로이드  서울 양천구    대중교통   \n",
       "\n",
       "  근무가능지역  CS교육이수여부  청소교육이수여부  부재중서비스가능여부  추천인여부  매칭성공여부         서비스소요시간  \\\n",
       "0     서울       0.0       0.0           1      0       0 0 days 04:00:00   \n",
       "\n",
       "  접수후걸린시일  회차사용비율  전체회차_mean  결제형태_mean  서비스주소_mean  주거형태_mean  매니저사용휴대폰_mean  \\\n",
       "0  6 days     1.0   0.103106   0.093965    0.095033     0.0957       0.097482   \n",
       "\n",
       "   매니저주소_mean  매니저이동방법_mean  근무가능지역_mean  서비스소요시간_mean  접수후걸린시일_mean  \\\n",
       "0    0.085593      0.099812     0.086232      0.095759      0.095668   \n",
       "\n",
       "   반려동물_mean  우선청소_mean  부재중여부_mean  쿠폰사용여부_mean  CS교육이수여부_mean  \\\n",
       "0        NaN        NaN         NaN     0.095549       0.100704   \n",
       "\n",
       "   청소교육이수여부_mean  부재중서비스가능여부_mean  추천인여부_mean  가상계좌  무통장입금  미수  신용카드  강원 원주시  \\\n",
       "0       0.101248         0.093087    0.095632     0      1   0     0       0   \n",
       "\n",
       "   강원 춘천시  경기 성남시  경기 안성시  경기 의정부시  경기 평택시  경남 창원시  광주 광산구  광주 남구  광주 동구  \\\n",
       "0       0       0       0        0       0       0       0      0      0   \n",
       "\n",
       "   광주 북구  광주 서구  부산 강서구  부산 동구  부산 동래구  부산 사하구  부산 연제구  부산 해운대구  서울 강남구  \\\n",
       "0      0      0       0      0       0       0       0        0       0   \n",
       "\n",
       "   서울 강동구  서울 강북구  서울 강서구  서울 관악구  서울 구로구  서울 금천구  서울 노원구  서울 도봉구  서울 동대문구  \\\n",
       "0       0       0       0       0       0       0       0       0        0   \n",
       "\n",
       "   서울 동작구  서울 마포구  서울 서대문구  서울 서초구  서울 성동구  서울 성북구  서울 영등포구  서울 용산구  서울 은평구  \\\n",
       "0       0       0        0       0       0       0        0       0       0   \n",
       "\n",
       "   서울 종로구  서울 중구  서울 중랑구  충남 아산시  충남 천안시  오피스텔/원룸  일반주택  \n",
       "0       0      0       0       0       1        0     1  "
      ]
     },
     "execution_count": 55,
     "metadata": {},
     "output_type": "execute_result"
    }
   ],
   "source": [
    "train.head(1)"
   ]
  },
  {
   "cell_type": "markdown",
   "metadata": {},
   "source": [
    "### 외부데이터"
   ]
  },
  {
   "cell_type": "code",
   "execution_count": 56,
   "metadata": {},
   "outputs": [],
   "source": [
    "# 이용후기 크롤링 - 어떤 요소가 만족스러운지 파악 가능\n",
    "# https://blog.naver.com/cleanveteran/222545015505"
   ]
  },
  {
   "cell_type": "code",
   "execution_count": null,
   "metadata": {},
   "outputs": [],
   "source": []
  },
  {
   "cell_type": "code",
   "execution_count": null,
   "metadata": {},
   "outputs": [],
   "source": []
  },
  {
   "cell_type": "code",
   "execution_count": null,
   "metadata": {},
   "outputs": [],
   "source": []
  },
  {
   "cell_type": "code",
   "execution_count": null,
   "metadata": {},
   "outputs": [],
   "source": []
  },
  {
   "cell_type": "markdown",
   "metadata": {},
   "source": [
    "### 결측값 처리"
   ]
  },
  {
   "cell_type": "code",
   "execution_count": 46,
   "metadata": {},
   "outputs": [],
   "source": [
    "#!pip install missingpy"
   ]
  },
  {
   "cell_type": "code",
   "execution_count": 55,
   "metadata": {},
   "outputs": [
    {
     "ename": "ModuleNotFoundError",
     "evalue": "No module named 'sklearn.neighbors.base'",
     "output_type": "error",
     "traceback": [
      "\u001b[1;31m---------------------------------------------------------------------------\u001b[0m",
      "\u001b[1;31mModuleNotFoundError\u001b[0m                       Traceback (most recent call last)",
      "\u001b[1;32m<ipython-input-55-4ded551bb4d5>\u001b[0m in \u001b[0;36m<module>\u001b[1;34m\u001b[0m\n\u001b[1;32m----> 1\u001b[1;33m \u001b[1;32mfrom\u001b[0m \u001b[0mmissingpy\u001b[0m \u001b[1;32mimport\u001b[0m \u001b[0mMissForest\u001b[0m\u001b[1;33m\u001b[0m\u001b[1;33m\u001b[0m\u001b[0m\n\u001b[0m\u001b[0;32m      2\u001b[0m \u001b[0mimputer\u001b[0m \u001b[1;33m=\u001b[0m \u001b[0mMissForest\u001b[0m\u001b[1;33m(\u001b[0m\u001b[0mrandom_state\u001b[0m\u001b[1;33m=\u001b[0m\u001b[1;36m0\u001b[0m\u001b[1;33m)\u001b[0m\u001b[1;33m\u001b[0m\u001b[1;33m\u001b[0m\u001b[0m\n\u001b[0;32m      3\u001b[0m \u001b[0mtrain_imputed\u001b[0m \u001b[1;33m=\u001b[0m \u001b[0mimputer\u001b[0m\u001b[1;33m.\u001b[0m\u001b[0mfit\u001b[0m\u001b[1;33m(\u001b[0m\u001b[0mtrain\u001b[0m\u001b[1;33m,\u001b[0m \u001b[0mcat_vars\u001b[0m\u001b[1;33m=\u001b[0m\u001b[0mcat_features\u001b[0m\u001b[1;33m)\u001b[0m\u001b[1;33m\u001b[0m\u001b[1;33m\u001b[0m\u001b[0m\n",
      "\u001b[1;32m~\\anaconda3\\lib\\site-packages\\missingpy\\__init__.py\u001b[0m in \u001b[0;36m<module>\u001b[1;34m\u001b[0m\n\u001b[1;32m----> 1\u001b[1;33m \u001b[1;32mfrom\u001b[0m \u001b[1;33m.\u001b[0m\u001b[0mknnimpute\u001b[0m \u001b[1;32mimport\u001b[0m \u001b[0mKNNImputer\u001b[0m\u001b[1;33m\u001b[0m\u001b[1;33m\u001b[0m\u001b[0m\n\u001b[0m\u001b[0;32m      2\u001b[0m \u001b[1;32mfrom\u001b[0m \u001b[1;33m.\u001b[0m\u001b[0mmissforest\u001b[0m \u001b[1;32mimport\u001b[0m \u001b[0mMissForest\u001b[0m\u001b[1;33m\u001b[0m\u001b[1;33m\u001b[0m\u001b[0m\n\u001b[0;32m      3\u001b[0m \u001b[1;33m\u001b[0m\u001b[0m\n\u001b[0;32m      4\u001b[0m \u001b[0m__all__\u001b[0m \u001b[1;33m=\u001b[0m \u001b[1;33m[\u001b[0m\u001b[1;34m'KNNImputer'\u001b[0m\u001b[1;33m,\u001b[0m \u001b[1;34m'MissForest'\u001b[0m\u001b[1;33m]\u001b[0m\u001b[1;33m\u001b[0m\u001b[1;33m\u001b[0m\u001b[0m\n",
      "\u001b[1;32m~\\anaconda3\\lib\\site-packages\\missingpy\\knnimpute.py\u001b[0m in \u001b[0;36m<module>\u001b[1;34m\u001b[0m\n\u001b[0;32m     11\u001b[0m \u001b[1;32mfrom\u001b[0m \u001b[0msklearn\u001b[0m\u001b[1;33m.\u001b[0m\u001b[0mutils\u001b[0m\u001b[1;33m.\u001b[0m\u001b[0mvalidation\u001b[0m \u001b[1;32mimport\u001b[0m \u001b[0mcheck_is_fitted\u001b[0m\u001b[1;33m\u001b[0m\u001b[1;33m\u001b[0m\u001b[0m\n\u001b[0;32m     12\u001b[0m \u001b[1;32mfrom\u001b[0m \u001b[0msklearn\u001b[0m\u001b[1;33m.\u001b[0m\u001b[0mutils\u001b[0m\u001b[1;33m.\u001b[0m\u001b[0mvalidation\u001b[0m \u001b[1;32mimport\u001b[0m \u001b[0mFLOAT_DTYPES\u001b[0m\u001b[1;33m\u001b[0m\u001b[1;33m\u001b[0m\u001b[0m\n\u001b[1;32m---> 13\u001b[1;33m \u001b[1;32mfrom\u001b[0m \u001b[0msklearn\u001b[0m\u001b[1;33m.\u001b[0m\u001b[0mneighbors\u001b[0m\u001b[1;33m.\u001b[0m\u001b[0mbase\u001b[0m \u001b[1;32mimport\u001b[0m \u001b[0m_check_weights\u001b[0m\u001b[1;33m\u001b[0m\u001b[1;33m\u001b[0m\u001b[0m\n\u001b[0m\u001b[0;32m     14\u001b[0m \u001b[1;32mfrom\u001b[0m \u001b[0msklearn\u001b[0m\u001b[1;33m.\u001b[0m\u001b[0mneighbors\u001b[0m\u001b[1;33m.\u001b[0m\u001b[0mbase\u001b[0m \u001b[1;32mimport\u001b[0m \u001b[0m_get_weights\u001b[0m\u001b[1;33m\u001b[0m\u001b[1;33m\u001b[0m\u001b[0m\n\u001b[0;32m     15\u001b[0m \u001b[1;33m\u001b[0m\u001b[0m\n",
      "\u001b[1;31mModuleNotFoundError\u001b[0m: No module named 'sklearn.neighbors.base'"
     ]
    }
   ],
   "source": [
    "from missingpy import MissForest\n",
    "imputer = MissForest(random_state=0)\n",
    "train_imputed = imputer.fit(train, cat_vars=cat_features)"
   ]
  },
  {
   "cell_type": "code",
   "execution_count": null,
   "metadata": {},
   "outputs": [],
   "source": []
  },
  {
   "cell_type": "code",
   "execution_count": null,
   "metadata": {},
   "outputs": [],
   "source": []
  },
  {
   "cell_type": "code",
   "execution_count": null,
   "metadata": {},
   "outputs": [],
   "source": []
  },
  {
   "cell_type": "code",
   "execution_count": null,
   "metadata": {},
   "outputs": [],
   "source": []
  },
  {
   "cell_type": "code",
   "execution_count": null,
   "metadata": {},
   "outputs": [],
   "source": []
  },
  {
   "cell_type": "code",
   "execution_count": null,
   "metadata": {},
   "outputs": [],
   "source": []
  },
  {
   "cell_type": "code",
   "execution_count": null,
   "metadata": {},
   "outputs": [],
   "source": []
  },
  {
   "cell_type": "code",
   "execution_count": null,
   "metadata": {},
   "outputs": [],
   "source": []
  },
  {
   "cell_type": "code",
   "execution_count": null,
   "metadata": {},
   "outputs": [],
   "source": []
  },
  {
   "cell_type": "code",
   "execution_count": null,
   "metadata": {},
   "outputs": [],
   "source": []
  },
  {
   "cell_type": "markdown",
   "metadata": {},
   "source": [
    "### 모델링"
   ]
  },
  {
   "cell_type": "code",
   "execution_count": 57,
   "metadata": {},
   "outputs": [
    {
     "data": {
      "text/plain": [
       "Index(['SEQ', '접수일', '접수시각', '장기서비스여부', '최초서비스일', '전체회차', '현재회차', '서비스일자',\n",
       "       '서비스시작시간', '서비스종료시간',\n",
       "       ...\n",
       "       '서울 영등포구', '서울 용산구', '서울 은평구', '서울 종로구', '서울 중구', '서울 중랑구', '충남 아산시',\n",
       "       '충남 천안시', '오피스텔/원룸', '일반주택'],\n",
       "      dtype='object', length=104)"
      ]
     },
     "execution_count": 57,
     "metadata": {},
     "output_type": "execute_result"
    }
   ],
   "source": [
    "train.columns"
   ]
  },
  {
   "cell_type": "code",
   "execution_count": 58,
   "metadata": {},
   "outputs": [],
   "source": [
    "# 결측치 포함 열 제외\n",
    "features = ['장기서비스여부', '전체회차', '현재회차', '기존고객여부', '결재형태', '서비스주소', '주거형태',\n",
    "            '쿠폰사용여부', '매니저주소', '근무가능지역', '부재중서비스가능여부', '추천인여부', '서비스소요시간', \n",
    "            '접수후걸린시일', '회차사용비율']"
   ]
  },
  {
   "cell_type": "code",
   "execution_count": 59,
   "metadata": {},
   "outputs": [],
   "source": [
    "ftr = train[features]\n",
    "test_x = test[features]\n",
    "target = train['매칭성공여부']"
   ]
  },
  {
   "cell_type": "code",
   "execution_count": 60,
   "metadata": {},
   "outputs": [],
   "source": [
    "from lightgbm import LGBMRegressor\n",
    "from xgboost import XGBRFRegressor\n",
    "from sklearn.metrics import mean_absolute_error\n",
    "from sklearn.model_selection import TimeSeriesSplit, KFold\n",
    "from sklearn.ensemble import RandomForestRegressor, GradientBoostingRegressor, VotingRegressor\n",
    "from ngboost import NGBRegressor\n",
    "from catboost import CatBoostRegressor, Pool"
   ]
  },
  {
   "cell_type": "code",
   "execution_count": 61,
   "metadata": {},
   "outputs": [],
   "source": [
    "kf = KFold(n_splits=15, random_state=0, shuffle=True)"
   ]
  },
  {
   "cell_type": "code",
   "execution_count": 62,
   "metadata": {},
   "outputs": [],
   "source": [
    "cat_features = ['기존고객여부', '결재형태', '서비스주소', '주거형태',\n",
    "                #'반려동물', '부재중여부', '우선청소', '매니저사용휴대폰', '매니저이동방법', 'CS교육이수여부', '청소교육이수여부'\n",
    "                '쿠폰사용여부', '매니저주소', '근무가능지역', '부재중서비스가능여부', '추천인여부']"
   ]
  },
  {
   "cell_type": "code",
   "execution_count": 63,
   "metadata": {},
   "outputs": [],
   "source": [
    "cb = CatBoostRegressor(iterations=10000, learning_rate=0.01, eval_metric='MAE', silent=True, loss_function='MAE')"
   ]
  },
  {
   "cell_type": "code",
   "execution_count": 64,
   "metadata": {},
   "outputs": [
    {
     "name": "stdout",
     "output_type": "stream",
     "text": [
      "0:\tlearn: 0.0950407\ttest: 0.1023468\tbest: 0.1023468 (0)\ttotal: 188ms\tremaining: 31m 19s\n",
      "2000:\tlearn: 0.0891603\ttest: 0.0936930\tbest: 0.0936929 (1999)\ttotal: 40s\tremaining: 2m 39s\n",
      "4000:\tlearn: 0.0877063\ttest: 0.0928631\tbest: 0.0928631 (4000)\ttotal: 1m 20s\tremaining: 2m 1s\n",
      "6000:\tlearn: 0.0867497\ttest: 0.0924713\tbest: 0.0924712 (5998)\ttotal: 2m 1s\tremaining: 1m 20s\n",
      "Stopped by overfitting detector  (1000 iterations wait)\n",
      "\n",
      "bestTest = 0.09223185322\n",
      "bestIteration = 6298\n",
      "\n",
      "Shrink model to first 6299 iterations.\n",
      "FOLD MAE = 0.09223231103207027\n",
      "0:\tlearn: 0.0955064\ttest: 0.0958279\tbest: 0.0958279 (0)\ttotal: 28.1ms\tremaining: 4m 40s\n",
      "2000:\tlearn: 0.0951345\ttest: 0.0957277\tbest: 0.0957277 (1516)\ttotal: 36.7s\tremaining: 2m 26s\n",
      "4000:\tlearn: 0.0946051\ttest: 0.0952784\tbest: 0.0952784 (4000)\ttotal: 1m 16s\tremaining: 1m 54s\n",
      "6000:\tlearn: 0.0887390\ttest: 0.0888676\tbest: 0.0888676 (6000)\ttotal: 1m 56s\tremaining: 1m 17s\n",
      "8000:\tlearn: 0.0872005\ttest: 0.0881909\tbest: 0.0880906 (7516)\ttotal: 2m 37s\tremaining: 39.3s\n",
      "Stopped by overfitting detector  (1000 iterations wait)\n",
      "\n",
      "bestTest = 0.08809062186\n",
      "bestIteration = 7516\n",
      "\n",
      "Shrink model to first 7517 iterations.\n",
      "FOLD MAE = 0.08809181431750811\n",
      "0:\tlearn: 0.0953667\ttest: 0.0977836\tbest: 0.0977836 (0)\ttotal: 28.9ms\tremaining: 4m 49s\n",
      "Stopped by overfitting detector  (1000 iterations wait)\n",
      "\n",
      "bestTest = 0.09778334981\n",
      "bestIteration = 160\n",
      "\n",
      "Shrink model to first 161 iterations.\n",
      "FOLD MAE = 0.09778397477613979\n",
      "0:\tlearn: 0.0952270\ttest: 0.0997392\tbest: 0.0997392 (0)\ttotal: 28.3ms\tremaining: 4m 42s\n",
      "2000:\tlearn: 0.0938694\ttest: 0.0977675\tbest: 0.0977675 (2000)\ttotal: 37.2s\tremaining: 2m 28s\n",
      "Stopped by overfitting detector  (1000 iterations wait)\n",
      "\n",
      "bestTest = 0.09767393674\n",
      "bestIteration = 2054\n",
      "\n",
      "Shrink model to first 2055 iterations.\n",
      "FOLD MAE = 0.09767424633878026\n",
      "0:\tlearn: 0.0960652\ttest: 0.0880052\tbest: 0.0880052 (0)\ttotal: 36.9ms\tremaining: 6m 9s\n",
      "2000:\tlearn: 0.0893944\ttest: 0.0818934\tbest: 0.0818934 (1999)\ttotal: 38.1s\tremaining: 2m 32s\n",
      "4000:\tlearn: 0.0885851\ttest: 0.0809848\tbest: 0.0809848 (3997)\ttotal: 1m 18s\tremaining: 1m 57s\n",
      "6000:\tlearn: 0.0876651\ttest: 0.0804605\tbest: 0.0804562 (5961)\ttotal: 1m 58s\tremaining: 1m 19s\n",
      "8000:\tlearn: 0.0869472\ttest: 0.0801205\tbest: 0.0800316 (7278)\ttotal: 2m 38s\tremaining: 39.7s\n",
      "Stopped by overfitting detector  (1000 iterations wait)\n",
      "\n",
      "bestTest = 0.08003160107\n",
      "bestIteration = 7278\n",
      "\n",
      "Shrink model to first 7279 iterations.\n",
      "FOLD MAE = 0.08003216960887957\n",
      "0:\tlearn: 0.0951804\ttest: 0.1003911\tbest: 0.1003911 (0)\ttotal: 27.9ms\tremaining: 4m 39s\n",
      "Stopped by overfitting detector  (1000 iterations wait)\n",
      "\n",
      "bestTest = 0.100391067\n",
      "bestIteration = 66\n",
      "\n",
      "Shrink model to first 67 iterations.\n",
      "FOLD MAE = 0.10039148140058848\n",
      "0:\tlearn: 0.0953201\ttest: 0.0984355\tbest: 0.0984355 (0)\ttotal: 29.5ms\tremaining: 4m 54s\n",
      "2000:\tlearn: 0.0879695\ttest: 0.0956049\tbest: 0.0956049 (2000)\ttotal: 38.2s\tremaining: 2m 32s\n",
      "4000:\tlearn: 0.0869880\ttest: 0.0945600\tbest: 0.0945600 (4000)\ttotal: 1m 17s\tremaining: 1m 56s\n",
      "6000:\tlearn: 0.0864173\ttest: 0.0941193\tbest: 0.0940569 (5973)\ttotal: 1m 58s\tremaining: 1m 18s\n",
      "8000:\tlearn: 0.0860788\ttest: 0.0939886\tbest: 0.0939886 (8000)\ttotal: 2m 37s\tremaining: 39.4s\n",
      "9999:\tlearn: 0.0856831\ttest: 0.0939068\tbest: 0.0939010 (9940)\ttotal: 3m 17s\tremaining: 0us\n",
      "\n",
      "bestTest = 0.0939010323\n",
      "bestIteration = 9940\n",
      "\n",
      "Shrink model to first 9941 iterations.\n",
      "FOLD MAE = 0.09390161266218625\n",
      "0:\tlearn: 0.0963912\ttest: 0.0834420\tbest: 0.0834420 (0)\ttotal: 26.1ms\tremaining: 4m 20s\n",
      "Stopped by overfitting detector  (1000 iterations wait)\n",
      "\n",
      "bestTest = 0.08344196579\n",
      "bestIteration = 9\n",
      "\n",
      "Shrink model to first 10 iterations.\n",
      "FOLD MAE = 0.08344280895079265\n",
      "0:\tlearn: 0.0963446\ttest: 0.0840939\tbest: 0.0840939 (0)\ttotal: 39.3ms\tremaining: 6m 33s\n",
      "2000:\tlearn: 0.0892216\ttest: 0.0767182\tbest: 0.0767177 (1997)\ttotal: 39.8s\tremaining: 2m 39s\n",
      "4000:\tlearn: 0.0886993\ttest: 0.0761043\tbest: 0.0761043 (4000)\ttotal: 1m 20s\tremaining: 2m 1s\n",
      "6000:\tlearn: 0.0881402\ttest: 0.0750097\tbest: 0.0750096 (5964)\ttotal: 2m 1s\tremaining: 1m 21s\n",
      "8000:\tlearn: 0.0877858\ttest: 0.0744892\tbest: 0.0744753 (7675)\ttotal: 2m 42s\tremaining: 40.5s\n",
      "9999:\tlearn: 0.0876247\ttest: 0.0742916\tbest: 0.0742916 (9994)\ttotal: 3m 22s\tremaining: 0us\n",
      "\n",
      "bestTest = 0.07429157015\n",
      "bestIteration = 9994\n",
      "\n",
      "Shrink model to first 9995 iterations.\n",
      "FOLD MAE = 0.07429307385517091\n",
      "0:\tlearn: 0.0950873\ttest: 0.1016949\tbest: 0.1016949 (0)\ttotal: 27.9ms\tremaining: 4m 38s\n",
      "Stopped by overfitting detector  (1000 iterations wait)\n",
      "\n",
      "bestTest = 0.1016948921\n",
      "bestIteration = 11\n",
      "\n",
      "Shrink model to first 12 iterations.\n",
      "FOLD MAE = 0.10169570603478773\n",
      "0:\tlearn: 0.0953667\ttest: 0.0977836\tbest: 0.0977836 (0)\ttotal: 27ms\tremaining: 4m 30s\n",
      "Stopped by overfitting detector  (1000 iterations wait)\n",
      "\n",
      "bestTest = 0.09778353698\n",
      "bestIteration = 19\n",
      "\n",
      "Shrink model to first 20 iterations.\n",
      "FOLD MAE = 0.09778423486253024\n",
      "0:\tlearn: 0.0955530\ttest: 0.0951760\tbest: 0.0951760 (0)\ttotal: 28.9ms\tremaining: 4m 48s\n",
      "Stopped by overfitting detector  (1000 iterations wait)\n",
      "\n",
      "bestTest = 0.09517598025\n",
      "bestIteration = 22\n",
      "\n",
      "Shrink model to first 23 iterations.\n",
      "FOLD MAE = 0.09517671070978749\n",
      "0:\tlearn: 0.0962049\ttest: 0.0860495\tbest: 0.0860495 (0)\ttotal: 27.5ms\tremaining: 4m 34s\n",
      "2000:\tlearn: 0.0939490\ttest: 0.0841807\tbest: 0.0841807 (2000)\ttotal: 38.2s\tremaining: 2m 32s\n",
      "Stopped by overfitting detector  (1000 iterations wait)\n",
      "\n",
      "bestTest = 0.08042844134\n",
      "bestIteration = 2766\n",
      "\n",
      "Shrink model to first 2767 iterations.\n",
      "FOLD MAE = 0.08042889041022873\n",
      "0:\tlearn: 0.0946217\ttest: 0.1082138\tbest: 0.1082138 (0)\ttotal: 29.1ms\tremaining: 4m 50s\n",
      "2000:\tlearn: 0.0884583\ttest: 0.0991642\tbest: 0.0991642 (2000)\ttotal: 36.2s\tremaining: 2m 24s\n",
      "Stopped by overfitting detector  (1000 iterations wait)\n",
      "\n",
      "bestTest = 0.09888896491\n",
      "bestIteration = 2587\n",
      "\n",
      "Shrink model to first 2588 iterations.\n",
      "FOLD MAE = 0.09888997982569382\n",
      "0:\tlearn: 0.0956416\ttest: 0.0939335\tbest: 0.0939335 (0)\ttotal: 36.5ms\tremaining: 6m 4s\n",
      "2000:\tlearn: 0.0951023\ttest: 0.0934897\tbest: 0.0934897 (1999)\ttotal: 38.9s\tremaining: 2m 35s\n",
      "4000:\tlearn: 0.0943861\ttest: 0.0921763\tbest: 0.0921639 (3930)\ttotal: 1m 21s\tremaining: 2m 2s\n",
      "6000:\tlearn: 0.0885298\ttest: 0.0833625\tbest: 0.0833611 (5995)\ttotal: 2m 3s\tremaining: 1m 22s\n",
      "8000:\tlearn: 0.0869717\ttest: 0.0825901\tbest: 0.0820461 (7687)\ttotal: 2m 45s\tremaining: 41.3s\n",
      "Stopped by overfitting detector  (1000 iterations wait)\n",
      "\n",
      "bestTest = 0.082046076\n",
      "bestIteration = 7687\n",
      "\n",
      "Shrink model to first 7688 iterations.\n",
      "FOLD MAE = 0.08204874031699211\n",
      "\n",
      "CatBoostRegressor MAE = 0.09092451700680909\n"
     ]
    }
   ],
   "source": [
    "cb_pred = np.zeros((test_x.shape[0]))\n",
    "mae_list = []\n",
    "for tr_idx, val_idx in kf.split(ftr):\n",
    "    tr_x, val_x = ftr.iloc[tr_idx], ftr.iloc[val_idx]\n",
    "    tr_y, val_y = target.iloc[tr_idx], target.iloc[val_idx]\n",
    "    train_data = Pool(data = tr_x, label = tr_y, cat_features = cat_features)\n",
    "    val_data = Pool(data = val_x, label = val_y, cat_features = cat_features)\n",
    "    cb.fit(train_data, eval_set = val_data, early_stopping_rounds=1000, use_best_model=True, verbose=2000)\n",
    "    best = cb.best_iteration_\n",
    "    pred = cb.predict(val_x, ntree_end = best)\n",
    "    mae = mean_absolute_error(val_y, pred)\n",
    "    mae_list.append(mae)\n",
    "    print(f'FOLD MAE = {mae}')\n",
    "    sub_pred = cb.predict(test_x, ntree_end = best) / 15\n",
    "    cb_pred += sub_pred\n",
    "print(f'\\n{cb.__class__.__name__} MAE = {np.mean(mae_list)}')"
   ]
  },
  {
   "cell_type": "code",
   "execution_count": 65,
   "metadata": {},
   "outputs": [
    {
     "data": {
      "text/plain": [
       "(5754,)"
      ]
     },
     "execution_count": 65,
     "metadata": {},
     "output_type": "execute_result"
    }
   ],
   "source": [
    "cb_pred.shape"
   ]
  },
  {
   "cell_type": "code",
   "execution_count": null,
   "metadata": {},
   "outputs": [],
   "source": []
  },
  {
   "cell_type": "code",
   "execution_count": null,
   "metadata": {},
   "outputs": [],
   "source": []
  },
  {
   "cell_type": "code",
   "execution_count": null,
   "metadata": {},
   "outputs": [],
   "source": []
  },
  {
   "cell_type": "code",
   "execution_count": null,
   "metadata": {},
   "outputs": [],
   "source": []
  },
  {
   "cell_type": "code",
   "execution_count": null,
   "metadata": {},
   "outputs": [],
   "source": []
  },
  {
   "cell_type": "code",
   "execution_count": null,
   "metadata": {},
   "outputs": [],
   "source": []
  },
  {
   "cell_type": "code",
   "execution_count": null,
   "metadata": {},
   "outputs": [],
   "source": []
  },
  {
   "cell_type": "markdown",
   "metadata": {},
   "source": [
    "### pseudo labeling"
   ]
  },
  {
   "cell_type": "code",
   "execution_count": null,
   "metadata": {},
   "outputs": [],
   "source": []
  },
  {
   "cell_type": "code",
   "execution_count": null,
   "metadata": {},
   "outputs": [],
   "source": []
  },
  {
   "cell_type": "code",
   "execution_count": null,
   "metadata": {},
   "outputs": [],
   "source": []
  },
  {
   "cell_type": "code",
   "execution_count": null,
   "metadata": {},
   "outputs": [],
   "source": []
  },
  {
   "cell_type": "code",
   "execution_count": null,
   "metadata": {},
   "outputs": [],
   "source": []
  },
  {
   "cell_type": "code",
   "execution_count": null,
   "metadata": {},
   "outputs": [],
   "source": []
  },
  {
   "cell_type": "markdown",
   "metadata": {},
   "source": [
    "### submission"
   ]
  },
  {
   "cell_type": "code",
   "execution_count": 66,
   "metadata": {},
   "outputs": [],
   "source": [
    "submission['pred'] = cb_pred"
   ]
  },
  {
   "cell_type": "code",
   "execution_count": 63,
   "metadata": {},
   "outputs": [
    {
     "data": {
      "text/plain": [
       "0       0\n",
       "1       0\n",
       "2       0\n",
       "3       0\n",
       "4       0\n",
       "       ..\n",
       "5749    0\n",
       "5750    0\n",
       "5751    0\n",
       "5752    0\n",
       "5753    0\n",
       "Name: pred, Length: 5754, dtype: int32"
      ]
     },
     "execution_count": 63,
     "metadata": {},
     "output_type": "execute_result"
    }
   ],
   "source": [
    "submission['pred'].astype(int)"
   ]
  },
  {
   "cell_type": "code",
   "execution_count": 67,
   "metadata": {},
   "outputs": [],
   "source": [
    "submission['pred'] = submission['pred'].apply(lambda x : 1 if x >= 0.5 else 0)"
   ]
  },
  {
   "cell_type": "code",
   "execution_count": 68,
   "metadata": {},
   "outputs": [
    {
     "data": {
      "text/plain": [
       "0    5706\n",
       "1      48\n",
       "Name: pred, dtype: int64"
      ]
     },
     "execution_count": 68,
     "metadata": {},
     "output_type": "execute_result"
    }
   ],
   "source": [
    "submission['pred'].value_counts()"
   ]
  },
  {
   "cell_type": "code",
   "execution_count": 69,
   "metadata": {},
   "outputs": [],
   "source": [
    "submission.to_csv('1107_catboost.csv')"
   ]
  },
  {
   "cell_type": "code",
   "execution_count": null,
   "metadata": {},
   "outputs": [],
   "source": []
  }
 ],
 "metadata": {
  "kernelspec": {
   "display_name": "Python 3",
   "language": "python",
   "name": "python3"
  },
  "language_info": {
   "codemirror_mode": {
    "name": "ipython",
    "version": 3
   },
   "file_extension": ".py",
   "mimetype": "text/x-python",
   "name": "python",
   "nbconvert_exporter": "python",
   "pygments_lexer": "ipython3",
   "version": "3.8.5"
  },
  "varInspector": {
   "cols": {
    "lenName": 16,
    "lenType": 16,
    "lenVar": 40
   },
   "kernels_config": {
    "python": {
     "delete_cmd_postfix": "",
     "delete_cmd_prefix": "del ",
     "library": "var_list.py",
     "varRefreshCmd": "print(var_dic_list())"
    },
    "r": {
     "delete_cmd_postfix": ") ",
     "delete_cmd_prefix": "rm(",
     "library": "var_list.r",
     "varRefreshCmd": "cat(var_dic_list()) "
    }
   },
   "types_to_exclude": [
    "module",
    "function",
    "builtin_function_or_method",
    "instance",
    "_Feature"
   ],
   "window_display": false
  }
 },
 "nbformat": 4,
 "nbformat_minor": 4
}
